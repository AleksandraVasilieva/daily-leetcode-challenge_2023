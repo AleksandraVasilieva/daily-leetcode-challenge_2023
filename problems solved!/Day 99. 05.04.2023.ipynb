{
 "cells": [
  {
   "cell_type": "markdown",
   "id": "d9b9f919",
   "metadata": {},
   "source": [
    "# 1920. Build Array from Permutation\n",
    "\n",
    "easy\n",
    "\n",
    "https://leetcode.com/problems/build-array-from-permutation/description/\n",
    "    \n",
    "Given a zero-based permutation nums (0-indexed), build an array ans of the same length where ans[i] = nums[nums[i]] for each 0 <= i < nums.length and return it.\n",
    "\n",
    "A zero-based permutation nums is an array of distinct integers from 0 to nums.length - 1 (inclusive).\n",
    "\n",
    " \n",
    "\n",
    "Example 1:\n",
    "\n",
    "Input: nums = [0,2,1,5,3,4]\n",
    "\n",
    "Output: [0,1,2,4,5,3]\n",
    "Explanation: The array ans is built as follows: \n",
    "ans = [nums[nums[0]], nums[nums[1]], nums[nums[2]], nums[nums[3]], nums[nums[4]], nums[nums[5]]]\n",
    "    = [nums[0], nums[2], nums[1], nums[5], nums[3], nums[4]]\n",
    "    = [0,1,2,4,5,3]"
   ]
  },
  {
   "cell_type": "code",
   "execution_count": 2,
   "id": "3e9afd74",
   "metadata": {},
   "outputs": [
    {
     "data": {
      "text/plain": [
       "[0, 1, 2, 4, 5, 3]"
      ]
     },
     "execution_count": 2,
     "metadata": {},
     "output_type": "execute_result"
    }
   ],
   "source": [
    "nums = [0,2,1,5,3,4]\n",
    "answer = [0 for i in range(len(nums))]\n",
    "\n",
    "for index, value in enumerate(nums):\n",
    "    answer[index] = nums[value]\n",
    "    \n",
    "answer"
   ]
  }
 ],
 "metadata": {
  "kernelspec": {
   "display_name": "Python 3",
   "language": "python",
   "name": "python3"
  },
  "language_info": {
   "codemirror_mode": {
    "name": "ipython",
    "version": 3
   },
   "file_extension": ".py",
   "mimetype": "text/x-python",
   "name": "python",
   "nbconvert_exporter": "python",
   "pygments_lexer": "ipython3",
   "version": "3.7.13"
  }
 },
 "nbformat": 4,
 "nbformat_minor": 5
}
