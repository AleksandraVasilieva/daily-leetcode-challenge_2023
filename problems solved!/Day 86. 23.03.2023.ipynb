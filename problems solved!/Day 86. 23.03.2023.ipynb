{
 "cells": [
  {
   "cell_type": "markdown",
   "id": "a47fc453",
   "metadata": {},
   "source": [
    "# 627. Swap Salary\n",
    "\n",
    "easy\n",
    "\n",
    "https://leetcode.com/problems/swap-salary/description/\n",
    "    \n",
    "Write an SQL query to swap all 'f' and 'm' values (i.e., change all 'f' values to 'm' and vice versa) with a single update statement and no intermediate temporary tables.\n",
    "\n",
    "Note that you must write a single update statement, do not write any select statement for this problem."
   ]
  },
  {
   "cell_type": "markdown",
   "id": "99cdc222",
   "metadata": {},
   "source": [
    "# Option 1: CASE\n",
    "\n",
    "\n",
    "update salary\n",
    "\n",
    "set = \n",
    "    (CASE sex \n",
    "    \n",
    "    WHEN 'f' THEN 'm' \n",
    "    \n",
    "    ELSE 'f' END)"
   ]
  },
  {
   "cell_type": "markdown",
   "id": "ded13252",
   "metadata": {},
   "source": [
    "# Option 2: Tertiary operator\n",
    "\n",
    "UPDATE salary\n",
    "\n",
    "SET sex = \n",
    "\n",
    "    IF(sex = 'm', 'f', 'm')"
   ]
  },
  {
   "cell_type": "markdown",
   "id": "50974977",
   "metadata": {},
   "source": [
    "# Option 3: REPLACE function\n",
    "\n",
    "It actually works here as *delete*"
   ]
  },
  {
   "cell_type": "markdown",
   "id": "cb178b22",
   "metadata": {},
   "source": [
    "UPDATE Salary\n",
    "\n",
    "set sex = REPLACE('fm', sex, '')"
   ]
  }
 ],
 "metadata": {
  "kernelspec": {
   "display_name": "Python 3 (ipykernel)",
   "language": "python",
   "name": "python3"
  },
  "language_info": {
   "codemirror_mode": {
    "name": "ipython",
    "version": 3
   },
   "file_extension": ".py",
   "mimetype": "text/x-python",
   "name": "python",
   "nbconvert_exporter": "python",
   "pygments_lexer": "ipython3",
   "version": "3.9.12"
  }
 },
 "nbformat": 4,
 "nbformat_minor": 5
}
