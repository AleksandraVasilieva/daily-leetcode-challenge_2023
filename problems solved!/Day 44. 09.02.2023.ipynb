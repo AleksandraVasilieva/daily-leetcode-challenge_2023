{
 "cells": [
  {
   "cell_type": "markdown",
   "id": "960033f4",
   "metadata": {},
   "source": [
    "# 605. Can Place Flowers\n",
    "\n",
    "https://leetcode.com/problems/can-place-flowers/description/\n",
    "    \n",
    "    \n",
    "You have a long flowerbed in which some of the plots are planted, and some are not. However, flowers cannot be planted in adjacent plots.\n",
    "\n",
    "Given an integer array flowerbed containing 0's and 1's, where 0 means empty and 1 means not empty, and an integer n, return if n new flowers can be planted in the flowerbed without violating the no-adjacent-flowers rule."
   ]
  },
  {
   "cell_type": "markdown",
   "id": "0e12faed",
   "metadata": {},
   "source": [
    "The most inuinuitive thing for me here was to work with edge cases. So the solution was to widen the list so that the main for could take into account the cases where first 2  or last 2 elements are 0."
   ]
  },
  {
   "cell_type": "code",
   "execution_count": 35,
   "id": "321f801a",
   "metadata": {},
   "outputs": [
    {
     "data": {
      "text/plain": [
       "True"
      ]
     },
     "execution_count": 35,
     "metadata": {},
     "output_type": "execute_result"
    }
   ],
   "source": [
    "flowerbed = [1,0,0,0,1]\n",
    "\n",
    "flowerbed = [0] + flowerbed + [0]\n",
    "space = 0\n",
    "checked = []\n",
    "\n",
    "for i in range(len(flowerbed)-2):\n",
    "    if i+1 not in checked:\n",
    "        if flowerbed[i] == 0 and flowerbed[i+1] == 0 and flowerbed[i+2] == 0:\n",
    "            space += 1\n",
    "            checked.append(i)\n",
    "            checked.append(i+1)\n",
    "            checked.append(i+2)\n",
    "\n",
    "n <= space"
   ]
  },
  {
   "cell_type": "markdown",
   "id": "3df13398",
   "metadata": {},
   "source": [
    "Also one way to write a more neat code is to check the condition not element-by-element but by a slice [0, 0, 0]"
   ]
  },
  {
   "cell_type": "code",
   "execution_count": 36,
   "id": "a44f5e15",
   "metadata": {},
   "outputs": [
    {
     "data": {
      "text/plain": [
       "True"
      ]
     },
     "execution_count": 36,
     "metadata": {},
     "output_type": "execute_result"
    }
   ],
   "source": [
    "flowerbed = [1,0,0,0,1]\n",
    "\n",
    "flowerbed = [0] + flowerbed + [0]\n",
    "space = 0\n",
    "checked = []\n",
    "\n",
    "for i in range(len(flowerbed)-2):\n",
    "    if i+1 not in checked:\n",
    "        if flowerbed[i:i+3] == [0, 0, 0]:\n",
    "            space += 1\n",
    "            checked.append(i)\n",
    "            checked.append(i+1)\n",
    "            checked.append(i+2) \n",
    "\n",
    "n <= space"
   ]
  },
  {
   "cell_type": "markdown",
   "id": "cd1d297d",
   "metadata": {},
   "source": [
    "My initial solition has a checking procedure to check whether the current [0,0,0] has been worked with yet. This does not modify the array which might be an advantage but it makes code not so neat. One way to improve this is to insert a tree right away if the space is available, and during the next steps check the modifyed array."
   ]
  },
  {
   "cell_type": "code",
   "execution_count": 37,
   "id": "034a09ea",
   "metadata": {},
   "outputs": [
    {
     "data": {
      "text/plain": [
       "True"
      ]
     },
     "execution_count": 37,
     "metadata": {},
     "output_type": "execute_result"
    }
   ],
   "source": [
    "flowerbed = [1,0,0,0,1]\n",
    "\n",
    "flowerbed = [0] + flowerbed + [0]\n",
    "space = 0\n",
    "\n",
    "for i in range(len(flowerbed)):\n",
    "    if flowerbed[i:i+3] == [0, 0, 0]:\n",
    "        space += 1\n",
    "        flowerbed[i + 1] = 1\n",
    "        \n",
    "n <= space"
   ]
  }
 ],
 "metadata": {
  "kernelspec": {
   "display_name": "Python 3 (ipykernel)",
   "language": "python",
   "name": "python3"
  },
  "language_info": {
   "codemirror_mode": {
    "name": "ipython",
    "version": 3
   },
   "file_extension": ".py",
   "mimetype": "text/x-python",
   "name": "python",
   "nbconvert_exporter": "python",
   "pygments_lexer": "ipython3",
   "version": "3.9.12"
  }
 },
 "nbformat": 4,
 "nbformat_minor": 5
}
