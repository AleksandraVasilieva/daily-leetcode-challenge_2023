{
 "cells": [
  {
   "cell_type": "markdown",
   "id": "8869cfb1",
   "metadata": {},
   "source": [
    "# 392. Is Subsequence\n",
    "\n",
    "https://leetcode.com/problems/is-subsequence/description/\n",
    "\n",
    "Given two strings s and t, return true if s is a subsequence of t, or false otherwise.\n",
    "\n",
    "A subsequence of a string is a new string that is formed from the original string by deleting some (can be none) of the characters without disturbing the relative positions of the remaining characters. (i.e., \"ace\" is a subsequence of \"abcde\" while \"aec\" is not).\n",
    "\n",
    " \n",
    "\n",
    "Example 1:\n",
    "\n",
    "Input: s = \"abc\", t = \"ahbgdc\"\n",
    "Output: true\n",
    "Example 2:\n",
    "\n",
    "Input: s = \"axc\", t = \"ahbgdc\"\n",
    "Output: false"
   ]
  },
  {
   "cell_type": "code",
   "execution_count": 1,
   "id": "174de9b0",
   "metadata": {},
   "outputs": [],
   "source": [
    "s = \"abc\"\n",
    "t = \"ahbgdc\""
   ]
  },
  {
   "cell_type": "code",
   "execution_count": 2,
   "id": "f1178229",
   "metadata": {},
   "outputs": [
    {
     "name": "stdout",
     "output_type": "stream",
     "text": [
      "true\n"
     ]
    }
   ],
   "source": [
    "# idea: if substring elements exist in a string then their indexes should be consecutive\n",
    "previous_index = -1\n",
    "for element in list(s):\n",
    "    if element in list(t):\n",
    "        if t.find(element) > previous_index:\n",
    "            previous_index = t.find(element)\n",
    "        else: \n",
    "            print('false')\n",
    "    else:\n",
    "        print('false')\n",
    "else:\n",
    "    print('true')"
   ]
  },
  {
   "cell_type": "code",
   "execution_count": 3,
   "id": "4d1b8015",
   "metadata": {},
   "outputs": [],
   "source": [
    "# works for 16 out of 18 tests. Needs correction\n",
    "def is_subsequence(substring, string):\n",
    "    previous_index = -1\n",
    "    for element in list(substring):\n",
    "        if element in list(string):\n",
    "            if (string.find(element) > previous_index):\n",
    "                previous_index = string.find(element)\n",
    "            else: \n",
    "                return False\n",
    "        else:\n",
    "            return False\n",
    "    return True"
   ]
  },
  {
   "cell_type": "code",
   "execution_count": 4,
   "id": "76864d4e",
   "metadata": {},
   "outputs": [
    {
     "data": {
      "text/plain": [
       "False"
      ]
     },
     "execution_count": 4,
     "metadata": {},
     "output_type": "execute_result"
    }
   ],
   "source": [
    "# breaks here\n",
    "is_subsequence(\"ab\", \"bbbbbbab\")\n",
    "#is_subsequence(\"axc\", \"ahbgdc\")"
   ]
  },
  {
   "cell_type": "code",
   "execution_count": 10,
   "id": "1a6bf77a",
   "metadata": {},
   "outputs": [
    {
     "data": {
      "text/plain": [
       "'cba'"
      ]
     },
     "execution_count": 10,
     "metadata": {},
     "output_type": "execute_result"
    }
   ],
   "source": [
    "# revising the join method\n",
    "''.join((list('abc')[::-1]))"
   ]
  },
  {
   "cell_type": "code",
   "execution_count": 9,
   "id": "c33ef5b1",
   "metadata": {},
   "outputs": [
    {
     "data": {
      "text/plain": [
       "'What a beautiful day'"
      ]
     },
     "execution_count": 9,
     "metadata": {},
     "output_type": "execute_result"
    }
   ],
   "source": [
    "' '.join(['What', 'a', 'beautiful', 'day'])"
   ]
  },
  {
   "cell_type": "code",
   "execution_count": 24,
   "id": "03e09259",
   "metadata": {},
   "outputs": [],
   "source": [
    "# passes 13 out of 18 tests. Needs correction\n",
    "def is_subsequence(substring, string):\n",
    "    previous_index = -1\n",
    "    string_reversed = ''.join(list(string)[::-1])\n",
    "    for element in list(substring):\n",
    "        if element in list(string):\n",
    "            if ((string.find(element) > previous_index) \n",
    "            or ((len(string) - string_reversed.find(element)) > previous_index)):\n",
    "                previous_index = string.find(element)\n",
    "            else: \n",
    "                return False\n",
    "        else:\n",
    "            return False\n",
    "    return True"
   ]
  },
  {
   "cell_type": "code",
   "execution_count": 20,
   "id": "0cdce88d",
   "metadata": {},
   "outputs": [
    {
     "data": {
      "text/plain": [
       "True"
      ]
     },
     "execution_count": 20,
     "metadata": {},
     "output_type": "execute_result"
    }
   ],
   "source": [
    "is_subsequence(\"ab\", \"bbbbbbab\")"
   ]
  },
  {
   "cell_type": "code",
   "execution_count": 21,
   "id": "70672874",
   "metadata": {},
   "outputs": [
    {
     "data": {
      "text/plain": [
       "True"
      ]
     },
     "execution_count": 21,
     "metadata": {},
     "output_type": "execute_result"
    }
   ],
   "source": [
    "is_subsequence(\"abc\", \"ahbgdc\")"
   ]
  },
  {
   "cell_type": "code",
   "execution_count": 22,
   "id": "b38d1c0c",
   "metadata": {},
   "outputs": [
    {
     "data": {
      "text/plain": [
       "False"
      ]
     },
     "execution_count": 22,
     "metadata": {},
     "output_type": "execute_result"
    }
   ],
   "source": [
    "is_subsequence(\"axc\", \"ahbgdc\")"
   ]
  },
  {
   "cell_type": "code",
   "execution_count": 23,
   "id": "c4e112de",
   "metadata": {},
   "outputs": [
    {
     "data": {
      "text/plain": [
       "True"
      ]
     },
     "execution_count": 23,
     "metadata": {},
     "output_type": "execute_result"
    }
   ],
   "source": [
    "# breaks here\n",
    "is_subsequence(\"aaaaaa\", \"bbaaaa\")"
   ]
  },
  {
   "cell_type": "code",
   "execution_count": 26,
   "id": "247d9b4b",
   "metadata": {},
   "outputs": [
    {
     "data": {
      "text/plain": [
       "'erty'"
      ]
     },
     "execution_count": 26,
     "metadata": {},
     "output_type": "execute_result"
    }
   ],
   "source": [
    "'qwerty'[2:]"
   ]
  },
  {
   "cell_type": "code",
   "execution_count": 51,
   "id": "9322f3d6",
   "metadata": {},
   "outputs": [],
   "source": [
    "# idea: cutting the string as another element is found \n",
    "def is_subsequence(substring, string):\n",
    "    previous_index = -1\n",
    "    letters = list(string)\n",
    "    for element in list(substring):\n",
    "        if element in letters:\n",
    "            index_of_element = (''.join(letters)).find(element)\n",
    "            if (index_of_element > -1):\n",
    "                previous_index = index_of_element\n",
    "                letters = letters[(index_of_element +1):]          \n",
    "            else: \n",
    "                return False\n",
    "        else:\n",
    "            return False\n",
    "    return True"
   ]
  },
  {
   "cell_type": "code",
   "execution_count": 56,
   "id": "2e4fedea",
   "metadata": {},
   "outputs": [
    {
     "data": {
      "text/plain": [
       "False"
      ]
     },
     "execution_count": 56,
     "metadata": {},
     "output_type": "execute_result"
    }
   ],
   "source": [
    "is_subsequence(\"aaaaaa\", \"bbaaaa\")"
   ]
  },
  {
   "cell_type": "code",
   "execution_count": 52,
   "id": "fa5b4528",
   "metadata": {},
   "outputs": [
    {
     "data": {
      "text/plain": [
       "False"
      ]
     },
     "execution_count": 52,
     "metadata": {},
     "output_type": "execute_result"
    }
   ],
   "source": [
    "is_subsequence(\"axc\", \"ahbgdc\")"
   ]
  },
  {
   "cell_type": "code",
   "execution_count": 55,
   "id": "80cb5522",
   "metadata": {},
   "outputs": [
    {
     "data": {
      "text/plain": [
       "True"
      ]
     },
     "execution_count": 55,
     "metadata": {},
     "output_type": "execute_result"
    }
   ],
   "source": [
    "is_subsequence(\"abc\", \"ahbgdc\")"
   ]
  },
  {
   "cell_type": "code",
   "execution_count": 54,
   "id": "3984e0e6",
   "metadata": {},
   "outputs": [
    {
     "data": {
      "text/plain": [
       "True"
      ]
     },
     "execution_count": 54,
     "metadata": {},
     "output_type": "execute_result"
    }
   ],
   "source": [
    "is_subsequence(\"ab\", \"bbbbbbab\")"
   ]
  },
  {
   "cell_type": "markdown",
   "id": "76265c63",
   "metadata": {},
   "source": [
    "## Correct! Beats 93% of solutions (speed)"
   ]
  },
  {
   "cell_type": "code",
   "execution_count": 59,
   "id": "ed8094fb",
   "metadata": {},
   "outputs": [],
   "source": [
    "class Solution:\n",
    "    def isSubsequence(self, substring: str, string: str) -> bool:\n",
    "        previous_index = -1\n",
    "        letters = list(string)\n",
    "        for element in list(substring):\n",
    "            if element in letters:\n",
    "                index_of_element = (''.join(letters)).find(element)\n",
    "                if (index_of_element > -1):\n",
    "                    previous_index = index_of_element\n",
    "                    letters = letters[(index_of_element +1):]          \n",
    "                else: \n",
    "                    return False\n",
    "            else:\n",
    "                return False\n",
    "        return True"
   ]
  },
  {
   "cell_type": "markdown",
   "id": "9b2c4224",
   "metadata": {},
   "source": [
    "## More effective memory results. Beats 81%:"
   ]
  },
  {
   "cell_type": "code",
   "execution_count": null,
   "id": "ac6c5b0a",
   "metadata": {},
   "outputs": [],
   "source": [
    "class Solution:\n",
    "    def isSubsequence(self, substring: str, string: str) -> bool:\n",
    "        previous_index = -1\n",
    "        for element in substring:\n",
    "            if element in string:\n",
    "                index_of_element = string.find(element)\n",
    "                if (index_of_element > -1):\n",
    "                    previous_index = index_of_element\n",
    "                    string = string[(index_of_element +1):]          \n",
    "                else: \n",
    "                    return False\n",
    "            else:\n",
    "                return False\n",
    "        return True"
   ]
  },
  {
   "cell_type": "markdown",
   "id": "44799642",
   "metadata": {},
   "source": [
    "## Part 2. Revising an even better submit from the community (not my code)\n",
    "\n",
    "https://leetcode.com/problems/is-subsequence/solutions/87261/o-n-python-beats-95/"
   ]
  },
  {
   "cell_type": "code",
   "execution_count": 58,
   "id": "825f84ef",
   "metadata": {},
   "outputs": [
    {
     "data": {
      "text/plain": [
       "True"
      ]
     },
     "execution_count": 58,
     "metadata": {},
     "output_type": "execute_result"
    }
   ],
   "source": [
    "'a' in 'abc'"
   ]
  },
  {
   "cell_type": "code",
   "execution_count": 60,
   "id": "f4c40516",
   "metadata": {},
   "outputs": [
    {
     "data": {
      "text/plain": [
       "2"
      ]
     },
     "execution_count": 60,
     "metadata": {},
     "output_type": "execute_result"
    }
   ],
   "source": [
    "'abc'.index('c')"
   ]
  },
  {
   "cell_type": "code",
   "execution_count": 61,
   "id": "b2aabd96",
   "metadata": {},
   "outputs": [],
   "source": [
    "# uses the same approach with cutting the string but does it more neatly!\n",
    "\n",
    "def better_isSubsequence(substring, string):\n",
    "    for element in substring:\n",
    "        if element not in string: # without turning into a list\n",
    "            return False\n",
    "        string = string[string.index(element)+1:]  #using index method\n",
    "        return True"
   ]
  }
 ],
 "metadata": {
  "kernelspec": {
   "display_name": "Python 3 (ipykernel)",
   "language": "python",
   "name": "python3"
  },
  "language_info": {
   "codemirror_mode": {
    "name": "ipython",
    "version": 3
   },
   "file_extension": ".py",
   "mimetype": "text/x-python",
   "name": "python",
   "nbconvert_exporter": "python",
   "pygments_lexer": "ipython3",
   "version": "3.9.12"
  }
 },
 "nbformat": 4,
 "nbformat_minor": 5
}
