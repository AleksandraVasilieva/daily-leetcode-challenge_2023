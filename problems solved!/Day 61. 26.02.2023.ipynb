{
 "cells": [
  {
   "cell_type": "markdown",
   "id": "c61d2b3b",
   "metadata": {},
   "source": [
    "# 242. Valid Anagram\n",
    "\n",
    "https://leetcode.com/problems/valid-anagram/description/\n",
    "\n",
    "Given two strings s and t, return true if t is an anagram of s, and false otherwise.\n",
    "\n",
    "An Anagram is a word or phrase formed by rearranging the letters of a different word or phrase, typically using all the original letters exactly once.\n",
    "\n",
    "\n",
    "Example 1:\n",
    "\n",
    "Input: s = \"anagram\", t = \"nagaram\"\n",
    "Output: true\n",
    "\n",
    "Example 2:\n",
    "\n",
    "Input: s = \"rat\", t = \"car\"\n",
    "Output: false"
   ]
  },
  {
   "cell_type": "markdown",
   "id": "a9bb6a81",
   "metadata": {},
   "source": [
    "# Method 1: counting"
   ]
  },
  {
   "cell_type": "code",
   "execution_count": 4,
   "id": "6b219f81",
   "metadata": {},
   "outputs": [],
   "source": [
    "s = \"anagram\"\n",
    "t = \"nagaram\"\n",
    "\n",
    "for i in s:\n",
    "    if s.count(i) != t.count(i):\n",
    "        print('not okay')\n",
    "        \n",
    "for i in t:\n",
    "    if t.count(i) != s.count(i):\n",
    "        print('not okay')"
   ]
  },
  {
   "cell_type": "markdown",
   "id": "4c6d5bd5",
   "metadata": {},
   "source": [
    "# Method 2: sorting"
   ]
  },
  {
   "cell_type": "code",
   "execution_count": 11,
   "id": "ad712349",
   "metadata": {},
   "outputs": [
    {
     "data": {
      "text/plain": [
       "[' ', '-', '1', '3', '3', '4', '4', '9', 'd', 'f', 'i', 'n', 'o']"
      ]
     },
     "execution_count": 11,
     "metadata": {},
     "output_type": "execute_result"
    }
   ],
   "source": [
    "sorted('noidf 13-9434')"
   ]
  },
  {
   "cell_type": "code",
   "execution_count": 7,
   "id": "5f4c9016",
   "metadata": {},
   "outputs": [
    {
     "data": {
      "text/plain": [
       "True"
      ]
     },
     "execution_count": 7,
     "metadata": {},
     "output_type": "execute_result"
    }
   ],
   "source": [
    "s = \"anagram\"\n",
    "t = \"nagaram\"\n",
    "\n",
    "sorted(s) == sorted(t)"
   ]
  },
  {
   "cell_type": "markdown",
   "id": "b957a04e",
   "metadata": {},
   "source": [
    "# Method 3: dictionary"
   ]
  },
  {
   "cell_type": "code",
   "execution_count": 13,
   "id": "c7ad77e2",
   "metadata": {},
   "outputs": [
    {
     "data": {
      "text/plain": [
       "True"
      ]
     },
     "execution_count": 13,
     "metadata": {},
     "output_type": "execute_result"
    }
   ],
   "source": [
    "s = \"anagram\"\n",
    "t = \"nagaram\"\n",
    "\n",
    "def get_dict(s):\n",
    "    my_dict = dict()\n",
    "    \n",
    "    for i in s:\n",
    "        if i not in my_dict.keys():\n",
    "            my_dict[i] = 1\n",
    "        else:\n",
    "            my_dict[i] += 1\n",
    "    \n",
    "    return my_dict\n",
    "\n",
    "get_dict(s) == get_dict(t)"
   ]
  }
 ],
 "metadata": {
  "kernelspec": {
   "display_name": "Python 3 (ipykernel)",
   "language": "python",
   "name": "python3"
  },
  "language_info": {
   "codemirror_mode": {
    "name": "ipython",
    "version": 3
   },
   "file_extension": ".py",
   "mimetype": "text/x-python",
   "name": "python",
   "nbconvert_exporter": "python",
   "pygments_lexer": "ipython3",
   "version": "3.9.12"
  }
 },
 "nbformat": 4,
 "nbformat_minor": 5
}
