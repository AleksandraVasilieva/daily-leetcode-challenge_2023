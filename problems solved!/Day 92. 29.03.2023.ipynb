{
 "cells": [
  {
   "cell_type": "markdown",
   "id": "51b8b174",
   "metadata": {},
   "source": [
    "# 586. Customer Placing the Largest Number of Orders\n",
    "\n",
    "easy\n",
    "\n",
    "https://leetcode.com/problems/customer-placing-the-largest-number-of-orders/description/\n",
    "    \n",
    "Write an SQL query to find the customer_number for the customer who has placed the largest number of orders.\n",
    "\n",
    "The test cases are generated so that exactly one customer will have placed more orders than any other customer."
   ]
  },
  {
   "cell_type": "markdown",
   "id": "fdeff17f",
   "metadata": {},
   "source": [
    "# Option 1: CTE \n",
    "\n",
    "with counted as (\n",
    "\n",
    "select customer_number, count(*) as counts\n",
    "\n",
    "from orders\n",
    "\n",
    "group by customer_number )\n",
    "\n",
    "\n",
    "select customer_number \n",
    "\n",
    "from counted\n",
    "\n",
    "where counts =  (select max(counts) from counted)"
   ]
  },
  {
   "cell_type": "markdown",
   "id": "2fcb4a53",
   "metadata": {},
   "source": [
    "# Option 2: ordering\n",
    "\n",
    "select customer_number\n",
    "\n",
    "from orders\n",
    "\n",
    "group by 1\n",
    "\n",
    "order by count(*) desc\n",
    "\n",
    "limit 1"
   ]
  }
 ],
 "metadata": {
  "kernelspec": {
   "display_name": "Python 3",
   "language": "python",
   "name": "python3"
  },
  "language_info": {
   "codemirror_mode": {
    "name": "ipython",
    "version": 3
   },
   "file_extension": ".py",
   "mimetype": "text/x-python",
   "name": "python",
   "nbconvert_exporter": "python",
   "pygments_lexer": "ipython3",
   "version": "3.7.13"
  }
 },
 "nbformat": 4,
 "nbformat_minor": 5
}
