{
 "cells": [
  {
   "cell_type": "markdown",
   "id": "16aa14de",
   "metadata": {},
   "source": [
    "# 595. Big Countries\n",
    "\n",
    "https://leetcode.com/problems/big-countries/description/\n",
    "    \n",
    "easy\n",
    "\n",
    "Write an SQL query to report the name, population, and area of the big countries."
   ]
  },
  {
   "cell_type": "markdown",
   "id": "1640d04f",
   "metadata": {},
   "source": [
    "select name, population, area\n",
    "\n",
    "from world\n",
    "\n",
    "where area >= 3000000 or population >= 25000000"
   ]
  }
 ],
 "metadata": {
  "kernelspec": {
   "display_name": "Python 3 (ipykernel)",
   "language": "python",
   "name": "python3"
  },
  "language_info": {
   "codemirror_mode": {
    "name": "ipython",
    "version": 3
   },
   "file_extension": ".py",
   "mimetype": "text/x-python",
   "name": "python",
   "nbconvert_exporter": "python",
   "pygments_lexer": "ipython3",
   "version": "3.9.12"
  }
 },
 "nbformat": 4,
 "nbformat_minor": 5
}
