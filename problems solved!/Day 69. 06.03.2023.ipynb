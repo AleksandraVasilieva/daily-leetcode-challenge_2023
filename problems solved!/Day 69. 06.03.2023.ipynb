{
 "cells": [
  {
   "cell_type": "markdown",
   "id": "737abc00",
   "metadata": {},
   "source": [
    "# 3. Longest Substring Without Repeating Characters\n",
    "\n",
    "\n",
    "https://leetcode.com/problems/longest-substring-without-repeating-characters/description/\n",
    "\n",
    "Given a string s, find the length of the longest substring without repeating characters.\n",
    "\n",
    "### Sliding window technique\n",
    "\n",
    "No need to check all possible substrings. Just slide over the string each time slicing the window if a character is repeated."
   ]
  },
  {
   "cell_type": "code",
   "execution_count": 34,
   "id": "a0b2914c",
   "metadata": {},
   "outputs": [
    {
     "data": {
      "text/plain": [
       "3"
      ]
     },
     "execution_count": 34,
     "metadata": {},
     "output_type": "execute_result"
    }
   ],
   "source": [
    "s = \"abcabcbb\"\n",
    "\n",
    "current = []\n",
    "maxL = 0\n",
    "\n",
    "for i in s:\n",
    "    if i not in current:\n",
    "        current += i\n",
    "        maxL = max(maxL, len(current))\n",
    "    else:\n",
    "        idx = current.index(i)\n",
    "        current = current[idx+1:]\n",
    "        current += i\n",
    "maxL"
   ]
  }
 ],
 "metadata": {
  "kernelspec": {
   "display_name": "Python 3 (ipykernel)",
   "language": "python",
   "name": "python3"
  },
  "language_info": {
   "codemirror_mode": {
    "name": "ipython",
    "version": 3
   },
   "file_extension": ".py",
   "mimetype": "text/x-python",
   "name": "python",
   "nbconvert_exporter": "python",
   "pygments_lexer": "ipython3",
   "version": "3.9.12"
  }
 },
 "nbformat": 4,
 "nbformat_minor": 5
}
