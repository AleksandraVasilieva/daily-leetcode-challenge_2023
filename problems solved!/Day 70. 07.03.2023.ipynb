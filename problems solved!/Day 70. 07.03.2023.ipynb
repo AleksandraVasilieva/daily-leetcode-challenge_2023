{
 "cells": [
  {
   "cell_type": "markdown",
   "id": "92d24aaf",
   "metadata": {},
   "source": [
    "# 771. Jewels and Stones\n",
    "\n",
    "https://leetcode.com/problems/jewels-and-stones/description/\n",
    "    \n",
    "You're given strings jewels representing the types of stones that are jewels, and stones representing the stones you have. Each character in stones is a type of stone you have. You want to know how many of the stones you have are also jewels.\n",
    "\n",
    "Letters are case sensitive, so \"a\" is considered a different type of stone from \"A\".\n",
    "\n",
    " \n",
    "\n",
    "Example 1:\n",
    "\n",
    "Input: jewels = \"aA\", stones = \"aAAbbbb\"\n",
    "Output: 3"
   ]
  },
  {
   "cell_type": "code",
   "execution_count": 2,
   "id": "027a8b4c",
   "metadata": {},
   "outputs": [],
   "source": [
    "jewels = \"aA\"\n",
    "stones = \"aAAbbbb\""
   ]
  },
  {
   "cell_type": "code",
   "execution_count": 5,
   "id": "46068a20",
   "metadata": {},
   "outputs": [
    {
     "data": {
      "text/plain": [
       "3"
      ]
     },
     "execution_count": 5,
     "metadata": {},
     "output_type": "execute_result"
    }
   ],
   "source": [
    "len([i for i in stones if i in jewels])"
   ]
  },
  {
   "cell_type": "code",
   "execution_count": 6,
   "id": "ce47c605",
   "metadata": {},
   "outputs": [
    {
     "data": {
      "text/plain": [
       "3"
      ]
     },
     "execution_count": 6,
     "metadata": {},
     "output_type": "execute_result"
    }
   ],
   "source": [
    "sum(1 for i in stones if i in jewels)"
   ]
  }
 ],
 "metadata": {
  "kernelspec": {
   "display_name": "Python 3 (ipykernel)",
   "language": "python",
   "name": "python3"
  },
  "language_info": {
   "codemirror_mode": {
    "name": "ipython",
    "version": 3
   },
   "file_extension": ".py",
   "mimetype": "text/x-python",
   "name": "python",
   "nbconvert_exporter": "python",
   "pygments_lexer": "ipython3",
   "version": "3.9.12"
  }
 },
 "nbformat": 4,
 "nbformat_minor": 5
}
