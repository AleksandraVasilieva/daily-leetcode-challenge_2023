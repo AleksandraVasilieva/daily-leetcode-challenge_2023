{
 "cells": [
  {
   "cell_type": "markdown",
   "id": "7e9f938d",
   "metadata": {},
   "source": [
    "# 409. Longest Palindrome\n",
    "\n",
    "https://leetcode.com/problems/longest-palindrome\n",
    "\n",
    "Given a string s which consists of lowercase or uppercase letters, return the length of the longest palindrome that can be built with those letters.\n",
    "\n",
    "Letters are case sensitive, for example, \"Aa\" is not considered a palindrome here.\n",
    "\n",
    " \n",
    "\n",
    "Example 1:\n",
    "\n",
    "Input: s = \"abccccdd\"\n",
    "Output: 7\n",
    "Explanation: One longest palindrome that can be built is \"dccaccd\", whose length is 7.\n",
    "Example 2:\n",
    "\n",
    "Input: s = \"a\"\n",
    "Output: 1\n",
    "Explanation: The longest palindrome that can be built is \"a\", whose length is 1."
   ]
  },
  {
   "cell_type": "code",
   "execution_count": 16,
   "id": "e27f4e85",
   "metadata": {},
   "outputs": [
    {
     "name": "stdout",
     "output_type": "stream",
     "text": [
      "{1: 1, 3: 0, 5: 1, 2: 0, 7: 0}\n",
      "7\n"
     ]
    }
   ],
   "source": [
    "# recalling the syntax\n",
    "my_dict = {}\n",
    "\n",
    "for i in [1, 3, 5, 1, 2, 5, 7]:\n",
    "    if i in my_dict:\n",
    "        my_dict[i] =  1\n",
    "    else:\n",
    "        my_dict[i] = 0\n",
    "print(my_dict)\n",
    "print(max(my_dict))"
   ]
  },
  {
   "cell_type": "code",
   "execution_count": 25,
   "id": "97e51894",
   "metadata": {},
   "outputs": [
    {
     "name": "stdout",
     "output_type": "stream",
     "text": [
      "{'с': 3}\n",
      "2\n",
      "3\n",
      "3\n"
     ]
    }
   ],
   "source": [
    "s = \"ссс\"\n",
    "\n",
    "my_hash_map = {}\n",
    "for letter in s:\n",
    "    if letter in my_hash_map:\n",
    "        my_hash_map[letter] += 1\n",
    "    else:\n",
    "        my_hash_map[letter] = 1\n",
    "\n",
    "print(my_hash_map)\n",
    "\n",
    "# the most frequent element: for 'ccccc' case\n",
    "max_freq = 0\n",
    "\n",
    "for key in my_hash_map:\n",
    "    if my_hash_map[key] > max_freq:\n",
    "        max_freq = my_hash_map[key]\n",
    "\n",
    "two_sides_sum = 0\n",
    "ones = 0\n",
    "for element in my_hash_map:\n",
    "    two_sides_sum += (my_hash_map[element])//2*2\n",
    "    if (my_hash_map[element])%2 == 1: # aaaaa bbbb case\n",
    "        ones += 1\n",
    "print(two_sides_sum)\n",
    "if two_sides_sum < max_freq:\n",
    "    print(max_freq)\n",
    "if ones > 0:\n",
    "    print(two_sides_sum + 1)\n",
    "else:\n",
    "    print(two_sides_sum)"
   ]
  },
  {
   "cell_type": "markdown",
   "id": "ceaa1004",
   "metadata": {},
   "source": [
    "### solution"
   ]
  },
  {
   "cell_type": "code",
   "execution_count": null,
   "id": "945f9c2a",
   "metadata": {},
   "outputs": [],
   "source": [
    "class Solution:\n",
    "    def longestPalindrome(self, s: str) -> int:\n",
    "        my_hash_map = {}\n",
    "\n",
    "        for letter in s:\n",
    "            if letter in my_hash_map:\n",
    "                my_hash_map[letter] += 1\n",
    "            else:\n",
    "                my_hash_map[letter] = 1\n",
    "        two_sides_sum = 0\n",
    "        ones = 0\n",
    "        for element in my_hash_map:\n",
    "            two_sides_sum += (my_hash_map[element])//2*2\n",
    "            if (my_hash_map[element]) %2 == 1:\n",
    "                ones += 1\n",
    "                \n",
    "        # the most frequent element:\n",
    "        max_freq = 0\n",
    "        for key in my_hash_map:\n",
    "            if my_hash_map[key] > max_freq:\n",
    "                max_freq = my_hash_map[key]  \n",
    "            \n",
    "        if two_sides_sum < max_freq:\n",
    "            return(max_freq)        \n",
    "        if ones > 0:\n",
    "            return(two_sides_sum + 1)\n",
    "        else:\n",
    "            return(two_sides_sum)"
   ]
  },
  {
   "cell_type": "markdown",
   "id": "0bcf65af",
   "metadata": {},
   "source": [
    "### Revising community solution:\n",
    "\n",
    "https://leetcode.com/problems/longest-palindrome/solutions/813721/python-3-solution-using-set/?envType=study-plan&id=level-1&languageTags=python\n",
    "\n",
    "Using set!\n",
    "\n",
    "The **idea** is to find the 'neutralized' elements of a string (those that have even frequency) and return the difference between number of elements and number of neutralized elements."
   ]
  },
  {
   "cell_type": "code",
   "execution_count": 39,
   "id": "8c8c5f96",
   "metadata": {},
   "outputs": [
    {
     "name": "stdout",
     "output_type": "stream",
     "text": [
      "{'d', 'f'}\n",
      "7\n"
     ]
    }
   ],
   "source": [
    "#s = 'abc'\n",
    "s = 'abcdfabc'\n",
    "\n",
    "s_set = set()\n",
    "\n",
    "for letter in s:\n",
    "    if letter in s_set:\n",
    "        s_set.remove(letter)\n",
    "    else:\n",
    "        s_set.add(letter)\n",
    "print(s_set) # those are letters that don't have a pair\n",
    "\n",
    "if len(s_set) == 0: # if all letters have a pair\n",
    "    print(len(s)) # palindrome can be formed from the string s! We just need to change the order\n",
    "else: # if some letters do not have a pair\n",
    "    print(1 + len(s) - len(s_set)) "
   ]
  },
  {
   "cell_type": "markdown",
   "id": "b936fc26",
   "metadata": {},
   "source": [
    "If the set is empty then every element has a pair, so the max lenght of a palindrome is the lenght of a string (we just have to change the order of a string to get a palindrom).\n",
    "\n",
    "If the set is not empty then there is an element that does not have a pair. But it still can either be placed in the middle of a palindrome or be a single-letter palindrome."
   ]
  },
  {
   "cell_type": "code",
   "execution_count": null,
   "id": "e2b2aad9",
   "metadata": {},
   "outputs": [],
   "source": [
    "class Solution:\n",
    "    def longestPalindrome(self, s: str) -> int:\n",
    "        s_set = set()\n",
    "        for letter in s:\n",
    "            if letter in s_set:\n",
    "                s_set.remove(letter)\n",
    "            else:\n",
    "                s_set.add(letter)\n",
    "        if len(s_set) == 0: \n",
    "            return(len(s))\n",
    "        else:\n",
    "            return(1 + len(s) - len(s_set))"
   ]
  }
 ],
 "metadata": {
  "kernelspec": {
   "display_name": "Python 3 (ipykernel)",
   "language": "python",
   "name": "python3"
  },
  "language_info": {
   "codemirror_mode": {
    "name": "ipython",
    "version": 3
   },
   "file_extension": ".py",
   "mimetype": "text/x-python",
   "name": "python",
   "nbconvert_exporter": "python",
   "pygments_lexer": "ipython3",
   "version": "3.9.12"
  }
 },
 "nbformat": 4,
 "nbformat_minor": 5
}
