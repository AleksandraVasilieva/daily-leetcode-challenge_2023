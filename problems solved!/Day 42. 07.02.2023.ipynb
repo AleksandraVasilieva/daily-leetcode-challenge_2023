{
 "cells": [
  {
   "cell_type": "code",
   "execution_count": null,
   "id": "9f5d7c52",
   "metadata": {},
   "outputs": [],
   "source": [
    "# 500. Keyboard Row\n",
    "\n",
    "https://leetcode.com/problems/keyboard-row/description/\n",
    "    \n"
   ]
  },
  {
   "cell_type": "code",
   "execution_count": 10,
   "id": "8b7f74c0",
   "metadata": {},
   "outputs": [],
   "source": [
    "from functools import reduce"
   ]
  },
  {
   "cell_type": "code",
   "execution_count": 55,
   "id": "1a34143d",
   "metadata": {},
   "outputs": [],
   "source": [
    "kbd = [\"qwertyuiop\", \"asdfghjkl\", \"zxcvbnm\"]\n",
    "\n",
    "words = [\"Hello\",\"Alaska\",\"Dad\",\"Peace\"]"
   ]
  },
  {
   "cell_type": "markdown",
   "id": "33a22933",
   "metadata": {},
   "source": [
    "### Option 1: reduce function"
   ]
  },
  {
   "cell_type": "code",
   "execution_count": 121,
   "id": "341dd111",
   "metadata": {},
   "outputs": [
    {
     "name": "stdout",
     "output_type": "stream",
     "text": [
      "True\n",
      "True\n",
      "False\n"
     ]
    }
   ],
   "source": [
    "# idea: this code checks if all elements are odd or even\n",
    "\n",
    "print(reduce(lambda x, y: x and y, [i % 2 == 0 for i in [2, 4, 6, 10]]))\n",
    "\n",
    "print(reduce(lambda x, y: x and y, [i % 2 != 0 for i in [1, 3, 7, 11, 21]]))\n",
    "\n",
    "print(reduce(lambda x, y: x and y, [i % 2 == 0 for i in [2, 4, 5, 10]]))"
   ]
  },
  {
   "cell_type": "code",
   "execution_count": 117,
   "id": "799c2075",
   "metadata": {},
   "outputs": [
    {
     "data": {
      "text/plain": [
       "['Alaska', 'Dad']"
      ]
     },
     "execution_count": 117,
     "metadata": {},
     "output_type": "execute_result"
    }
   ],
   "source": [
    "answer = []\n",
    "\n",
    "for word in words:\n",
    "    first = reduce(lambda x, y: x and y, [i in kbd[0] for i in word.lower()])\n",
    "    second = reduce(lambda x, y: x and y, [i in kbd[1] for i in word.lower()])\n",
    "    third = reduce(lambda x, y: x and y, [i in kbd[2] for i in word.lower()])\n",
    "    \n",
    "    if first or second or third:\n",
    "        answer.append(word)\n",
    "        \n",
    "answer"
   ]
  },
  {
   "cell_type": "markdown",
   "id": "ab0a5973",
   "metadata": {},
   "source": [
    "### Option 2: all fucntion"
   ]
  },
  {
   "cell_type": "code",
   "execution_count": 124,
   "id": "27473b55",
   "metadata": {},
   "outputs": [
    {
     "name": "stdout",
     "output_type": "stream",
     "text": [
      "True\n",
      "True\n"
     ]
    }
   ],
   "source": [
    "print(all(i % 2 == 0 for i in [2, 4, 6, 8]))\n",
    "\n",
    "print(all(i % 2 != 0 for i in [1, 11, 21, 7, 73]))"
   ]
  },
  {
   "cell_type": "code",
   "execution_count": 116,
   "id": "9fdd7f0f",
   "metadata": {},
   "outputs": [
    {
     "data": {
      "text/plain": [
       "['Alaska', 'Dad']"
      ]
     },
     "execution_count": 116,
     "metadata": {},
     "output_type": "execute_result"
    }
   ],
   "source": [
    "ans = []\n",
    "\n",
    "for word in words:\n",
    "    first = all(i in kbd[0] for i in word.lower())\n",
    "    second = all(i in kbd[1] for i in word.lower())\n",
    "    third = all(i in kbd[2] for i in word.lower())\n",
    "    \n",
    "    if first or second or third:\n",
    "        ans.append(word)\n",
    "ans"
   ]
  }
 ],
 "metadata": {
  "kernelspec": {
   "display_name": "Python 3 (ipykernel)",
   "language": "python",
   "name": "python3"
  },
  "language_info": {
   "codemirror_mode": {
    "name": "ipython",
    "version": 3
   },
   "file_extension": ".py",
   "mimetype": "text/x-python",
   "name": "python",
   "nbconvert_exporter": "python",
   "pygments_lexer": "ipython3",
   "version": "3.9.12"
  }
 },
 "nbformat": 4,
 "nbformat_minor": 5
}
