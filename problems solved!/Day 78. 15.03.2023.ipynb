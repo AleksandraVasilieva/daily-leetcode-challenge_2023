{
 "cells": [
  {
   "cell_type": "markdown",
   "id": "c5144ec5",
   "metadata": {},
   "source": [
    "# 804. Unique Morse Code Words\n",
    "\n",
    "https://leetcode.com/problems/unique-morse-code-words/description/\n",
    "\n",
    "Return the number of different transformations among all words we have."
   ]
  },
  {
   "cell_type": "markdown",
   "id": "3527c862",
   "metadata": {},
   "source": [
    "## indexes"
   ]
  },
  {
   "cell_type": "code",
   "execution_count": 17,
   "id": "18c897c1",
   "metadata": {},
   "outputs": [
    {
     "data": {
      "text/plain": [
       "2"
      ]
     },
     "execution_count": 17,
     "metadata": {},
     "output_type": "execute_result"
    }
   ],
   "source": [
    "morse = [\".-\",\"-...\",\"-.-.\",\"-..\",\".\",\"..-.\",\"--.\",\"....\", \"..\",\".---\",\"-.-\",\".-..\",\"--\",\"-.\",\\\n",
    "        \"---\",\".--.\",\"--.-\",\".-.\",\"...\",\"-\",\"..-\",\"...-\",\".--\",\"-..-\",\"-.--\",\"--..\"]\n",
    "\n",
    "from string import ascii_lowercase\n",
    "alph = ascii_lowercase\n",
    "\n",
    "words = [\"gin\",\"zen\",\"gig\",\"msg\"]\n",
    "codes = []\n",
    "\n",
    "for i in words:\n",
    "    code = ''\n",
    "    for s in i:\n",
    "        code += morse[alph.index(s)]\n",
    "        \n",
    "    codes.append(code)\n",
    "    \n",
    "len(set(codes))"
   ]
  },
  {
   "cell_type": "markdown",
   "id": "58bc0049",
   "metadata": {},
   "source": [
    "## zip into dict"
   ]
  },
  {
   "cell_type": "code",
   "execution_count": 20,
   "id": "22dfa2b2",
   "metadata": {},
   "outputs": [
    {
     "data": {
      "text/plain": [
       "({'--...--.', '--...-.'}, 2)"
      ]
     },
     "execution_count": 20,
     "metadata": {},
     "output_type": "execute_result"
    }
   ],
   "source": [
    "morse = [\".-\",\"-...\",\"-.-.\",\"-..\",\".\",\"..-.\",\"--.\",\"....\", \"..\",\".---\",\"-.-\",\".-..\",\"--\",\"-.\",\\\n",
    "        \"---\",\".--.\",\"--.-\",\".-.\",\"...\",\"-\",\"..-\",\"...-\",\".--\",\"-..-\",\"-.--\",\"--..\"]\n",
    "\n",
    "alph = ascii_lowercase\n",
    "\n",
    "rules = dict(zip(alph, morse))\n",
    "\n",
    "words = [\"gin\",\"zen\",\"gig\",\"msg\"]\n",
    "\n",
    "codes = set()\n",
    "for word in words:\n",
    "    codes.add(''.join(rules[i] for i in word))\n",
    "\n",
    "codes, len(codes)"
   ]
  }
 ],
 "metadata": {
  "kernelspec": {
   "display_name": "Python 3 (ipykernel)",
   "language": "python",
   "name": "python3"
  },
  "language_info": {
   "codemirror_mode": {
    "name": "ipython",
    "version": 3
   },
   "file_extension": ".py",
   "mimetype": "text/x-python",
   "name": "python",
   "nbconvert_exporter": "python",
   "pygments_lexer": "ipython3",
   "version": "3.9.12"
  }
 },
 "nbformat": 4,
 "nbformat_minor": 5
}
