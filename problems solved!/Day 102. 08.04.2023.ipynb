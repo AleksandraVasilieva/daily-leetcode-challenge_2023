{
 "cells": [
  {
   "cell_type": "markdown",
   "id": "5715f2d1",
   "metadata": {},
   "source": [
    "# 43. Multiply Strings\n",
    "\n",
    "Medium\n",
    "\n",
    "https://leetcode.com/problems/multiply-strings/description/\n",
    "    \n",
    "Given two non-negative integers num1 and num2 represented as strings, return the product of num1 and num2, also represented as a string.\n",
    "\n",
    "Note: You must not use any built-in BigInteger library or convert the inputs to integer directly.\n",
    "\n",
    " \n",
    "Example 1:\n",
    "\n",
    "Input: num1 = \"2\", num2 = \"3\"\n",
    "Output: \"6\""
   ]
  },
  {
   "cell_type": "code",
   "execution_count": 20,
   "id": "0109ceac",
   "metadata": {},
   "outputs": [
    {
     "data": {
      "text/plain": [
       "'123'"
      ]
     },
     "execution_count": 20,
     "metadata": {},
     "output_type": "execute_result"
    }
   ],
   "source": [
    "def get_int(s):\n",
    "    x = 0\n",
    "    for index, value in enumerate(s[::-1]):\n",
    "        x += int((int(value)*10**index))\n",
    "    return x\n",
    "\n",
    "str(get_int('123'))# * get_int('3'))"
   ]
  }
 ],
 "metadata": {
  "kernelspec": {
   "display_name": "Python 3",
   "language": "python",
   "name": "python3"
  },
  "language_info": {
   "codemirror_mode": {
    "name": "ipython",
    "version": 3
   },
   "file_extension": ".py",
   "mimetype": "text/x-python",
   "name": "python",
   "nbconvert_exporter": "python",
   "pygments_lexer": "ipython3",
   "version": "3.7.13"
  }
 },
 "nbformat": 4,
 "nbformat_minor": 5
}
