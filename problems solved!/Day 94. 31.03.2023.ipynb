{
 "cells": [
  {
   "cell_type": "markdown",
   "id": "b13b5dc4",
   "metadata": {},
   "source": [
    "# 584. Find Customer Referee\n",
    "\n",
    "easy\n",
    "\n",
    "https://leetcode.com/problems/find-customer-referee/description/\n",
    "    \n",
    "    \n",
    "Write an SQL query to report the names of the customer that are not referred by the customer with id = 2."
   ]
  },
  {
   "cell_type": "markdown",
   "id": "29835fd4",
   "metadata": {},
   "source": [
    "# Option 1: straightforward\n",
    "\n",
    "select name from customer\n",
    "\n",
    "where referee_id <> 2 or referee_id is null\n",
    "\n",
    "### Fact:\n",
    "\n",
    "Null is ignored in WHERE."
   ]
  },
  {
   "cell_type": "markdown",
   "id": "da4e3fdc",
   "metadata": {},
   "source": [
    "# Coalesce function:\n",
    "\n",
    "Returns <span style=\"color:red\"> first non-null</span> value:\n",
    "\n",
    "SELECT COALESCE (Null, Null, 1, Null, 2) \n",
    "\n",
    "-> 1"
   ]
  },
  {
   "cell_type": "markdown",
   "id": "b2da98aa",
   "metadata": {},
   "source": [
    "This <span style=\"color:red\">word</span> is not black."
   ]
  },
  {
   "cell_type": "markdown",
   "id": "c1e28859",
   "metadata": {},
   "source": [
    "# Option 2: COALESCE\n",
    "\n",
    "select name from customer\n",
    "\n",
    "where **coalesce(referee_id, -1)** <> 2\n",
    "\n",
    "(Changed null id to -1 to filter)"
   ]
  }
 ],
 "metadata": {
  "kernelspec": {
   "display_name": "Python 3 (ipykernel)",
   "language": "python",
   "name": "python3"
  },
  "language_info": {
   "codemirror_mode": {
    "name": "ipython",
    "version": 3
   },
   "file_extension": ".py",
   "mimetype": "text/x-python",
   "name": "python",
   "nbconvert_exporter": "python",
   "pygments_lexer": "ipython3",
   "version": "3.9.12"
  }
 },
 "nbformat": 4,
 "nbformat_minor": 5
}
