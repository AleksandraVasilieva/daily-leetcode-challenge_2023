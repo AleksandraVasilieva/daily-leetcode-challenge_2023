{
 "cells": [
  {
   "cell_type": "markdown",
   "id": "729736a6",
   "metadata": {},
   "source": [
    "# 7. Reverse Integer\n",
    "\n",
    "https://leetcode.com/problems/reverse-integer/description/\n",
    "    \n",
    "Given a signed 32-bit integer x, return x with its digits reversed. If reversing x causes the value to go outside the signed 32-bit integer range [-231, 231 - 1], then return 0."
   ]
  },
  {
   "cell_type": "code",
   "execution_count": 13,
   "id": "24b5e039",
   "metadata": {},
   "outputs": [
    {
     "data": {
      "text/plain": [
       "-21"
      ]
     },
     "execution_count": 13,
     "metadata": {},
     "output_type": "execute_result"
    }
   ],
   "source": [
    "x = -120\n",
    "\n",
    "def sign(x):\n",
    "    if x >= 0:\n",
    "        return 1 \n",
    "    if x < 0:\n",
    "        return -1 \n",
    "\n",
    "int(''.join(list(str(x*sign(x)))[::-1]))*sign(x)"
   ]
  },
  {
   "cell_type": "code",
   "execution_count": 14,
   "id": "1fbd4de9",
   "metadata": {},
   "outputs": [],
   "source": [
    "# correct"
   ]
  },
  {
   "cell_type": "code",
   "execution_count": null,
   "id": "38206324",
   "metadata": {},
   "outputs": [],
   "source": [
    "def reverse(self, x: int) -> int:\n",
    "    def sign(x):\n",
    "        if x >= 0:\n",
    "            return 1 \n",
    "        if x < 0:\n",
    "            return -1 \n",
    "            \n",
    "    ans = int(''.join(list(str(x*sign(x)))[::-1]))*sign(x)\n",
    "\n",
    "    if ans > 2**31 - 1 or ans < -(2**31):\n",
    "        return 0\n",
    "    else: \n",
    "        return ans"
   ]
  },
  {
   "cell_type": "markdown",
   "id": "07279fd5",
   "metadata": {},
   "source": [
    "# revision"
   ]
  },
  {
   "cell_type": "code",
   "execution_count": 17,
   "id": "1ce307ef",
   "metadata": {},
   "outputs": [
    {
     "data": {
      "text/plain": [
       "7"
      ]
     },
     "execution_count": 17,
     "metadata": {},
     "output_type": "execute_result"
    }
   ],
   "source": [
    "a = 100\n",
    "a.bit_length()"
   ]
  },
  {
   "cell_type": "code",
   "execution_count": 22,
   "id": "7c4ac2b2",
   "metadata": {},
   "outputs": [
    {
     "data": {
      "text/plain": [
       "[1, 100]"
      ]
     },
     "execution_count": 22,
     "metadata": {},
     "output_type": "execute_result"
    }
   ],
   "source": [
    "a = [100, 1]\n",
    "list(reversed(a))"
   ]
  },
  {
   "cell_type": "code",
   "execution_count": null,
   "id": "0c1ce340",
   "metadata": {},
   "outputs": [],
   "source": [
    "# another solution"
   ]
  },
  {
   "cell_type": "code",
   "execution_count": 42,
   "id": "2c4e93d8",
   "metadata": {},
   "outputs": [
    {
     "data": {
      "text/plain": [
       "4301"
      ]
     },
     "execution_count": 42,
     "metadata": {},
     "output_type": "execute_result"
    }
   ],
   "source": [
    "def rvr(x):\n",
    "    ans = int(''.join(list(str(abs(x))[::-1])))\n",
    "    return (-ans if x < 0 else ans) if ans.bit_length() < 32 else 0\n",
    "\n",
    "rvr(1034)"
   ]
  },
  {
   "cell_type": "code",
   "execution_count": 45,
   "id": "e7cbcabc",
   "metadata": {},
   "outputs": [
    {
     "data": {
      "text/plain": [
       "[1.5, 1.6, 1.8, 2.4, 2.6, 3.5, 4.3, 4.8, 6.0, 7.4, 7.5]"
      ]
     },
     "execution_count": 45,
     "metadata": {},
     "output_type": "execute_result"
    }
   ],
   "source": [
    "a = [1.5, 7.4, 6.0, 4.8, 2.6, 1.8, 3.5, 4.3, 7.5, 2.4, 1.6]\n",
    "a.sort()\n",
    "a"
   ]
  }
 ],
 "metadata": {
  "kernelspec": {
   "display_name": "Python 3 (ipykernel)",
   "language": "python",
   "name": "python3"
  },
  "language_info": {
   "codemirror_mode": {
    "name": "ipython",
    "version": 3
   },
   "file_extension": ".py",
   "mimetype": "text/x-python",
   "name": "python",
   "nbconvert_exporter": "python",
   "pygments_lexer": "ipython3",
   "version": "3.9.12"
  }
 },
 "nbformat": 4,
 "nbformat_minor": 5
}
