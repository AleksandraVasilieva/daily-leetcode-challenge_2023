{
 "cells": [
  {
   "cell_type": "markdown",
   "id": "88201884",
   "metadata": {},
   "source": [
    "# 145. Binary Tree Postorder Traversal\n",
    "\n",
    "https://leetcode.com/problems/binary-tree-postorder-traversal/"
   ]
  },
  {
   "cell_type": "code",
   "execution_count": 1,
   "id": "b1440ad2",
   "metadata": {},
   "outputs": [],
   "source": [
    "def postorder(root):\n",
    "    return postorder(root.left) + postorder(root.right) + [root.val] if root else []"
   ]
  },
  {
   "cell_type": "code",
   "execution_count": 5,
   "id": "674fe2d2",
   "metadata": {},
   "outputs": [
    {
     "data": {
      "text/plain": [
       "[1, 2, 5, None, 8, None, 10]"
      ]
     },
     "execution_count": 5,
     "metadata": {},
     "output_type": "execute_result"
    }
   ],
   "source": [
    "a = [1, 2, 5, None, 8, None, 10]\n",
    "empty = []\n",
    "\n",
    "for i in a:\n",
    "     empty = empty + [i]\n",
    "\n",
    "empty"
   ]
  },
  {
   "cell_type": "code",
   "execution_count": 6,
   "id": "bce2fa22",
   "metadata": {},
   "outputs": [
    {
     "data": {
      "text/plain": [
       "[4, 6]"
      ]
     },
     "execution_count": 6,
     "metadata": {},
     "output_type": "execute_result"
    }
   ],
   "source": [
    "[4] + [6]"
   ]
  }
 ],
 "metadata": {
  "kernelspec": {
   "display_name": "Python 3 (ipykernel)",
   "language": "python",
   "name": "python3"
  },
  "language_info": {
   "codemirror_mode": {
    "name": "ipython",
    "version": 3
   },
   "file_extension": ".py",
   "mimetype": "text/x-python",
   "name": "python",
   "nbconvert_exporter": "python",
   "pygments_lexer": "ipython3",
   "version": "3.9.12"
  }
 },
 "nbformat": 4,
 "nbformat_minor": 5
}
