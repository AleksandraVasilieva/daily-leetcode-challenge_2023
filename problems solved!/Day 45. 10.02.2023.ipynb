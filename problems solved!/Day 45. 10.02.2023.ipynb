{
 "cells": [
  {
   "cell_type": "markdown",
   "id": "3be7c45d",
   "metadata": {},
   "source": [
    "# 168. Excel Sheet Column Title\n",
    "\n",
    "https://leetcode.com/problems/excel-sheet-column-title/description/\n",
    "    \n",
    "Given an integer columnNumber, return its corresponding column title as it appears in an Excel sheet."
   ]
  },
  {
   "cell_type": "code",
   "execution_count": 119,
   "id": "1063de7d",
   "metadata": {},
   "outputs": [],
   "source": [
    "from string import ascii_uppercase\n",
    "\n",
    "alph = list(ascii_uppercase)"
   ]
  },
  {
   "cell_type": "code",
   "execution_count": 118,
   "id": "7c658aec",
   "metadata": {},
   "outputs": [
    {
     "data": {
      "text/plain": [
       "('ALL', [11, 11, 0])"
      ]
     },
     "execution_count": 118,
     "metadata": {},
     "output_type": "execute_result"
    }
   ],
   "source": [
    "ans = []\n",
    "n = 1000\n",
    "while n > 0:\n",
    "    ans.append((n-1) % 26)\n",
    "    n = (n - 1) // 26\n",
    "\n",
    "name = []\n",
    "for i in reversed(ans):\n",
    "    name.append(alph[i])\n",
    "    \n",
    "''.join(name), ans"
   ]
  }
 ],
 "metadata": {
  "kernelspec": {
   "display_name": "Python 3 (ipykernel)",
   "language": "python",
   "name": "python3"
  },
  "language_info": {
   "codemirror_mode": {
    "name": "ipython",
    "version": 3
   },
   "file_extension": ".py",
   "mimetype": "text/x-python",
   "name": "python",
   "nbconvert_exporter": "python",
   "pygments_lexer": "ipython3",
   "version": "3.9.12"
  }
 },
 "nbformat": 4,
 "nbformat_minor": 5
}
