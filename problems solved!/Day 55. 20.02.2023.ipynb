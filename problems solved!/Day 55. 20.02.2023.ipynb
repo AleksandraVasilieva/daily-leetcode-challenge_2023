{
 "cells": [
  {
   "cell_type": "markdown",
   "id": "d43b1ddf",
   "metadata": {},
   "source": [
    "# 1002. Find Common Characters\n",
    "\n",
    "https://leetcode.com/problems/find-common-characters/description/\n",
    "\n",
    "Given a string array words, return an array of all characters that show up in all strings within the words (including duplicates). You may return the answer in any order.\n",
    "\n",
    " \n",
    "\n",
    "Example 1:\n",
    "\n",
    "Input: words = [\"bella\",\"label\",\"roller\"]\n",
    "Output: [\"e\",\"l\",\"l\"]"
   ]
  },
  {
   "cell_type": "code",
   "execution_count": 17,
   "id": "b65d0b88",
   "metadata": {},
   "outputs": [
    {
     "data": {
      "text/plain": [
       "['e', 'l', 'l']"
      ]
     },
     "execution_count": 17,
     "metadata": {},
     "output_type": "execute_result"
    }
   ],
   "source": [
    "words = [\"bella\",\"label\",\"roller\"]\n",
    "\n",
    "import collections\n",
    "\n",
    "dicts = []\n",
    "\n",
    "for i in words:\n",
    "    dicts.append(collections.Counter(i))\n",
    "    \n",
    "intersection = dicts[0]\n",
    "\n",
    "for i in dicts[1:]:\n",
    "    intersection = intersection & i\n",
    "    \n",
    "list(intersection.elements())"
   ]
  },
  {
   "cell_type": "code",
   "execution_count": 24,
   "id": "c0963154",
   "metadata": {},
   "outputs": [
    {
     "data": {
      "text/plain": [
       "(dict_items([('apple', 2), ('orange', 3), ('grapes', 4)]),\n",
       " dict_keys(['apple', 'orange', 'grapes']),\n",
       " dict_values([2, 3, 4]))"
      ]
     },
     "execution_count": 24,
     "metadata": {},
     "output_type": "execute_result"
    }
   ],
   "source": [
    "sales = { 'apple': 2, 'orange': 3, 'grapes': 4 }\n",
    "sales.items(), sales.keys(), sales.values()"
   ]
  },
  {
   "cell_type": "code",
   "execution_count": 22,
   "id": "d7145500",
   "metadata": {},
   "outputs": [
    {
     "data": {
      "text/plain": [
       "(2, 2)"
      ]
     },
     "execution_count": 22,
     "metadata": {},
     "output_type": "execute_result"
    }
   ],
   "source": [
    "sales['apple'], sales.get('apple')"
   ]
  }
 ],
 "metadata": {
  "kernelspec": {
   "display_name": "Python 3 (ipykernel)",
   "language": "python",
   "name": "python3"
  },
  "language_info": {
   "codemirror_mode": {
    "name": "ipython",
    "version": 3
   },
   "file_extension": ".py",
   "mimetype": "text/x-python",
   "name": "python",
   "nbconvert_exporter": "python",
   "pygments_lexer": "ipython3",
   "version": "3.9.12"
  }
 },
 "nbformat": 4,
 "nbformat_minor": 5
}
