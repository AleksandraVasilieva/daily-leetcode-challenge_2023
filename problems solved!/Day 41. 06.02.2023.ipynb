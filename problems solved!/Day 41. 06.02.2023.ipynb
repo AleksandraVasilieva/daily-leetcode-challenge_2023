{
 "cells": [
  {
   "cell_type": "markdown",
   "id": "2bd74539",
   "metadata": {},
   "source": [
    "# 268. Missing Number\n",
    "\n",
    "https://leetcode.com/problems/missing-number/description/\n",
    "    \n",
    "Given an array nums containing n distinct numbers in the range [0, n], return the only number in the range that is missing from the array."
   ]
  },
  {
   "cell_type": "code",
   "execution_count": 12,
   "id": "86cfca1f",
   "metadata": {},
   "outputs": [
    {
     "name": "stdout",
     "output_type": "stream",
     "text": [
      "2\n"
     ]
    }
   ],
   "source": [
    "nums = [0, 1, 3]\n",
    "\n",
    "nums.sort()\n",
    "\n",
    "for index, value in enumerate(nums+[len(nums)]):\n",
    "    if index != value:\n",
    "        print(index)\n",
    "    \n",
    "print(len(nums))"
   ]
  },
  {
   "cell_type": "markdown",
   "id": "b97f9732",
   "metadata": {},
   "source": [
    "### revising\n",
    "\n",
    "### 1. via \"intended\" sum"
   ]
  },
  {
   "cell_type": "code",
   "execution_count": 16,
   "id": "c026b5d3",
   "metadata": {},
   "outputs": [
    {
     "data": {
      "text/plain": [
       "2"
      ]
     },
     "execution_count": 16,
     "metadata": {},
     "output_type": "execute_result"
    }
   ],
   "source": [
    "nums = [0, 1, 3]\n",
    "sum(range(len(nums)+1)) - sum(nums)"
   ]
  },
  {
   "cell_type": "markdown",
   "id": "1d294da6",
   "metadata": {},
   "source": [
    "### 2. via Gaus Formula\n",
    "\n",
    "$$ \\sum = \\frac 12 n(n+1)  $$\n"
   ]
  },
  {
   "cell_type": "code",
   "execution_count": 19,
   "id": "bab34474",
   "metadata": {},
   "outputs": [
    {
     "data": {
      "text/plain": [
       "2.0"
      ]
     },
     "execution_count": 19,
     "metadata": {},
     "output_type": "execute_result"
    }
   ],
   "source": [
    "nums = [0, 1, 3]\n",
    "\n",
    "0.5*(len(nums) * (len(nums) + 1)) - sum(nums)"
   ]
  },
  {
   "cell_type": "markdown",
   "id": "f7dc3728",
   "metadata": {},
   "source": [
    "### 3. Beautiful solution via reduce using XOR\n",
    "\n",
    "https://leetcode.com/problems/missing-number/solutions/2081185/python-easy-one-liners-with-explanation/\n",
    "\n",
    "The reduce operation cancels same elements"
   ]
  },
  {
   "cell_type": "code",
   "execution_count": 33,
   "id": "e8e0d19f",
   "metadata": {},
   "outputs": [
    {
     "name": "stdout",
     "output_type": "stream",
     "text": [
      "[0, 1, 2, 3, 0, 1, 3]\n"
     ]
    },
    {
     "data": {
      "text/plain": [
       "2"
      ]
     },
     "execution_count": 33,
     "metadata": {},
     "output_type": "execute_result"
    }
   ],
   "source": [
    "nums = [0, 1, 3]\n",
    "\n",
    "from functools import reduce \n",
    "\n",
    "a = list(range(len(nums)+1)) + nums\n",
    "print(a)\n",
    "\n",
    "reduce(lambda x, y: x ^ y, a)"
   ]
  },
  {
   "cell_type": "code",
   "execution_count": 52,
   "id": "03f9d515",
   "metadata": {},
   "outputs": [
    {
     "data": {
      "text/plain": [
       "(8, 0)"
      ]
     },
     "execution_count": 52,
     "metadata": {},
     "output_type": "execute_result"
    }
   ],
   "source": [
    "7 ^ 8 ^ 7, 7 ^ 8 ^ 7 ^ 8"
   ]
  }
 ],
 "metadata": {
  "kernelspec": {
   "display_name": "Python 3 (ipykernel)",
   "language": "python",
   "name": "python3"
  },
  "language_info": {
   "codemirror_mode": {
    "name": "ipython",
    "version": 3
   },
   "file_extension": ".py",
   "mimetype": "text/x-python",
   "name": "python",
   "nbconvert_exporter": "python",
   "pygments_lexer": "ipython3",
   "version": "3.9.12"
  }
 },
 "nbformat": 4,
 "nbformat_minor": 5
}
