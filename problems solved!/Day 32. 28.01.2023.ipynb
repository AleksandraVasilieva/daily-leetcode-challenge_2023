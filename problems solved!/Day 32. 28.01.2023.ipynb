{
 "cells": [
  {
   "cell_type": "markdown",
   "id": "c0790057",
   "metadata": {},
   "source": [
    "# 118. Pascal's Triangle\n",
    "\n",
    "https://leetcode.com/problems/pascals-triangle/description/\n",
    "    \n",
    "Given an integer numRows, return the first numRows of Pascal's triangle."
   ]
  },
  {
   "cell_type": "code",
   "execution_count": 58,
   "id": "c9dd2d90",
   "metadata": {},
   "outputs": [
    {
     "data": {
      "text/plain": [
       "[[1], [1, 1], [1, 2, 1], [1, 3, 3, 1], [1, 4, 6, 4, 1]]"
      ]
     },
     "execution_count": 58,
     "metadata": {},
     "output_type": "execute_result"
    }
   ],
   "source": [
    "def get_pascal(n):\n",
    "    rows = [[1], [1, 1]]\n",
    "    if n > 2:\n",
    "        for k in range(3, n+1):\n",
    "            temp = [1 for i in range(0, k)]\n",
    "            for i in range(1, k-1):\n",
    "                temp[i] = rows[-1][i] + rows[-1][i-1]\n",
    "            rows.append(temp)\n",
    "        return rows\n",
    "    else:\n",
    "        return rows[:n]\n",
    "\n",
    "get_pascal(5)"
   ]
  },
  {
   "cell_type": "markdown",
   "id": "8cd119a1",
   "metadata": {},
   "source": [
    "# revising community's solutions"
   ]
  },
  {
   "cell_type": "markdown",
   "id": "4dbb5102",
   "metadata": {},
   "source": [
    "Firstly, we can initialize a triangle by this command"
   ]
  },
  {
   "cell_type": "code",
   "execution_count": 61,
   "id": "e1526022",
   "metadata": {},
   "outputs": [
    {
     "data": {
      "text/plain": [
       "[[1], [1, 1], [1, 1, 1], [1, 1, 1, 1], [1, 1, 1, 1, 1]]"
      ]
     },
     "execution_count": 61,
     "metadata": {},
     "output_type": "execute_result"
    }
   ],
   "source": [
    "n = 5\n",
    "ans = [[1]*i for i in range(1, n+1)]\n",
    "ans"
   ]
  },
  {
   "cell_type": "code",
   "execution_count": 62,
   "id": "e5abbc7b",
   "metadata": {},
   "outputs": [
    {
     "data": {
      "text/plain": [
       "[[1], [1, 1], [1, 2, 1], [1, 3, 3, 1], [1, 4, 6, 4, 1]]"
      ]
     },
     "execution_count": 62,
     "metadata": {},
     "output_type": "execute_result"
    }
   ],
   "source": [
    "for i in range(1, n): \n",
    "    for j in range(1, i):\n",
    "        ans[i][j] = ans[i-1][j] + ans[i-1][j-1]\n",
    "ans"
   ]
  }
 ],
 "metadata": {
  "kernelspec": {
   "display_name": "Python 3 (ipykernel)",
   "language": "python",
   "name": "python3"
  },
  "language_info": {
   "codemirror_mode": {
    "name": "ipython",
    "version": 3
   },
   "file_extension": ".py",
   "mimetype": "text/x-python",
   "name": "python",
   "nbconvert_exporter": "python",
   "pygments_lexer": "ipython3",
   "version": "3.9.12"
  }
 },
 "nbformat": 4,
 "nbformat_minor": 5
}
