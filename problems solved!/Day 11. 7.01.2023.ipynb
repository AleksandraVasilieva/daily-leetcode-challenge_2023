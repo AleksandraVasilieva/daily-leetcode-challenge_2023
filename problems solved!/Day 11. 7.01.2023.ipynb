{
 "cells": [
  {
   "cell_type": "markdown",
   "id": "83cca94d",
   "metadata": {},
   "source": [
    "# 733. Flood Fill\n",
    "\n",
    "https://leetcode.com/problems/flood-fill/description/"
   ]
  },
  {
   "cell_type": "code",
   "execution_count": 86,
   "id": "df1f37cc",
   "metadata": {},
   "outputs": [],
   "source": [
    "image = [[1,1,1],[1,1,0],[1,0,1]]\n",
    "sr = 1\n",
    "sc = 1\n",
    "color = 2"
   ]
  },
  {
   "cell_type": "code",
   "execution_count": 87,
   "id": "2956791a",
   "metadata": {},
   "outputs": [],
   "source": [
    "def floodFill(image, sr, sc, color):\n",
    "        \n",
    "        start_color = image[sr][sc]\n",
    "        \n",
    "        def flood_fill(x, y):\n",
    "            if x < 0 or x >= len(image): \n",
    "                return\n",
    "            if y < 0 or y >= len(image[0]): \n",
    "                return\n",
    "            if image[x][y] == color: \n",
    "                return\n",
    "            if image[x][y] != start_color: \n",
    "                return\n",
    "            \n",
    "            image[x][y] = color\n",
    "            \n",
    "            flood_fill(x-1, y)\n",
    "            flood_fill(x+1, y)\n",
    "            flood_fill(x, y+1)\n",
    "            flood_fill(x, y-1)\n",
    "        \n",
    "        flood_fill(sr, sc)\n",
    "        return image"
   ]
  },
  {
   "cell_type": "code",
   "execution_count": 88,
   "id": "18c4e9c3",
   "metadata": {},
   "outputs": [
    {
     "data": {
      "text/plain": [
       "[[2, 2, 2], [2, 2, 0], [2, 0, 1]]"
      ]
     },
     "execution_count": 88,
     "metadata": {},
     "output_type": "execute_result"
    }
   ],
   "source": [
    "floodFill(image, sr, sc, color)"
   ]
  },
  {
   "cell_type": "code",
   "execution_count": null,
   "id": "2abe2c4a",
   "metadata": {},
   "outputs": [],
   "source": []
  }
 ],
 "metadata": {
  "kernelspec": {
   "display_name": "Python 3 (ipykernel)",
   "language": "python",
   "name": "python3"
  },
  "language_info": {
   "codemirror_mode": {
    "name": "ipython",
    "version": 3
   },
   "file_extension": ".py",
   "mimetype": "text/x-python",
   "name": "python",
   "nbconvert_exporter": "python",
   "pygments_lexer": "ipython3",
   "version": "3.9.12"
  }
 },
 "nbformat": 4,
 "nbformat_minor": 5
}
