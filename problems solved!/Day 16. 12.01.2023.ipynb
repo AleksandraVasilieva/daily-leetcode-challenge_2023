{
 "cells": [
  {
   "cell_type": "markdown",
   "id": "37097efa",
   "metadata": {},
   "source": [
    "# 20. Valid Parentheses\n",
    "\n",
    "https://leetcode.com/problems/valid-parentheses/\n",
    "    \n",
    "iven a string s containing just the characters '(', ')', '{', '}', '[' and ']', determine if the input string is valid.\n",
    "\n",
    "An input string is valid if:\n",
    "\n",
    "Open brackets must be closed by the same type of brackets.\n",
    "Open brackets must be closed in the correct order.\n",
    "Every close bracket has a corresponding open bracket of the same type.\n",
    " \n",
    "\n",
    "Example 1:\n",
    "\n",
    "Input: s = \"()\"\n",
    "Output: true\n",
    "Example 2:\n",
    "\n",
    "Input: s = \"()[]{}\"\n",
    "Output: true\n",
    "Example 3:\n",
    "\n",
    "Input: s = \"(]\"\n",
    "Output: false"
   ]
  },
  {
   "cell_type": "markdown",
   "id": "0516580b",
   "metadata": {},
   "source": [
    "Idea: for O(n) check every element of a string and modify the \"status\" of a corresponding \"bracket\"."
   ]
  },
  {
   "cell_type": "code",
   "execution_count": 3,
   "id": "da9055eb",
   "metadata": {},
   "outputs": [
    {
     "data": {
      "text/plain": [
       "(-1, 0, 0)"
      ]
     },
     "execution_count": 3,
     "metadata": {},
     "output_type": "execute_result"
    }
   ],
   "source": [
    "s = \"()\"\n",
    "\n",
    "bracket1 = 0 # ()\n",
    "bracket2 = 0 # []\n",
    "bracket3 = 0 # {}\n",
    "\n",
    "for i in s:\n",
    "    if i == ')':\n",
    "        bracket1 -= 1\n",
    "    if i == '(':\n",
    "        bracket1 += 1\n",
    "    if i == '[':\n",
    "        bracket2 += 1\n",
    "    if i == ']':\n",
    "        bracket2 -= 1\n",
    "    if i == '{':\n",
    "        bracket3 += 1\n",
    "    if i == '}':\n",
    "        bracket3 -= 1\n",
    "bracket1, bracket2, bracket2\n",
    "        "
   ]
  },
  {
   "cell_type": "code",
   "execution_count": 14,
   "id": "4cb5df28",
   "metadata": {},
   "outputs": [
    {
     "data": {
      "text/plain": [
       "'ac'"
      ]
     },
     "execution_count": 14,
     "metadata": {},
     "output_type": "execute_result"
    }
   ],
   "source": [
    "'abc'.replace('b', '')"
   ]
  },
  {
   "cell_type": "code",
   "execution_count": 16,
   "id": "d6f224ca",
   "metadata": {},
   "outputs": [
    {
     "data": {
      "text/plain": [
       "0"
      ]
     },
     "execution_count": 16,
     "metadata": {},
     "output_type": "execute_result"
    }
   ],
   "source": [
    "'abc'.index('a')"
   ]
  },
  {
   "cell_type": "code",
   "execution_count": 19,
   "id": "d05fada7",
   "metadata": {},
   "outputs": [
    {
     "name": "stdout",
     "output_type": "stream",
     "text": [
      "no\n"
     ]
    },
    {
     "data": {
      "text/plain": [
       "(0, 0, 0)"
      ]
     },
     "execution_count": 19,
     "metadata": {},
     "output_type": "execute_result"
    }
   ],
   "source": [
    "s = \"([)]\"\n",
    "\n",
    "bracket1 = 0 # ()\n",
    "bracket2 = 0 # []\n",
    "bracket3 = 0 # {}\n",
    "\n",
    "for i in s:\n",
    "    if i == ')':\n",
    "        if bracket2 > 0: \n",
    "            if s.index('(') < s.index('['):\n",
    "                print('no')\n",
    "        if bracket3 > 0: \n",
    "            if s.index('(') < s.index('{'):\n",
    "                print('no')    \n",
    "        \n",
    "        bracket1 -= 1\n",
    "        s.replace(i, '')\n",
    "    if i == '(':\n",
    "        bracket1 += 1\n",
    "        s.replace(i, '')\n",
    "    if i == '[':\n",
    "        bracket2 += 1\n",
    "        s.replace(i, '')\n",
    "    if i == ']':\n",
    "        if bracket1 > 0: \n",
    "            if s.index('[') < s.index('('):\n",
    "                print('no')\n",
    "        if bracket3 > 0: \n",
    "            if s.index('[') < s.index('{'):\n",
    "                print('no')    \n",
    "        \n",
    "        bracket2 -= 1\n",
    "        s.replace(i, '')\n",
    "    if i == '{':\n",
    "        bracket3 += 1\n",
    "        s.replace(i, '')\n",
    "    if i == '}':\n",
    "        if bracket1 > 0: \n",
    "            if s.index('{') < s.index('('):\n",
    "                print('no')\n",
    "        if bracket2 > 0: \n",
    "            if s.index('{') < s.index('['):\n",
    "                print('no')    \n",
    "        \n",
    "        bracket3 -= 1\n",
    "        s.replace(i, '')\n",
    "        \n",
    "bracket1, bracket2, bracket2"
   ]
  },
  {
   "cell_type": "code",
   "execution_count": 10,
   "id": "eba7da35",
   "metadata": {},
   "outputs": [
    {
     "data": {
      "text/plain": [
       "True"
      ]
     },
     "execution_count": 10,
     "metadata": {},
     "output_type": "execute_result"
    }
   ],
   "source": [
    "def brackets(s):\n",
    "    \n",
    "    bracket1 = 0 # ()\n",
    "    bracket2 = 0 # []\n",
    "    bracket3 = 0 # {}\n",
    "\n",
    "    for i in s:\n",
    "        if i == ')':\n",
    "            if bracket1 <= 0:\n",
    "                return False\n",
    "            else:\n",
    "                bracket1 -= 1\n",
    "        if i == '(':\n",
    "            bracket1 += 1\n",
    "        if i == '[':\n",
    "            bracket2 += 1\n",
    "        if i == ']':\n",
    "            if bracket2 <= 0:\n",
    "                return False\n",
    "            else:\n",
    "                bracket2 -= 1\n",
    "        if i == '{':\n",
    "            bracket3 += 1\n",
    "        if i == '}':\n",
    "            if bracket3 <= 0:\n",
    "                return False\n",
    "            else:\n",
    "                bracket3 -= 1\n",
    "    return bracket1 == bracket2 == bracket3 == 0\n",
    "  \n",
    "brackets('[(])')\n",
    "brackets('([])')"
   ]
  },
  {
   "cell_type": "code",
   "execution_count": 51,
   "id": "1f621114",
   "metadata": {},
   "outputs": [
    {
     "data": {
      "text/plain": [
       "2"
      ]
     },
     "execution_count": 51,
     "metadata": {},
     "output_type": "execute_result"
    }
   ],
   "source": [
    "len('av')"
   ]
  },
  {
   "cell_type": "code",
   "execution_count": 55,
   "id": "f3d7ff74",
   "metadata": {},
   "outputs": [
    {
     "ename": "KeyboardInterrupt",
     "evalue": "",
     "output_type": "error",
     "traceback": [
      "\u001b[1;31m---------------------------------------------------------------------------\u001b[0m",
      "\u001b[1;31mKeyboardInterrupt\u001b[0m                         Traceback (most recent call last)",
      "Input \u001b[1;32mIn [55]\u001b[0m, in \u001b[0;36m<cell line: 64>\u001b[1;34m()\u001b[0m\n\u001b[0;32m     61\u001b[0m     \u001b[38;5;28;01mreturn\u001b[39;00m bracket1, bracket2, bracket3  \n\u001b[0;32m     62\u001b[0m     \u001b[38;5;66;03m#return bracket1 == bracket2 == bracket3 == 0\u001b[39;00m\n\u001b[1;32m---> 64\u001b[0m \u001b[43mbrackets\u001b[49m\u001b[43m(\u001b[49m\u001b[38;5;124;43m'\u001b[39;49m\u001b[38;5;124;43m[([])]\u001b[39;49m\u001b[38;5;124;43m'\u001b[39;49m\u001b[43m)\u001b[49m\n",
      "Input \u001b[1;32mIn [55]\u001b[0m, in \u001b[0;36mbrackets\u001b[1;34m(s)\u001b[0m\n\u001b[0;32m     42\u001b[0m     bracket2 \u001b[38;5;241m-\u001b[39m\u001b[38;5;241m=\u001b[39m \u001b[38;5;241m1\u001b[39m\n\u001b[0;32m     43\u001b[0m     s\u001b[38;5;241m.\u001b[39mreplace(i,\u001b[38;5;124m'\u001b[39m\u001b[38;5;124m'\u001b[39m)\n\u001b[1;32m---> 44\u001b[0m \u001b[38;5;28;01mif\u001b[39;00m \u001b[43mi\u001b[49m\u001b[43m \u001b[49m\u001b[38;5;241;43m==\u001b[39;49m\u001b[43m \u001b[49m\u001b[38;5;124;43m'\u001b[39;49m\u001b[38;5;124;43m{\u001b[39;49m\u001b[38;5;124;43m'\u001b[39;49m:\n\u001b[0;32m     45\u001b[0m     bracket3 \u001b[38;5;241m+\u001b[39m\u001b[38;5;241m=\u001b[39m \u001b[38;5;241m1\u001b[39m\n\u001b[0;32m     46\u001b[0m     s\u001b[38;5;241m.\u001b[39mreplace(i,\u001b[38;5;124m'\u001b[39m\u001b[38;5;124m'\u001b[39m)\n",
      "\u001b[1;31mKeyboardInterrupt\u001b[0m: "
     ]
    }
   ],
   "source": [
    "s = \"([)]\"\n",
    "\n",
    "def brackets(s):\n",
    "\n",
    "    bracket1 = 0 # ()\n",
    "    bracket2 = 0 # []\n",
    "    bracket3 = 0 # {}\n",
    "    i = 0\n",
    "    \n",
    "    while len(s) > 0:\n",
    "        if i == ')':\n",
    "            if bracket1 == 0:\n",
    "                return False\n",
    "            if bracket2 > 0: \n",
    "                if s.index('(') < s.index('['):\n",
    "                    return False\n",
    "            if bracket3 > 0: \n",
    "                if s.index('(') < s.index('{'):\n",
    "                    return False    \n",
    "\n",
    "            bracket1 -= 1\n",
    "            s.replace(i,'')\n",
    "        if i == '(':\n",
    "            bracket1 += 1\n",
    "            s.replace(i,'')\n",
    "        if i == '[':\n",
    "            bracket2 += 1\n",
    "            s.replace(i,'')\n",
    "            \n",
    "        if i == ']':\n",
    "            if bracket2 == 0:\n",
    "                return False\n",
    "            if bracket1 > 0: \n",
    "                return s\n",
    "                break\n",
    "                if s.index('[') < s.index('('):\n",
    "                    return False\n",
    "            if bracket3 > 0: \n",
    "                if s.index('[') < s.index('{'):\n",
    "                    return False    \n",
    "\n",
    "            bracket2 -= 1\n",
    "            s.replace(i,'')\n",
    "        if i == '{':\n",
    "            bracket3 += 1\n",
    "            s.replace(i,'')\n",
    "            \n",
    "        if i == '}':\n",
    "            if bracket3 == 0:\n",
    "                return False\n",
    "            if bracket1 > 0: \n",
    "                if s.index('{') < s.index('('):\n",
    "                    return False\n",
    "            if bracket2 > 0: \n",
    "                if s.index('{') < s.index('['):\n",
    "                    return False    \n",
    "\n",
    "            bracket3 -= 1\n",
    "            s.replace(i,'')\n",
    "            \n",
    "    return bracket1, bracket2, bracket3  \n",
    "    #return bracket1 == bracket2 == bracket3 == 0\n",
    "\n",
    "brackets('[([])]')"
   ]
  }
 ],
 "metadata": {
  "kernelspec": {
   "display_name": "Python 3 (ipykernel)",
   "language": "python",
   "name": "python3"
  },
  "language_info": {
   "codemirror_mode": {
    "name": "ipython",
    "version": 3
   },
   "file_extension": ".py",
   "mimetype": "text/x-python",
   "name": "python",
   "nbconvert_exporter": "python",
   "pygments_lexer": "ipython3",
   "version": "3.9.12"
  }
 },
 "nbformat": 4,
 "nbformat_minor": 5
}
