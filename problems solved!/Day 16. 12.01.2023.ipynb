{
 "cells": [
  {
   "cell_type": "markdown",
   "id": "a64716dc",
   "metadata": {},
   "source": [
    "# 20. Valid Parentheses\n",
    "\n",
    "https://leetcode.com/problems/valid-parentheses/\n",
    "    \n",
    "iven a string s containing just the characters '(', ')', '{', '}', '[' and ']', determine if the input string is valid.\n",
    "\n",
    "An input string is valid if:\n",
    "\n",
    "Open brackets must be closed by the same type of brackets.\n",
    "Open brackets must be closed in the correct order.\n",
    "Every close bracket has a corresponding open bracket of the same type.\n",
    " \n",
    "\n",
    "Example 1:\n",
    "\n",
    "Input: s = \"()\"\n",
    "Output: true\n",
    "Example 2:\n",
    "\n",
    "Input: s = \"()[]{}\"\n",
    "Output: true\n",
    "Example 3:\n",
    "\n",
    "Input: s = \"(]\"\n",
    "Output: false"
   ]
  },
  {
   "cell_type": "markdown",
   "id": "dc484911",
   "metadata": {},
   "source": [
    "Idea: for O(n) check every element of a string and modify the \"status\" of a corresponding \"bracket\"."
   ]
  },
  {
   "cell_type": "code",
   "execution_count": 83,
   "id": "00285a34",
   "metadata": {},
   "outputs": [
    {
     "data": {
      "text/plain": [
       "(0, 0, 0)"
      ]
     },
     "execution_count": 83,
     "metadata": {},
     "output_type": "execute_result"
    }
   ],
   "source": [
    "s = \"([)]\"\n",
    "\n",
    "bracket1 = 0 # ()\n",
    "bracket2 = 0 # []\n",
    "bracket3 = 0 # {}\n",
    "\n",
    "for i in s:\n",
    "    if i == ')':\n",
    "        bracket1 -= 1\n",
    "    if i == '(':\n",
    "        bracket1 += 1\n",
    "    if i == '[':\n",
    "        bracket2 += 1\n",
    "    if i == ']':\n",
    "        bracket2 -= 1\n",
    "    if i == '{':\n",
    "        bracket3 += 1\n",
    "    if i == '}':\n",
    "        bracket3 -= 1\n",
    "bracket1, bracket2, bracket2\n",
    "        "
   ]
  },
  {
   "cell_type": "code",
   "execution_count": 14,
   "id": "ac1ac566",
   "metadata": {},
   "outputs": [
    {
     "data": {
      "text/plain": [
       "'ac'"
      ]
     },
     "execution_count": 14,
     "metadata": {},
     "output_type": "execute_result"
    }
   ],
   "source": [
    "'abc'.replace('b', '')"
   ]
  },
  {
   "cell_type": "code",
   "execution_count": 16,
   "id": "3b3f7380",
   "metadata": {},
   "outputs": [
    {
     "data": {
      "text/plain": [
       "0"
      ]
     },
     "execution_count": 16,
     "metadata": {},
     "output_type": "execute_result"
    }
   ],
   "source": [
    "'abc'.index('a')"
   ]
  },
  {
   "cell_type": "code",
   "execution_count": 76,
   "id": "9d135ced",
   "metadata": {},
   "outputs": [
    {
     "data": {
      "text/plain": [
       "'abc'"
      ]
     },
     "execution_count": 76,
     "metadata": {},
     "output_type": "execute_result"
    }
   ],
   "source": [
    "b = 'abc'\n",
    "b.replace('a', '')\n",
    "b"
   ]
  },
  {
   "cell_type": "code",
   "execution_count": 94,
   "id": "4c9cdc9d",
   "metadata": {},
   "outputs": [
    {
     "name": "stdout",
     "output_type": "stream",
     "text": [
      "1\n",
      "3\n"
     ]
    },
    {
     "ename": "ValueError",
     "evalue": "substring not found",
     "output_type": "error",
     "traceback": [
      "\u001b[1;31m---------------------------------------------------------------------------\u001b[0m",
      "\u001b[1;31mValueError\u001b[0m                                Traceback (most recent call last)",
      "Input \u001b[1;32mIn [94]\u001b[0m, in \u001b[0;36m<cell line: 65>\u001b[1;34m()\u001b[0m\n\u001b[0;32m     62\u001b[0m     \u001b[38;5;28;01mreturn\u001b[39;00m bracket1, bracket2, bracket3  \n\u001b[0;32m     63\u001b[0m     \u001b[38;5;66;03m#return bracket1 == bracket2 == bracket3 == 0\u001b[39;00m\n\u001b[1;32m---> 65\u001b[0m \u001b[43mbrackets\u001b[49m\u001b[43m(\u001b[49m\u001b[38;5;124;43m'\u001b[39;49m\u001b[38;5;124;43m[([])]\u001b[39;49m\u001b[38;5;124;43m'\u001b[39;49m\u001b[43m)\u001b[49m\n",
      "Input \u001b[1;32mIn [94]\u001b[0m, in \u001b[0;36mbrackets\u001b[1;34m(s)\u001b[0m\n\u001b[0;32m     34\u001b[0m     \u001b[38;5;28;01mreturn\u001b[39;00m \u001b[38;5;28;01mFalse\u001b[39;00m\n\u001b[0;32m     35\u001b[0m \u001b[38;5;28;01mif\u001b[39;00m bracket1 \u001b[38;5;241m>\u001b[39m \u001b[38;5;241m0\u001b[39m: \n\u001b[1;32m---> 36\u001b[0m     \u001b[38;5;28;01mif\u001b[39;00m \u001b[43ms\u001b[49m\u001b[38;5;241;43m.\u001b[39;49m\u001b[43mindex\u001b[49m\u001b[43m(\u001b[49m\u001b[38;5;124;43m'\u001b[39;49m\u001b[38;5;124;43m[\u001b[39;49m\u001b[38;5;124;43m'\u001b[39;49m\u001b[43m,\u001b[49m\u001b[43m \u001b[49m\u001b[43mlast2\u001b[49m\u001b[43m)\u001b[49m \u001b[38;5;241m<\u001b[39m s\u001b[38;5;241m.\u001b[39mindex(\u001b[38;5;124m'\u001b[39m\u001b[38;5;124m(\u001b[39m\u001b[38;5;124m'\u001b[39m):\n\u001b[0;32m     37\u001b[0m         \u001b[38;5;28;01mreturn\u001b[39;00m \u001b[38;5;124m'\u001b[39m\u001b[38;5;124mhere\u001b[39m\u001b[38;5;124m'\u001b[39m, last2\n\u001b[0;32m     38\u001b[0m         \u001b[38;5;28;01mreturn\u001b[39;00m \u001b[38;5;28;01mFalse\u001b[39;00m\n",
      "\u001b[1;31mValueError\u001b[0m: substring not found"
     ]
    }
   ],
   "source": [
    "s = \"([)]\"\n",
    "\n",
    "def brackets(s):\n",
    "    bracket1 = 0 # ()\n",
    "    bracket2 = 0 # []\n",
    "    bracket3 = 0 # {}\n",
    "    \n",
    "    last1 = last2 = last3 = 0\n",
    "    \n",
    "    for i in s:\n",
    "        if i == ')':\n",
    "            if bracket1 == 0:\n",
    "                return False\n",
    "            if bracket2 > 0: \n",
    "                if s.index('(') < s.index('['):\n",
    "                    return False\n",
    "            if bracket3 > 0: \n",
    "                if s.index('(') < s.index('{'):\n",
    "                    return False    \n",
    "            bracket1 -= 1\n",
    "            #s = s.replace(i,'')\n",
    "        if i == '(':\n",
    "            bracket1 += 1\n",
    "            #s = s.replace(i,'')\n",
    "        if i == '[':\n",
    "            bracket2 += 1\n",
    "            last2 = s.index(i, last2)\n",
    "            last2 += 1\n",
    "            print(last2)\n",
    "            #s = s.replace(i,'')\n",
    "            \n",
    "        if i == ']':\n",
    "            if bracket2 == 0:\n",
    "                return False\n",
    "            if bracket1 > 0: \n",
    "                if s.index('[', last2) < s.index('('):\n",
    "                    return 'here', last2\n",
    "                    return False\n",
    "            if bracket3 > 0: \n",
    "                if s.index('[') < s.index('{'):\n",
    "                    return False \n",
    "\n",
    "            bracket2 -= 1\n",
    "            #s = s.replace(i,'')\n",
    "        if i == '{':\n",
    "            bracket3 += 1\n",
    "            #s = s.replace(i,'')\n",
    "            \n",
    "        if i == '}':\n",
    "            if bracket3 == 0:\n",
    "                return False\n",
    "            if bracket1 > 0: \n",
    "                if s.index('{') < s.index('('):\n",
    "                    return False\n",
    "            if bracket2 > 0: \n",
    "                if s.index('{') < s.index('['):\n",
    "                    return False  \n",
    "\n",
    "            bracket3 -= 1\n",
    "            #s = s.replace(i,'')\n",
    "            \n",
    "    return bracket1, bracket2, bracket3  \n",
    "    #return bracket1 == bracket2 == bracket3 == 0\n",
    "\n",
    "brackets('[([])]')\n",
    "#brackets(\"[]\")"
   ]
  },
  {
   "cell_type": "markdown",
   "id": "2819d636",
   "metadata": {},
   "source": [
    "got stuck for a while... my idea was to 'neutralize' brackets by +1 and -1. Then I started to compare indexes for ([)] case. A clever way to do that would be to 'neutralize' not single brackets but pairs of brackets.\n",
    "\n",
    "https://leetcode.com/problems/valid-parentheses/solutions/3030914/pythoneasy/"
   ]
  },
  {
   "cell_type": "code",
   "execution_count": 95,
   "id": "e2009e1a",
   "metadata": {},
   "outputs": [
    {
     "data": {
      "text/plain": [
       "'((([[[]]])))'"
      ]
     },
     "execution_count": 95,
     "metadata": {},
     "output_type": "execute_result"
    }
   ],
   "source": [
    "s = '((([[[]]])))'\n",
    "s = s.replace('()', '')\n",
    "s"
   ]
  },
  {
   "cell_type": "code",
   "execution_count": 99,
   "id": "1451c5e2",
   "metadata": {},
   "outputs": [
    {
     "data": {
      "text/plain": [
       "False"
      ]
     },
     "execution_count": 99,
     "metadata": {},
     "output_type": "execute_result"
    }
   ],
   "source": [
    "def brackets(s):\n",
    "    while '()' in s or '{}' in s or '[]' in s:\n",
    "        s = s.replace('()', '').replace('[]', \"\").replace('{}', \"\")\n",
    "    \n",
    "    return len(s) == 0\n",
    "\n",
    "brackets('([)]')"
   ]
  }
 ],
 "metadata": {
  "kernelspec": {
   "display_name": "Python 3 (ipykernel)",
   "language": "python",
   "name": "python3"
  },
  "language_info": {
   "codemirror_mode": {
    "name": "ipython",
    "version": 3
   },
   "file_extension": ".py",
   "mimetype": "text/x-python",
   "name": "python",
   "nbconvert_exporter": "python",
   "pygments_lexer": "ipython3",
   "version": "3.9.12"
  }
 },
 "nbformat": 4,
 "nbformat_minor": 5
}
