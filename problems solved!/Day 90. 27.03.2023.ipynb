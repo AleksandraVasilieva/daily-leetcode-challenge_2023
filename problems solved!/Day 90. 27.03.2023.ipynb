{
 "cells": [
  {
   "cell_type": "markdown",
   "id": "1434e86e",
   "metadata": {},
   "source": [
    "# 228. Summary Ranges\n",
    "\n",
    "easy\n",
    "\n",
    "https://leetcode.com/problems/summary-ranges/\n",
    "\n",
    "You are given a sorted unique integer array nums.\n",
    "\n",
    "A range [a,b] is the set of all integers from a to b (inclusive).\n",
    "\n",
    "Return the smallest sorted list of ranges that cover all the numbers in the array exactly. That is, each element of nums is covered by exactly one of the ranges, and there is no integer x such that x is in one of the ranges but not in nums.\n",
    "\n",
    "Each range [a,b] in the list should be output as:\n",
    "\n",
    "\"a->b\" if a != b\n",
    "\"a\" if a == b\n",
    "\n",
    "\n",
    "Example 1:\n",
    "\n",
    "Input: nums = [0,1,2,4,5,7]\n",
    "\n",
    "Output: [\"0->2\",\"4->5\",\"7\"]\n",
    "\n",
    "Explanation: The ranges are:\n",
    "[0,2] --> \"0->2\"\n",
    "[4,5] --> \"4->5\"\n",
    "[7,7] --> \"7\""
   ]
  },
  {
   "cell_type": "code",
   "execution_count": 30,
   "id": "ad9b7d68",
   "metadata": {},
   "outputs": [
    {
     "data": {
      "text/plain": [
       "['1', '3']"
      ]
     },
     "execution_count": 30,
     "metadata": {},
     "output_type": "execute_result"
    }
   ],
   "source": [
    "#nums = [0,1,2,4,5,7]\n",
    "#nums = [0,2,3,4,6,8,9]\n",
    "nums = [1, 3]\n",
    "# nums = [-1]\n",
    "def summaryRanges(nums):\n",
    "    if not nums:\n",
    "        return []\n",
    "    \n",
    "    borders = []\n",
    "    minv,maxv = nums[0], nums[0]\n",
    "\n",
    "    for i, value in enumerate(nums):\n",
    "        if i + 1 < len(nums):\n",
    "            if nums[i] + 1 == nums[i+1]:\n",
    "                maxv = nums[i+1]\n",
    "            else:\n",
    "                borders.append([minv, maxv])\n",
    "                maxv, minv = nums[i+1], nums[i+1]\n",
    "        else:\n",
    "            maxv = nums[-1]\n",
    "            borders.append([minv, maxv])\n",
    "\n",
    "    answer = []\n",
    "    for i in borders:\n",
    "        if i[0] != i[1]:\n",
    "            answer.append(f\"{i[0]}->{i[1]}\")\n",
    "        else:\n",
    "            answer.append(f\"{i[0]}\")\n",
    "    return answer\n",
    "\n",
    "summaryRanges(nums)"
   ]
  },
  {
   "cell_type": "code",
   "execution_count": null,
   "id": "b506495c",
   "metadata": {},
   "outputs": [],
   "source": []
  }
 ],
 "metadata": {
  "kernelspec": {
   "display_name": "Python 3 (ipykernel)",
   "language": "python",
   "name": "python3"
  },
  "language_info": {
   "codemirror_mode": {
    "name": "ipython",
    "version": 3
   },
   "file_extension": ".py",
   "mimetype": "text/x-python",
   "name": "python",
   "nbconvert_exporter": "python",
   "pygments_lexer": "ipython3",
   "version": "3.9.12"
  }
 },
 "nbformat": 4,
 "nbformat_minor": 5
}
