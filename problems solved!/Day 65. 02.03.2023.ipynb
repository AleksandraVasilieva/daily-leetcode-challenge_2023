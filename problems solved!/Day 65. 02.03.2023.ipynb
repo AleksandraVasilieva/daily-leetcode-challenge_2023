{
 "cells": [
  {
   "cell_type": "markdown",
   "id": "399689a6",
   "metadata": {},
   "source": [
    "# 185. Department Top Three Salaries\n",
    "\n",
    "https://leetcode.com/problems/department-top-three-salaries/description/\n",
    "    \n",
    "A company's executives are interested in seeing who earns the most money in each of the company's departments. A high earner in a department is an employee who has a salary in the top three unique salaries for that department.\n",
    "\n",
    "Write an SQL query to find the employees who are high earners in each of the departments.\n",
    "\n",
    "Return the result table in any order."
   ]
  },
  {
   "cell_type": "markdown",
   "id": "ec1bc91f",
   "metadata": {},
   "source": [
    "* ROW_NUMBER(): enumerates the rows\n",
    "* RANK(): \n",
    "* DENSE_RANK(): does not miss ranks when values are same"
   ]
  },
  {
   "cell_type": "markdown",
   "id": "bc1088dc",
   "metadata": {},
   "source": [
    "select Department, Employee, Salary \n",
    "\n",
    "from \n",
    "\n",
    "(select d.name Department, e.name Employee, e.salary Salary,\n",
    "\n",
    "dense_rank() over (partition by d.name order by e.salary desc) as ranking\n",
    "\n",
    "from employee e\n",
    "\n",
    "left join department d\n",
    "\n",
    "on e.departmentId = d.id) ranks\n",
    "\n",
    "where ranking in (1, 2, 3) "
   ]
  }
 ],
 "metadata": {
  "kernelspec": {
   "display_name": "Python 3 (ipykernel)",
   "language": "python",
   "name": "python3"
  },
  "language_info": {
   "codemirror_mode": {
    "name": "ipython",
    "version": 3
   },
   "file_extension": ".py",
   "mimetype": "text/x-python",
   "name": "python",
   "nbconvert_exporter": "python",
   "pygments_lexer": "ipython3",
   "version": "3.9.12"
  }
 },
 "nbformat": 4,
 "nbformat_minor": 5
}
