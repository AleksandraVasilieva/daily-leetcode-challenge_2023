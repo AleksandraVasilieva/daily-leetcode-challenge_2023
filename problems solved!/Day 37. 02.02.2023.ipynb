{
 "cells": [
  {
   "cell_type": "markdown",
   "id": "520ee7fa",
   "metadata": {},
   "source": [
    "# 169. Majority Element\n",
    "\n",
    "https://leetcode.com/problems/majority-element/description/\n",
    "    \n",
    "Given an array nums of size n, return the majority element.\n",
    "\n",
    "The majority element is the element that appears more than ⌊n / 2⌋ times. You may assume that the majority element always exists in the array."
   ]
  },
  {
   "cell_type": "markdown",
   "id": "036d3f8a",
   "metadata": {},
   "source": [
    "### Option 1: replace\n",
    "\n",
    "exceeds runtime"
   ]
  },
  {
   "cell_type": "code",
   "execution_count": null,
   "id": "20e66fdd",
   "metadata": {},
   "outputs": [],
   "source": [
    "nums = [3,2,3,2,2]\n",
    "\n",
    "l  = len(nums) / 2\n",
    "for i in nums:\n",
    "    if nums.count(i) > l:\n",
    "        print(i)"
   ]
  },
  {
   "cell_type": "markdown",
   "id": "75f38a48",
   "metadata": {},
   "source": [
    "### Option 2: dictionary\n",
    "\n",
    "requires additional space"
   ]
  },
  {
   "cell_type": "code",
   "execution_count": 9,
   "id": "83aa3823",
   "metadata": {},
   "outputs": [
    {
     "data": {
      "text/plain": [
       "2"
      ]
     },
     "execution_count": 9,
     "metadata": {},
     "output_type": "execute_result"
    }
   ],
   "source": [
    "nums = [3,2,3,2,2]\n",
    "\n",
    "dict1 = dict()\n",
    "\n",
    "for i in nums:\n",
    "    if i in dict1.keys():\n",
    "        dict1[i] += 1\n",
    "    else:\n",
    "        dict1[i] = 1\n",
    "        \n",
    "max(dict1, key = lambda x: dict1[x])"
   ]
  },
  {
   "cell_type": "markdown",
   "id": "a63e66c8",
   "metadata": {},
   "source": [
    "### Option 3: sorting\n",
    "\n",
    "--- the majority element appears more than n / 2 times (by definition), so the **middle element** is alwasy the majority element\n",
    "\n",
    "exceeds time limit"
   ]
  },
  {
   "cell_type": "code",
   "execution_count": 20,
   "id": "804a0533",
   "metadata": {},
   "outputs": [
    {
     "name": "stdout",
     "output_type": "stream",
     "text": [
      "[3, 3, 2]\n"
     ]
    },
    {
     "data": {
      "text/plain": [
       "3"
      ]
     },
     "execution_count": 20,
     "metadata": {},
     "output_type": "execute_result"
    }
   ],
   "source": [
    "nums = [3, 2, 3]\n",
    "\n",
    "sorts = sorted(nums, key = lambda x: nums.count(x), reverse = True)\n",
    "print(sorts)\n",
    "\n",
    "sorts[len(nums) // 2]"
   ]
  },
  {
   "cell_type": "code",
   "execution_count": 28,
   "id": "8a6f768b",
   "metadata": {},
   "outputs": [
    {
     "data": {
      "text/plain": [
       "3"
      ]
     },
     "execution_count": 28,
     "metadata": {},
     "output_type": "execute_result"
    }
   ],
   "source": [
    "nums = [2, 2, 3, 3, 3, 4, 4, 4, 4]\n",
    "\n",
    "nums.sort()\n",
    "\n",
    "nums[len(nums)//2]"
   ]
  }
 ],
 "metadata": {
  "kernelspec": {
   "display_name": "Python 3 (ipykernel)",
   "language": "python",
   "name": "python3"
  },
  "language_info": {
   "codemirror_mode": {
    "name": "ipython",
    "version": 3
   },
   "file_extension": ".py",
   "mimetype": "text/x-python",
   "name": "python",
   "nbconvert_exporter": "python",
   "pygments_lexer": "ipython3",
   "version": "3.9.12"
  }
 },
 "nbformat": 4,
 "nbformat_minor": 5
}
