{
 "cells": [
  {
   "cell_type": "markdown",
   "id": "4af63a62",
   "metadata": {},
   "source": [
    "# 344. Reverse String\n",
    "\n",
    "https://leetcode.com/problems/reverse-string/description/\n",
    "    \n",
    "Write a function that reverses a string. The input string is given as an array of characters s.\n",
    "\n",
    "You must do this by modifying the input array in-place with O(1) extra memory.\n",
    "\n",
    " \n",
    "\n",
    "Example 1:\n",
    "\n",
    "Input: s = [\"h\",\"e\",\"l\",\"l\",\"o\"]\n",
    "Output: [\"o\",\"l\",\"l\",\"e\",\"h\"]"
   ]
  },
  {
   "cell_type": "code",
   "execution_count": 22,
   "id": "abe3fad3",
   "metadata": {},
   "outputs": [
    {
     "data": {
      "text/plain": [
       "['e', 'l', 'l', 'o', 'h']"
      ]
     },
     "execution_count": 22,
     "metadata": {},
     "output_type": "execute_result"
    }
   ],
   "source": [
    "# Requires additional memory\n",
    "\n",
    "s = [\"h\",\"e\",\"l\",\"l\",\"o\"]\n",
    "\n",
    "for i in s:\n",
    "    s += [i]\n",
    "    s = s[1:]\n",
    "\n",
    "s"
   ]
  },
  {
   "cell_type": "markdown",
   "id": "f2fd3b7d",
   "metadata": {},
   "source": [
    "This method creates a new array, so additional memory is needed.\n",
    "It is solved by mpdifying in-place with s[:]"
   ]
  },
  {
   "cell_type": "code",
   "execution_count": 14,
   "id": "c65a088b",
   "metadata": {},
   "outputs": [
    {
     "data": {
      "text/plain": [
       "['h', 'o', 'l', 'l', 'e']"
      ]
     },
     "execution_count": 14,
     "metadata": {},
     "output_type": "execute_result"
    }
   ],
   "source": [
    "s[::-1]"
   ]
  },
  {
   "cell_type": "code",
   "execution_count": 11,
   "id": "bac4c5f4",
   "metadata": {},
   "outputs": [
    {
     "data": {
      "text/plain": [
       "['e', 'l', 'l', 'o', 'h']"
      ]
     },
     "execution_count": 11,
     "metadata": {},
     "output_type": "execute_result"
    }
   ],
   "source": [
    "s[:] = s[::-1]\n",
    "s"
   ]
  },
  {
   "cell_type": "code",
   "execution_count": 13,
   "id": "bfc4859d",
   "metadata": {},
   "outputs": [
    {
     "data": {
      "text/plain": [
       "'bear'"
      ]
     },
     "execution_count": 13,
     "metadata": {},
     "output_type": "execute_result"
    }
   ],
   "source": [
    "'bear'[:]"
   ]
  },
  {
   "cell_type": "code",
   "execution_count": 21,
   "id": "747e7e9b",
   "metadata": {},
   "outputs": [
    {
     "data": {
      "text/plain": [
       "['!', ' ', 'e', 'r', 'e', 'h', 't', ' ', 'o', 'l', 'l', 'e', 'H']"
      ]
     },
     "execution_count": 21,
     "metadata": {},
     "output_type": "execute_result"
    }
   ],
   "source": [
    "a = list('Hello there !')\n",
    "a.reverse()\n",
    "a"
   ]
  }
 ],
 "metadata": {
  "kernelspec": {
   "display_name": "Python 3 (ipykernel)",
   "language": "python",
   "name": "python3"
  },
  "language_info": {
   "codemirror_mode": {
    "name": "ipython",
    "version": 3
   },
   "file_extension": ".py",
   "mimetype": "text/x-python",
   "name": "python",
   "nbconvert_exporter": "python",
   "pygments_lexer": "ipython3",
   "version": "3.9.12"
  }
 },
 "nbformat": 4,
 "nbformat_minor": 5
}
