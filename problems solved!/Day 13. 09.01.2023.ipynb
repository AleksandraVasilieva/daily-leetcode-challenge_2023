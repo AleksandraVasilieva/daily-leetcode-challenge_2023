{
 "cells": [
  {
   "cell_type": "markdown",
   "id": "efb9c920",
   "metadata": {},
   "source": [
    "# 9. Palindrome Number\n",
    "\n",
    "https://leetcode.com/problems/palindrome-number/\n",
    "\n",
    "Given an integer x, return true if x is a \n",
    "palindrome\n",
    ", and false otherwise.\n",
    "\n",
    " \n",
    "\n",
    "Example 1:\n",
    "\n",
    "Input: x = 121\n",
    "Output: true\n",
    "Explanation: 121 reads as 121 from left to right and from right to left.\n",
    "Example 2:\n",
    "\n",
    "Input: x = -121\n",
    "Output: false\n",
    "Explanation: From left to right, it reads -121. From right to left, it becomes 121-. Therefore it is not a palindrome.\n",
    "Example 3:\n",
    "\n",
    "Input: x = 10\n",
    "Output: false\n",
    "Explanation: Reads 01 from right to left. Therefore it is not a palindrome.\n",
    " \n",
    "\n",
    "Constraints:\n",
    "\n",
    "-231 <= x <= 231 -1"
   ]
  },
  {
   "cell_type": "markdown",
   "id": "d9d2de96",
   "metadata": {},
   "source": [
    "# 1. Converting to str"
   ]
  },
  {
   "cell_type": "code",
   "execution_count": 12,
   "id": "45fdeb0e",
   "metadata": {},
   "outputs": [
    {
     "name": "stdout",
     "output_type": "stream",
     "text": [
      "True\n"
     ]
    }
   ],
   "source": [
    "x = str(11)\n",
    "\n",
    "middle = len(x) // 2\n",
    "\n",
    "if len(x) % 2 == 0:\n",
    "    if x[:middle] == x[middle:][::-1]:\n",
    "        print(True)\n",
    "    else:\n",
    "        print(False)    \n",
    "else: \n",
    "    if x[:middle+1] == x[middle:][::-1]:\n",
    "        print(True)\n",
    "    else:\n",
    "        print(False)"
   ]
  },
  {
   "cell_type": "code",
   "execution_count": null,
   "id": "05171a55",
   "metadata": {},
   "outputs": [],
   "source": [
    "class Solution:\n",
    "    def isPalindrome(self, x: int) -> bool:\n",
    "        x = str(x)\n",
    "\n",
    "        middle = len(x) // 2\n",
    "\n",
    "        if len(x) % 2 == 0:\n",
    "            if x[:middle] == x[middle:][::-1]:\n",
    "                return(True)\n",
    "            else:\n",
    "                return(False)    \n",
    "        else: \n",
    "            if x[:middle+1] == x[middle:][::-1]:\n",
    "                return(True)\n",
    "            else:\n",
    "                return(False)"
   ]
  },
  {
   "cell_type": "code",
   "execution_count": null,
   "id": "ba5bce85",
   "metadata": {},
   "outputs": [],
   "source": [
    "# shorter way\n",
    "class Solution:\n",
    "    def isPalindrome(self, x: int) -> bool:\n",
    "        return str(x) == str(x)[::-1]"
   ]
  },
  {
   "cell_type": "markdown",
   "id": "27560fa8",
   "metadata": {},
   "source": [
    "# 2. Recreating the number"
   ]
  },
  {
   "cell_type": "code",
   "execution_count": 13,
   "id": "47aa6f1e",
   "metadata": {},
   "outputs": [
    {
     "data": {
      "text/plain": [
       "True"
      ]
     },
     "execution_count": 13,
     "metadata": {},
     "output_type": "execute_result"
    }
   ],
   "source": [
    "x = 121\n",
    "\n",
    "list_x = []\n",
    "\n",
    "while x > 0:\n",
    "    list_x.append(x % 10)\n",
    "    x = (x - (x % 10)) // 10\n",
    "\n",
    "list_x == list_x[::-1]"
   ]
  },
  {
   "cell_type": "code",
   "execution_count": null,
   "id": "b0dea76a",
   "metadata": {},
   "outputs": [],
   "source": [
    "class Solution:\n",
    "    def isPalindrome(self, x: int) -> bool:\n",
    "        if x < 0:\n",
    "            return False\n",
    "        list_x = []\n",
    "        while x > 0:\n",
    "            list_x.append(x % 10)\n",
    "            x = (x - (x % 10)) // 10\n",
    "\n",
    "        return list_x == list_x[::-1]"
   ]
  }
 ],
 "metadata": {
  "kernelspec": {
   "display_name": "Python 3 (ipykernel)",
   "language": "python",
   "name": "python3"
  },
  "language_info": {
   "codemirror_mode": {
    "name": "ipython",
    "version": 3
   },
   "file_extension": ".py",
   "mimetype": "text/x-python",
   "name": "python",
   "nbconvert_exporter": "python",
   "pygments_lexer": "ipython3",
   "version": "3.9.12"
  }
 },
 "nbformat": 4,
 "nbformat_minor": 5
}
