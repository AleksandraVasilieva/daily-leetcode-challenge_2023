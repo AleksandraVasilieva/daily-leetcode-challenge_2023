{
 "cells": [
  {
   "cell_type": "markdown",
   "id": "53aed983",
   "metadata": {},
   "source": [
    "# 5. Longest Palindromic Substring\n",
    "\n",
    "https://leetcode.com/problems/longest-palindromic-substring/description/\n",
    "    \n",
    "middle\n",
    "\n",
    "Given a string s, return the longest palindromic substring in s.\n",
    "\n",
    "\n",
    "Example 1:\n",
    "\n",
    "Input: s = \"babad\"\n",
    "    \n",
    "Output: \"bab\"\n",
    "Explanation: \"aba\" is also a valid answer.\n",
    "\n",
    "\n",
    "\n",
    "idea: palindrome is something that shows equal results when expanding from the center. so we broaden the windwow strarting at the middle and compare to the longest palindrome up to current moment. STARTING at EVERY ELEMENT"
   ]
  },
  {
   "cell_type": "code",
   "execution_count": 12,
   "id": "840884e7",
   "metadata": {},
   "outputs": [
    {
     "data": {
      "text/plain": [
       "'bab'"
      ]
     },
     "execution_count": 12,
     "metadata": {},
     "output_type": "execute_result"
    }
   ],
   "source": [
    "s = \"baberi\"\n",
    "\n",
    "cur_palindrome = ''\n",
    "cur_len = 0\n",
    "\n",
    "for i in range(len(s)):\n",
    "    l, r = i, i\n",
    "    while l >= 0 and r < len (s) and s[l] == s[r]:\n",
    "        if len(s[l:r+1]) >= cur_len:\n",
    "            cur_len = len(s[l:r+1])\n",
    "            cur_palindrome = s[l:r+1]\n",
    "        l -= 1\n",
    "        r += 1\n",
    "        \n",
    "    l, r = i, i + 1\n",
    "    while l >= 0 and r < len(s) and s[l] == s[r]:\n",
    "        if len(s[l:r+1]) >= cur_len:\n",
    "            cur_len = len(s[l:r+1])\n",
    "            cur_palindrome = s[l:r+1]\n",
    "        l -= 1\n",
    "        r += 1\n",
    "                \n",
    "cur_palindrome"
   ]
  }
 ],
 "metadata": {
  "kernelspec": {
   "display_name": "Python 3",
   "language": "python",
   "name": "python3"
  },
  "language_info": {
   "codemirror_mode": {
    "name": "ipython",
    "version": 3
   },
   "file_extension": ".py",
   "mimetype": "text/x-python",
   "name": "python",
   "nbconvert_exporter": "python",
   "pygments_lexer": "ipython3",
   "version": "3.7.13"
  }
 },
 "nbformat": 4,
 "nbformat_minor": 5
}
