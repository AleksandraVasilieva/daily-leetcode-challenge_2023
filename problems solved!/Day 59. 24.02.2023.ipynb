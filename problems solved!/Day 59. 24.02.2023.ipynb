{
 "cells": [
  {
   "cell_type": "markdown",
   "id": "62cf8656",
   "metadata": {},
   "source": [
    "# 292. Nim Game\n",
    "\n",
    "https://leetcode.com/problems/nim-game/description/\n",
    "    \n",
    "You are playing the following Nim Game with your friend:\n",
    "\n",
    "Initially, there is a heap of stones on the table.\n",
    "You and your friend will alternate taking turns, and you go first.\n",
    "On each turn, the person whose turn it is will remove 1 to 3 stones from the heap.\n",
    "The one who removes the last stone is the winner.\n",
    "Given n, the number of stones in the heap, return true if you can win the game assuming both you and your friend play optimally, otherwise return false.\n",
    "\n",
    " \n",
    "\n",
    "Example 1:\n",
    "\n",
    "Input: n = 4\n",
    "Output: false\n",
    "Explanation: These are the possible outcomes:\n",
    "1. You remove 1 stone. Your friend removes 3 stones, including the last stone. Your friend wins.\n",
    "2. You remove 2 stones. Your friend removes 2 stones, including the last stone. Your friend wins.\n",
    "3. You remove 3 stones. Your friend removes the last stone. Your friend wins.\n",
    "In all outcomes, your friend wins."
   ]
  },
  {
   "cell_type": "markdown",
   "id": "6c0a13be",
   "metadata": {},
   "source": [
    "We lose if during the last step the heap contains 4 stones. Therefore if n % 4 is equal to 4 (all steps lead to 4) then we lose"
   ]
  },
  {
   "cell_type": "code",
   "execution_count": 2,
   "id": "882ad05d",
   "metadata": {},
   "outputs": [
    {
     "data": {
      "text/plain": [
       "False"
      ]
     },
     "execution_count": 2,
     "metadata": {},
     "output_type": "execute_result"
    }
   ],
   "source": [
    "n = 16\n",
    "\n",
    "# Can I win if I go first? \n",
    "\n",
    "n % 4 != 0"
   ]
  }
 ],
 "metadata": {
  "kernelspec": {
   "display_name": "Python 3 (ipykernel)",
   "language": "python",
   "name": "python3"
  },
  "language_info": {
   "codemirror_mode": {
    "name": "ipython",
    "version": 3
   },
   "file_extension": ".py",
   "mimetype": "text/x-python",
   "name": "python",
   "nbconvert_exporter": "python",
   "pygments_lexer": "ipython3",
   "version": "3.9.12"
  }
 },
 "nbformat": 4,
 "nbformat_minor": 5
}
