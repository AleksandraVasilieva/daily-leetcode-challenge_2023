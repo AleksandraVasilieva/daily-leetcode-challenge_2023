{
 "cells": [
  {
   "cell_type": "markdown",
   "id": "f2fc133f",
   "metadata": {},
   "source": [
    "# 177. Nth Highest Salary\n",
    "\n",
    "https://leetcode.com/problems/nth-highest-salary/description/\n",
    "\n",
    "Write an SQL query to report the nth highest salary from the Employee table. If there is no nth highest salary, the query should report null."
   ]
  },
  {
   "cell_type": "markdown",
   "id": "a08f7e6d",
   "metadata": {},
   "source": [
    "CREATE FUNCTION getNthHighestSalary(N INT) RETURNS INT\n",
    "\n",
    "BEGIN\n",
    "\n",
    "SET N = N - 1;\n",
    "\n",
    "RETURN (SELECT \n",
    "       IFNULL ((\n",
    "       \n",
    "          SELECT DISTINCT salary \n",
    "          \n",
    "          FROM employee\n",
    "          \n",
    "          ORDER BY salary desc\n",
    "          \n",
    "          LIMIT N, 1), \n",
    "          \n",
    "          NULL));\n",
    "          \n",
    "END"
   ]
  }
 ],
 "metadata": {
  "kernelspec": {
   "display_name": "Python 3 (ipykernel)",
   "language": "python",
   "name": "python3"
  },
  "language_info": {
   "codemirror_mode": {
    "name": "ipython",
    "version": 3
   },
   "file_extension": ".py",
   "mimetype": "text/x-python",
   "name": "python",
   "nbconvert_exporter": "python",
   "pygments_lexer": "ipython3",
   "version": "3.9.12"
  }
 },
 "nbformat": 4,
 "nbformat_minor": 5
}
