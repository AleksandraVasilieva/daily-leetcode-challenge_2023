{
 "cells": [
  {
   "cell_type": "markdown",
   "id": "3647b731",
   "metadata": {},
   "source": [
    "# 171. Excel Sheet Column Number\n",
    "\n",
    "https://leetcode.com/problems/excel-sheet-column-number/description/\n",
    "\n",
    "Given a string columnTitle that represents the column title as appears in an Excel sheet, return its corresponding column number.\n",
    "\n",
    "For example:\n",
    "\n",
    "A -> 1\n",
    "B -> 2\n",
    "C -> 3\n",
    "...\n",
    "Z -> 26\n",
    "AA -> 27\n",
    "AB -> 28 \n",
    "...\n",
    " \n",
    "\n",
    "Example 1:\n",
    "\n",
    "Input: columnTitle = \"A\"\n",
    "Output: 1\n",
    "\n",
    "Example 2:\n",
    "\n",
    "Input: columnTitle = \"AB\"\n",
    "Output: 28\n",
    "\n",
    "Example 3:\n",
    "\n",
    "Input: columnTitle = \"ZY\"\n",
    "Output: 701\n",
    " "
   ]
  },
  {
   "cell_type": "code",
   "execution_count": 3,
   "id": "4183717e",
   "metadata": {},
   "outputs": [
    {
     "data": {
      "text/plain": [
       "701"
      ]
     },
     "execution_count": 3,
     "metadata": {},
     "output_type": "execute_result"
    }
   ],
   "source": [
    "from string import ascii_uppercase\n",
    "\n",
    "alphabet = list(ascii_uppercase)\n",
    "\n",
    "s = 'ZY'\n",
    "n = 0\n",
    "\n",
    "for index, value in enumerate(s[::-1]):\n",
    "    n += (alphabet.index(value) + 1) * 26 ** index\n",
    "    \n",
    "n"
   ]
  }
 ],
 "metadata": {
  "kernelspec": {
   "display_name": "Python 3 (ipykernel)",
   "language": "python",
   "name": "python3"
  },
  "language_info": {
   "codemirror_mode": {
    "name": "ipython",
    "version": 3
   },
   "file_extension": ".py",
   "mimetype": "text/x-python",
   "name": "python",
   "nbconvert_exporter": "python",
   "pygments_lexer": "ipython3",
   "version": "3.9.12"
  }
 },
 "nbformat": 4,
 "nbformat_minor": 5
}
