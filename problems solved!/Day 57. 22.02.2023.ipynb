{
 "cells": [
  {
   "cell_type": "markdown",
   "id": "91513abb",
   "metadata": {},
   "source": [
    "# 258. Add Digits\n",
    "\n",
    "https://leetcode.com/problems/add-digits/description/\n",
    "    \n",
    "Given an integer num, repeatedly add all its digits until the result has only one digit, and return it.\n",
    "\n",
    " \n",
    "\n",
    "Example 1:\n",
    "\n",
    "Input: num = 38\n",
    "Output: 2\n",
    "Explanation: The process is\n",
    "38 --> 3 + 8 --> 11\n",
    "11 --> 1 + 1 --> 2 \n",
    "Since 2 has only one digit, return it."
   ]
  },
  {
   "cell_type": "markdown",
   "id": "4884f2bb",
   "metadata": {},
   "source": [
    "# non-math solution"
   ]
  },
  {
   "cell_type": "code",
   "execution_count": 25,
   "id": "b3dfdfa3",
   "metadata": {},
   "outputs": [
    {
     "data": {
      "text/plain": [
       "9"
      ]
     },
     "execution_count": 25,
     "metadata": {},
     "output_type": "execute_result"
    }
   ],
   "source": [
    "num = 18\n",
    "\n",
    "def add_digits(num):\n",
    "    sums = 0\n",
    "    while num > 0:\n",
    "        sums += num % 10\n",
    "        num //= 10\n",
    "    return sums\n",
    "\n",
    "while num >= 10:\n",
    "    num = add_digits(num)\n",
    "    \n",
    "num  "
   ]
  },
  {
   "cell_type": "markdown",
   "id": "0304fef6",
   "metadata": {},
   "source": [
    "# math solution\n",
    "\n",
    "we can see the pattern:\n",
    "* if a number is divisible by 9, the answer will always be 9\n",
    "* if not, then the answer will be **num % 9**"
   ]
  },
  {
   "cell_type": "code",
   "execution_count": 26,
   "id": "abb276bd",
   "metadata": {},
   "outputs": [
    {
     "data": {
      "text/plain": [
       "9"
      ]
     },
     "execution_count": 26,
     "metadata": {},
     "output_type": "execute_result"
    }
   ],
   "source": [
    "num = 18\n",
    "\n",
    "def math(num):\n",
    "    if num % 9 == 0:\n",
    "        num = 9\n",
    "    elif num == 0:\n",
    "        num = 0\n",
    "    else:\n",
    "        num = num % 9\n",
    "    return num\n",
    "\n",
    "math(num)"
   ]
  }
 ],
 "metadata": {
  "kernelspec": {
   "display_name": "Python 3 (ipykernel)",
   "language": "python",
   "name": "python3"
  },
  "language_info": {
   "codemirror_mode": {
    "name": "ipython",
    "version": 3
   },
   "file_extension": ".py",
   "mimetype": "text/x-python",
   "name": "python",
   "nbconvert_exporter": "python",
   "pygments_lexer": "ipython3",
   "version": "3.9.12"
  }
 },
 "nbformat": 4,
 "nbformat_minor": 5
}
