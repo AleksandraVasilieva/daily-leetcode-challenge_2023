{
 "cells": [
  {
   "cell_type": "markdown",
   "id": "70c7f443",
   "metadata": {},
   "source": [
    "# 183. Customers Who Never Order\n",
    "\n",
    "https://leetcode.com/problems/customers-who-never-order/description/\n",
    "    \n",
    "Write an SQL query to report all customers who never order anything."
   ]
  },
  {
   "cell_type": "markdown",
   "id": "a548736a",
   "metadata": {},
   "source": [
    "select name as Customers\n",
    "\n",
    "from customers\n",
    "\n",
    "where id not in \n",
    "\n",
    "(select distinct customerId from orders)"
   ]
  }
 ],
 "metadata": {
  "kernelspec": {
   "display_name": "Python 3 (ipykernel)",
   "language": "python",
   "name": "python3"
  },
  "language_info": {
   "codemirror_mode": {
    "name": "ipython",
    "version": 3
   },
   "file_extension": ".py",
   "mimetype": "text/x-python",
   "name": "python",
   "nbconvert_exporter": "python",
   "pygments_lexer": "ipython3",
   "version": "3.9.12"
  }
 },
 "nbformat": 4,
 "nbformat_minor": 5
}
