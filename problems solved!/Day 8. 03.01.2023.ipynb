{
 "cells": [
  {
   "cell_type": "markdown",
   "id": "a7ddf9bb",
   "metadata": {},
   "source": [
    "# 704. Binary Search\n",
    "\n",
    "https://leetcode.com/problems/binary-search\n",
    "\n",
    "Given an array of integers nums which is sorted in ascending order, and an integer target, write a function to search target in nums. If target exists, then return its index. Otherwise, return -1.\n",
    "\n",
    "You must write an algorithm with O(log n) runtime complexity.\n",
    "\n",
    " \n",
    "\n",
    "Example 1:\n",
    "\n",
    "Input: nums = [-1,0,3,5,9,12], target = 9\n",
    "Output: 4\n",
    "Explanation: 9 exists in nums and its index is 4\n",
    "Example 2:\n",
    "\n",
    "Input: nums = [-1,0,3,5,9,12], target = 2\n",
    "Output: -1\n",
    "Explanation: 2 does not exist in nums so return -1"
   ]
  },
  {
   "cell_type": "code",
   "execution_count": 7,
   "id": "294b00e6",
   "metadata": {},
   "outputs": [],
   "source": [
    "nums = [-1,0,3,5,9,12]\n",
    "target = 3\n",
    "\n",
    "def binary_search(nums, target = 9, index = ((len(nums))//2)):\n",
    "    #if target not in nums:\n",
    "     #   return -1\n",
    "    if nums[index] == target:\n",
    "        return(index)\n",
    "    if nums[index] > target:\n",
    "        index = index // 2 + 1\n",
    "        return binary_search(nums, target, index)\n",
    "    if nums[index] < target:\n",
    "        index = index + ((len(nums) - index) // 2)\n",
    "        return binary_search(nums, target, index)\n",
    "    #return -1"
   ]
  },
  {
   "cell_type": "code",
   "execution_count": 8,
   "id": "d99ef038",
   "metadata": {},
   "outputs": [
    {
     "data": {
      "text/plain": [
       "2"
      ]
     },
     "execution_count": 8,
     "metadata": {},
     "output_type": "execute_result"
    }
   ],
   "source": [
    "binary_search(nums, target)"
   ]
  },
  {
   "cell_type": "markdown",
   "id": "36d7faed",
   "metadata": {},
   "source": [
    "### correct submission"
   ]
  },
  {
   "cell_type": "code",
   "execution_count": 6,
   "id": "99645b79",
   "metadata": {},
   "outputs": [
    {
     "data": {
      "text/plain": [
       "-1"
      ]
     },
     "execution_count": 6,
     "metadata": {},
     "output_type": "execute_result"
    }
   ],
   "source": [
    "nums = [-1,0,3,5,9,12]\n",
    "target = 2\n",
    "\n",
    "def search(nums, target):      \n",
    "    start = 0\n",
    "    finish = len(nums) - 1\n",
    "    def binary(start, finish, nums, target):\n",
    "        middle = (start+finish) // 2\n",
    "        mid_el = nums[middle]\n",
    "        if start <= finish:\n",
    "            if mid_el == target:\n",
    "                return middle\n",
    "            if mid_el > target:\n",
    "                finish = middle - 1\n",
    "                return binary(start, finish, nums, target)\n",
    "            if mid_el < target:\n",
    "                start = middle + 1\n",
    "                return binary(start, finish, nums, target)\n",
    "        return -1\n",
    "    return binary(start, finish, nums, target)\n",
    "\n",
    "search(nums, target)"
   ]
  }
 ],
 "metadata": {
  "kernelspec": {
   "display_name": "Python 3 (ipykernel)",
   "language": "python",
   "name": "python3"
  },
  "language_info": {
   "codemirror_mode": {
    "name": "ipython",
    "version": 3
   },
   "file_extension": ".py",
   "mimetype": "text/x-python",
   "name": "python",
   "nbconvert_exporter": "python",
   "pygments_lexer": "ipython3",
   "version": "3.9.12"
  }
 },
 "nbformat": 4,
 "nbformat_minor": 5
}
