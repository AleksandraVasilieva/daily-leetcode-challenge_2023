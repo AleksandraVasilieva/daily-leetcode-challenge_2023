{
 "cells": [
  {
   "cell_type": "markdown",
   "id": "cdc7f904",
   "metadata": {},
   "source": [
    "# 13. Roman to Integer\n",
    "\n",
    "https://leetcode.com/problems/roman-to-integer/\n",
    "\n",
    "Example 1:\n",
    "\n",
    "Input: s = \"III\"\n",
    "Output: 3\n",
    "Explanation: III = 3.\n",
    "Example 2:\n",
    "\n",
    "Input: s = \"LVIII\"\n",
    "Output: 58\n",
    "Explanation: L = 50, V= 5, III = 3.\n",
    "Example 3:\n",
    "\n",
    "Input: s = \"MCMXCIV\"\n",
    "Output: 1994\n",
    "Explanation: M = 1000, CM = 900, XC = 90 and IV = 4."
   ]
  },
  {
   "cell_type": "code",
   "execution_count": 36,
   "id": "c0066e39",
   "metadata": {},
   "outputs": [
    {
     "data": {
      "text/plain": [
       "621"
      ]
     },
     "execution_count": 36,
     "metadata": {},
     "output_type": "execute_result"
    }
   ],
   "source": [
    "s = \"DCXXI\"\n",
    "integer = 0\n",
    "ss = list(s)\n",
    "custom_index = 0\n",
    "addition_index = 0\n",
    "while custom_index < len(s):\n",
    "    if custom_index + 1 < len(s):\n",
    "        if ss[custom_index] == 'I':\n",
    "            if ss[custom_index+1] == 'V':\n",
    "                integer += 4\n",
    "                addition_index += 2\n",
    "            if ss[custom_index+1] == \"X\":\n",
    "                integer += 9\n",
    "                addition_index += 2\n",
    "            elif ss[custom_index+1] in ['I', 'L','M','C', 'D']:\n",
    "                integer += 1\n",
    "                addition_index += 1\n",
    "        elif ss[custom_index] == \"V\":\n",
    "            integer += 5\n",
    "            addition_index += 1\n",
    "        elif ss[custom_index] == 'X':\n",
    "            if ss[custom_index+1] == \"L\":\n",
    "                integer += 40\n",
    "                addition_index += 2\n",
    "            if ss[custom_index+1] == \"C\":\n",
    "                integer += 90\n",
    "                addition_index += 2\n",
    "            elif ss[custom_index+1] in ['I','M','V','D', 'X']:\n",
    "                integer += 10\n",
    "                addition_index += 1\n",
    "        elif ss[custom_index] == 'C':\n",
    "            if ss[custom_index+1] == \"D\":\n",
    "                integer += 400\n",
    "                addition_index += 2\n",
    "            if ss[custom_index+1] == \"M\":\n",
    "                integer += 900\n",
    "                addition_index += 2\n",
    "            elif ss[custom_index+1] in ['I','L','C','X','V']:\n",
    "                integer += 100\n",
    "                addition_index += 1\n",
    "        elif ss[custom_index] == 'L':\n",
    "            integer += 50\n",
    "            addition_index += 1\n",
    "        elif ss[custom_index] == 'M':\n",
    "            integer += 1000\n",
    "            addition_index += 1\n",
    "        elif ss[custom_index] == 'D':\n",
    "            integer += 500\n",
    "            addition_index += 1\n",
    "    if custom_index + 1 == len(s):\n",
    "        if ss[custom_index] == 'X':\n",
    "            integer += 10\n",
    "            addition_index += 1\n",
    "        if ss[custom_index] == 'I':\n",
    "            integer += 1\n",
    "            addition_index += 1\n",
    "        if ss[custom_index] == 'V':\n",
    "            integer += 5\n",
    "            addition_index += 1\n",
    "        if ss[custom_index] == 'L':\n",
    "            integer += 50\n",
    "            addition_index += 1\n",
    "        if ss[custom_index] == 'C':\n",
    "            integer += 100\n",
    "            addition_index += 1\n",
    "        if ss[custom_index] == 'M':\n",
    "            integer += 1000\n",
    "            addition_index += 1\n",
    "        if ss[custom_index] == 'D':\n",
    "            integer += 500\n",
    "            addition_index += 1\n",
    "    custom_index = custom_index + addition_index\n",
    "    addition_index = 0\n",
    "integer"
   ]
  },
  {
   "cell_type": "markdown",
   "id": "92d20c34",
   "metadata": {},
   "source": [
    "## 1 Brute force approach\n",
    "Correct"
   ]
  },
  {
   "cell_type": "code",
   "execution_count": 37,
   "id": "b8c29fea",
   "metadata": {},
   "outputs": [],
   "source": [
    "def romanToInt(s):\n",
    "    integer = 0\n",
    "    ss = list(s)\n",
    "    custom_index = 0\n",
    "    addition_index = 0\n",
    "    while custom_index < len(s):\n",
    "        if custom_index + 1 < len(s):\n",
    "            if ss[custom_index] == 'I':\n",
    "                if ss[custom_index+1] == 'V':\n",
    "                    integer += 4\n",
    "                    addition_index += 2\n",
    "                if ss[custom_index+1] == \"X\":\n",
    "                    integer += 9\n",
    "                    addition_index += 2\n",
    "                elif ss[custom_index+1] in ['I', 'L','M','C', 'D']:\n",
    "                    integer += 1\n",
    "                    addition_index += 1\n",
    "            elif ss[custom_index] == \"V\":\n",
    "                integer += 5\n",
    "                addition_index += 1\n",
    "            elif ss[custom_index] == 'X':\n",
    "                if ss[custom_index+1] == \"L\":\n",
    "                    integer += 40\n",
    "                    addition_index += 2\n",
    "                if ss[custom_index+1] == \"C\":\n",
    "                    integer += 90\n",
    "                    addition_index += 2\n",
    "                elif ss[custom_index+1] in ['I','M','V','D', 'X']:\n",
    "                    integer += 10\n",
    "                    addition_index += 1\n",
    "            elif ss[custom_index] == 'C':\n",
    "                if ss[custom_index+1] == \"D\":\n",
    "                    integer += 400\n",
    "                    addition_index += 2\n",
    "                if ss[custom_index+1] == \"M\":\n",
    "                    integer += 900\n",
    "                    addition_index += 2\n",
    "                elif ss[custom_index+1] in ['I','L','C','X','V']:\n",
    "                    integer += 100\n",
    "                    addition_index += 1\n",
    "            elif ss[custom_index] == 'L':\n",
    "                integer += 50\n",
    "                addition_index += 1\n",
    "            elif ss[custom_index] == 'M':\n",
    "                integer += 1000\n",
    "                addition_index += 1\n",
    "            elif ss[custom_index] == 'D':\n",
    "                integer += 500\n",
    "                addition_index += 1\n",
    "        if custom_index + 1 == len(s):\n",
    "            if ss[custom_index] == 'X':\n",
    "                integer += 10\n",
    "                addition_index += 1\n",
    "            if ss[custom_index] == 'I':\n",
    "                integer += 1\n",
    "                addition_index += 1\n",
    "            if ss[custom_index] == 'V':\n",
    "                integer += 5\n",
    "                addition_index += 1\n",
    "            if ss[custom_index] == 'L':\n",
    "                integer += 50\n",
    "                addition_index += 1\n",
    "            if ss[custom_index] == 'C':\n",
    "                integer += 100\n",
    "                addition_index += 1\n",
    "            if ss[custom_index] == 'M':\n",
    "                integer += 1000\n",
    "                addition_index += 1\n",
    "            if ss[custom_index] == 'D':\n",
    "                integer += 500\n",
    "                addition_index += 1\n",
    "        custom_index = custom_index + addition_index\n",
    "        addition_index = 0\n",
    "    return integer"
   ]
  },
  {
   "cell_type": "code",
   "execution_count": 38,
   "id": "6f07fa16",
   "metadata": {},
   "outputs": [
    {
     "data": {
      "text/plain": [
       "621"
      ]
     },
     "execution_count": 38,
     "metadata": {},
     "output_type": "execute_result"
    }
   ],
   "source": [
    "romanToInt('DCXXI')"
   ]
  },
  {
   "cell_type": "markdown",
   "id": "80fe893a",
   "metadata": {},
   "source": [
    "## More neat approach with the help of community\n",
    "\n",
    "https://leetcode.com/problems/roman-to-integer/solutions/264743/clean-python-beats-99-78/"
   ]
  },
  {
   "cell_type": "code",
   "execution_count": 42,
   "id": "5e14f54c",
   "metadata": {},
   "outputs": [
    {
     "data": {
      "text/plain": [
       "'1bcde0g'"
      ]
     },
     "execution_count": 42,
     "metadata": {},
     "output_type": "execute_result"
    }
   ],
   "source": [
    "'abcdefg'.replace('a', '1').replace('f', '0')"
   ]
  },
  {
   "cell_type": "code",
   "execution_count": 47,
   "id": "2bf091db",
   "metadata": {},
   "outputs": [
    {
     "name": "stdout",
     "output_type": "stream",
     "text": [
      "MDCCCCLXXXXIIII\n"
     ]
    },
    {
     "data": {
      "text/plain": [
       "1994"
      ]
     },
     "execution_count": 47,
     "metadata": {},
     "output_type": "execute_result"
    }
   ],
   "source": [
    "s = 'MCMXCIV'\n",
    "translations = {\n",
    "            \"I\": 1,\n",
    "            \"V\": 5,\n",
    "            \"X\": 10,\n",
    "            \"L\": 50,\n",
    "            \"C\": 100,\n",
    "            \"D\": 500,\n",
    "            \"M\": 1000\n",
    "        }\n",
    "integer = 0\n",
    "s = s.replace(\"IV\", \"IIII\")\n",
    "s = s.replace(\"IX\", \"VIIII\")\n",
    "s = s.replace(\"XL\", \"XXXX\")\n",
    "s = s.replace(\"XC\", \"LXXXX\")\n",
    "s = s.replace(\"CD\", \"CCCC\")\n",
    "s = s.replace(\"CM\", \"DCCCC\")\n",
    "\n",
    "print(s)\n",
    "\n",
    "for element in s:\n",
    "    integer += translations[element]\n",
    "integer"
   ]
  },
  {
   "cell_type": "code",
   "execution_count": 58,
   "id": "5c72729f",
   "metadata": {},
   "outputs": [
    {
     "data": {
      "text/plain": [
       "1994"
      ]
     },
     "execution_count": 58,
     "metadata": {},
     "output_type": "execute_result"
    }
   ],
   "source": [
    "def translation(s):\n",
    "        translations = {\n",
    "            \"I\": 1,\n",
    "            \"V\": 5,\n",
    "            \"X\": 10,\n",
    "            \"L\": 50,\n",
    "            \"C\": 100,\n",
    "            \"D\": 500,\n",
    "            \"M\": 1000\n",
    "        }\n",
    "        integer = 0\n",
    "        s = s.replace(\"IV\", \"IIII\")\n",
    "        s = s.replace(\"IX\", \"VIIII\")\n",
    "        s = s.replace(\"XL\", \"XXXX\")\n",
    "        s = s.replace(\"XC\", \"LXXXX\")\n",
    "        s = s.replace(\"CD\", \"CCCC\")\n",
    "        s = s.replace(\"CM\", \"DCCCC\")\n",
    "        \n",
    "        for element in s:\n",
    "            integer += translations[element]\n",
    "        return integer\n",
    "\n",
    "translation('MCMXCIV')"
   ]
  },
  {
   "cell_type": "code",
   "execution_count": 49,
   "id": "ce3cfa69",
   "metadata": {},
   "outputs": [
    {
     "data": {
      "text/plain": [
       "1000"
      ]
     },
     "execution_count": 49,
     "metadata": {},
     "output_type": "execute_result"
    }
   ],
   "source": [
    "translations = {\n",
    "            \"I\": 1,\n",
    "            \"V\": 5,\n",
    "            \"X\": 10,\n",
    "            \"L\": 50,\n",
    "            \"C\": 100,\n",
    "            \"D\": 500,\n",
    "            \"M\": 1000 }\n",
    "\n",
    "translations['M']"
   ]
  }
 ],
 "metadata": {
  "kernelspec": {
   "display_name": "Python 3 (ipykernel)",
   "language": "python",
   "name": "python3"
  },
  "language_info": {
   "codemirror_mode": {
    "name": "ipython",
    "version": 3
   },
   "file_extension": ".py",
   "mimetype": "text/x-python",
   "name": "python",
   "nbconvert_exporter": "python",
   "pygments_lexer": "ipython3",
   "version": "3.9.12"
  }
 },
 "nbformat": 4,
 "nbformat_minor": 5
}
