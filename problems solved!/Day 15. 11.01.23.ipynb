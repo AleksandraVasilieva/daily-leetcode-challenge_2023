{
 "cells": [
  {
   "cell_type": "markdown",
   "id": "cd30e876",
   "metadata": {},
   "source": [
    "# 14. Longest Common Prefix\n",
    "\n",
    "https://leetcode.com/problems/longest-common-prefix/\n",
    "\n",
    "Write a function to find the longest common prefix string amongst an array of strings.\n",
    "\n",
    "If there is no common prefix, return an empty string \"\".\n",
    "\n",
    "\n",
    "Example 1:\n",
    "\n",
    "Input: strs = [\"flower\",\"flow\",\"flight\"]\n",
    "Output: \"fl\"\n",
    "Example 2:\n",
    "\n",
    "Input: strs = [\"dog\",\"racecar\",\"car\"]\n",
    "Output: \"\"\n",
    "Explanation: There is no common prefix among the input strings."
   ]
  },
  {
   "cell_type": "markdown",
   "id": "48d56f54",
   "metadata": {},
   "source": [
    "### step 1: creting a function that returns all substrings of a given strings"
   ]
  },
  {
   "cell_type": "code",
   "execution_count": 23,
   "id": "9aae6294",
   "metadata": {},
   "outputs": [
    {
     "data": {
      "text/plain": [
       "['f',\n",
       " 'fl',\n",
       " 'flo',\n",
       " 'flow',\n",
       " 'flowe',\n",
       " 'flower',\n",
       " 'l',\n",
       " 'lo',\n",
       " 'low',\n",
       " 'lowe',\n",
       " 'lower',\n",
       " 'o',\n",
       " 'ow',\n",
       " 'owe',\n",
       " 'ower',\n",
       " 'w',\n",
       " 'we',\n",
       " 'wer',\n",
       " 'e',\n",
       " 'er',\n",
       " 'r']"
      ]
     },
     "execution_count": 23,
     "metadata": {},
     "output_type": "execute_result"
    }
   ],
   "source": [
    "strs = [\"flower\",\"flow\",\"flight\"] \n",
    "\n",
    "substrs = []\n",
    "for i in range(0, len('flower')):\n",
    "    for ii in range(i, len('flower')):\n",
    "        substrs.append(''.join(list('flower')[i:ii+1]))\n",
    "                \n",
    "substrs                 "
   ]
  },
  {
   "cell_type": "code",
   "execution_count": 35,
   "id": "fd579720",
   "metadata": {},
   "outputs": [],
   "source": [
    "def get_subs(s):\n",
    "    substrs = []\n",
    "    for i in range(0, len(list(s))):\n",
    "        for ii in range(i, len(list(s))):\n",
    "            substrs.append(''.join(list(s)[i:ii+1]))\n",
    "    return set(substrs)"
   ]
  },
  {
   "cell_type": "code",
   "execution_count": 36,
   "id": "77c2f4d5",
   "metadata": {},
   "outputs": [
    {
     "data": {
      "text/plain": [
       "{'e',\n",
       " 'er',\n",
       " 'h',\n",
       " 'he',\n",
       " 'her',\n",
       " 'm',\n",
       " 'mo',\n",
       " 'mot',\n",
       " 'moth',\n",
       " 'mothe',\n",
       " 'mother',\n",
       " 'o',\n",
       " 'ot',\n",
       " 'oth',\n",
       " 'othe',\n",
       " 'other',\n",
       " 'r',\n",
       " 't',\n",
       " 'th',\n",
       " 'the',\n",
       " 'ther'}"
      ]
     },
     "execution_count": 36,
     "metadata": {},
     "output_type": "execute_result"
    }
   ],
   "source": [
    "get_subs('mother')"
   ]
  },
  {
   "cell_type": "markdown",
   "id": "094d8e1d",
   "metadata": {},
   "source": [
    "### step 2: intersecting sets to get same elements"
   ]
  },
  {
   "cell_type": "code",
   "execution_count": 34,
   "id": "c73c6be4",
   "metadata": {},
   "outputs": [
    {
     "data": {
      "text/plain": [
       "{1}"
      ]
     },
     "execution_count": 34,
     "metadata": {},
     "output_type": "execute_result"
    }
   ],
   "source": [
    "a = {1, 2, 3}\n",
    "b = {4, 5, 1}\n",
    "a & b"
   ]
  },
  {
   "cell_type": "code",
   "execution_count": 44,
   "id": "07a5de25",
   "metadata": {},
   "outputs": [
    {
     "data": {
      "text/plain": [
       "{'f', 'fl', 'l'}"
      ]
     },
     "execution_count": 44,
     "metadata": {},
     "output_type": "execute_result"
    }
   ],
   "source": [
    "strs = [\"flower\",\"flow\",\"flight\"]\n",
    "\n",
    "subs = []\n",
    "\n",
    "for i in strs:\n",
    "    subs.append(get_subs(i))\n",
    "\n",
    "answer = subs[0]\n",
    "\n",
    "i = 0\n",
    "while i < len(strs):\n",
    "    answer = answer & subs[i]    \n",
    "    i += 1\n",
    "    \n",
    "answer"
   ]
  },
  {
   "cell_type": "markdown",
   "id": "09f3b268",
   "metadata": {},
   "source": [
    "### step 3: getting the longest intersection"
   ]
  },
  {
   "cell_type": "code",
   "execution_count": 49,
   "id": "9fa0bc1a",
   "metadata": {},
   "outputs": [
    {
     "data": {
      "text/plain": [
       "'fl'"
      ]
     },
     "execution_count": 49,
     "metadata": {},
     "output_type": "execute_result"
    }
   ],
   "source": [
    "max_len = 0\n",
    "common = ''\n",
    "for i in answer:\n",
    "    if len(i) > max_len:\n",
    "        max_len = len(i)\n",
    "        common = i\n",
    "common"
   ]
  },
  {
   "cell_type": "markdown",
   "id": "b7e89e90",
   "metadata": {},
   "source": [
    "### Uniting all steps:"
   ]
  },
  {
   "cell_type": "code",
   "execution_count": 68,
   "id": "866d7751",
   "metadata": {},
   "outputs": [],
   "source": [
    "def common(strs):\n",
    "    \n",
    "    # 1. getting substrings\n",
    "    \n",
    "    def get_subs(s):\n",
    "        substrs = []\n",
    "        for i in range(0, len(list(s))):\n",
    "            for ii in range(i, len(list(s))):\n",
    "                substrs.append(''.join(list(s)[i:ii+1]))\n",
    "        return set(substrs)\n",
    "    \n",
    "    subs = []\n",
    "    for i in strs:\n",
    "        subs.append(get_subs(i))\n",
    "    answer = subs[0]\n",
    "\n",
    "    # 2. intersecting sets\n",
    "    \n",
    "    i = 0\n",
    "    while i < len(strs):\n",
    "        answer = answer & subs[i]    \n",
    "        i += 1\n",
    "\n",
    "    # 3. the longest substring\n",
    "    \n",
    "    max_len = 0\n",
    "    common = ''\n",
    "    for i in answer:\n",
    "        if len(i) > max_len:\n",
    "            max_len = len(i)\n",
    "            common = i\n",
    "    return common"
   ]
  },
  {
   "cell_type": "code",
   "execution_count": 69,
   "id": "e798a8d8",
   "metadata": {},
   "outputs": [
    {
     "data": {
      "text/plain": [
       "'fl'"
      ]
     },
     "execution_count": 69,
     "metadata": {},
     "output_type": "execute_result"
    }
   ],
   "source": [
    "common(strs)"
   ]
  },
  {
   "cell_type": "code",
   "execution_count": 70,
   "id": "0c313195",
   "metadata": {},
   "outputs": [
    {
     "data": {
      "text/plain": [
       "'c'"
      ]
     },
     "execution_count": 70,
     "metadata": {},
     "output_type": "execute_result"
    }
   ],
   "source": [
    "common([\"cir\",\"car\"])"
   ]
  },
  {
   "cell_type": "markdown",
   "id": "959082ee",
   "metadata": {},
   "source": [
    "## So only at this point I understood the assignment\n",
    "\n",
    "The longest common prefix is not equal to the longest common substring... Prefix is what the word starts with.\n",
    "\n",
    "The code below finds the longest common substring but **fl** is not a prefix as the first words doesn't start with **fl**"
   ]
  },
  {
   "cell_type": "code",
   "execution_count": 71,
   "id": "e22a4c7a",
   "metadata": {},
   "outputs": [
    {
     "data": {
      "text/plain": [
       "'fl'"
      ]
     },
     "execution_count": 71,
     "metadata": {},
     "output_type": "execute_result"
    }
   ],
   "source": [
    "common([\"reflower\",\"flow\",\"flight\"])"
   ]
  },
  {
   "cell_type": "markdown",
   "id": "27daad7f",
   "metadata": {},
   "source": [
    "**get_subs** function should be modified"
   ]
  },
  {
   "cell_type": "code",
   "execution_count": 81,
   "id": "1f1aa8be",
   "metadata": {},
   "outputs": [
    {
     "data": {
      "text/plain": [
       "['f', 'fl', 'flo', 'flow', 'flowe', 'flower']"
      ]
     },
     "execution_count": 81,
     "metadata": {},
     "output_type": "execute_result"
    }
   ],
   "source": [
    "def get_subs(s):\n",
    "    substrs = []\n",
    "    for i in range(0, len(list(s))):\n",
    "        substrs.append(''.join(list(s)[0:i+1]))\n",
    "    return (substrs)\n",
    "    \n",
    "get_subs('flower')"
   ]
  },
  {
   "cell_type": "markdown",
   "id": "b91dc962",
   "metadata": {},
   "source": [
    "## Correct!"
   ]
  },
  {
   "cell_type": "code",
   "execution_count": 106,
   "id": "21bac11b",
   "metadata": {},
   "outputs": [],
   "source": [
    "def common_prefix(strs):\n",
    "    \n",
    "    # 1. getting substrings\n",
    "    \n",
    "    def get_subs(s):\n",
    "        substrs = []\n",
    "        for i in range(0, len(s)):\n",
    "            substrs.append(s[0: i + 1])\n",
    "        return set(substrs)\n",
    "    \n",
    "    subs = []\n",
    "    for i in strs:\n",
    "        subs.append(get_subs(i))\n",
    "    answer = subs[0]\n",
    "\n",
    "    # 2. intersecting sets\n",
    "    \n",
    "    i = 0\n",
    "    while i < len(strs):\n",
    "        answer = answer & subs[i]    \n",
    "        i += 1\n",
    "\n",
    "    # 3. the longest substring\n",
    "    \n",
    "    max_len = 0\n",
    "    common = ''\n",
    "    for i in answer:\n",
    "        if len(i) > max_len:\n",
    "            max_len = len(i)\n",
    "            common = i\n",
    "    return common"
   ]
  },
  {
   "cell_type": "code",
   "execution_count": 107,
   "id": "dbd37cdb",
   "metadata": {},
   "outputs": [
    {
     "data": {
      "text/plain": [
       "'fl'"
      ]
     },
     "execution_count": 107,
     "metadata": {},
     "output_type": "execute_result"
    }
   ],
   "source": [
    "common_prefix([\"flower\",\"flow\",\"flight\"])"
   ]
  },
  {
   "cell_type": "code",
   "execution_count": 86,
   "id": "ee153f33",
   "metadata": {},
   "outputs": [
    {
     "data": {
      "text/plain": [
       "''"
      ]
     },
     "execution_count": 86,
     "metadata": {},
     "output_type": "execute_result"
    }
   ],
   "source": [
    "common_prefix([\"reflower\",\"flow\",\"flight\"])"
   ]
  },
  {
   "cell_type": "markdown",
   "id": "375f749b",
   "metadata": {},
   "source": [
    "# Revising solutions of the community"
   ]
  },
  {
   "cell_type": "markdown",
   "id": "64bf5c35",
   "metadata": {},
   "source": [
    "### 1) Using startswith and the shortest word.\n",
    "\n",
    "https://leetcode.com/problems/longest-common-prefix/solutions/2869179/python-99-faster-easy-solution/\n"
   ]
  },
  {
   "cell_type": "code",
   "execution_count": 121,
   "id": "896cde0e",
   "metadata": {},
   "outputs": [],
   "source": [
    "def longestCommonPrefix_startswith(strs): # strs = [\"flower\",\"flow\",\"flight\"]\n",
    "        short = min(strs, key=len) # short = \"flow\"\n",
    "        for item in strs: # When item = \"flight\"\n",
    "            while len(short) > 0:\n",
    "                # during loop 1 condition fails, during loop 2 condition fails, \n",
    "                #during loop 3 \"flight\" startswith fl is True\n",
    "                if item.startswith(short): \n",
    "                    break\n",
    "                else:\n",
    "                    short = short[:-1] # during loop 1 short = flo, during loop 2 short = fl\n",
    "        return short"
   ]
  },
  {
   "cell_type": "markdown",
   "id": "8d1f6cab",
   "metadata": {},
   "source": [
    "The idea is to iterate only through the prefixes of the shortest string as the lenght of a common prefix cannot be longer than the shortest word.\n",
    "\n",
    "Using **startswith** we can check if every string in the list starts with a common prefix equal to the shortest word. If not - the last element of the shortest word is cut and the algorithm is repeated."
   ]
  },
  {
   "cell_type": "code",
   "execution_count": 135,
   "id": "8b83b45d",
   "metadata": {},
   "outputs": [
    {
     "data": {
      "text/plain": [
       "True"
      ]
     },
     "execution_count": 135,
     "metadata": {},
     "output_type": "execute_result"
    }
   ],
   "source": [
    "r = 'erty'\n",
    "r.startswith('er')"
   ]
  },
  {
   "cell_type": "code",
   "execution_count": 100,
   "id": "1f9a279b",
   "metadata": {},
   "outputs": [
    {
     "data": {
      "text/plain": [
       "[1, 2, 4]"
      ]
     },
     "execution_count": 100,
     "metadata": {},
     "output_type": "execute_result"
    }
   ],
   "source": [
    "a = [1, 2, 4, 8]\n",
    "a[:-1]"
   ]
  },
  {
   "cell_type": "code",
   "execution_count": 109,
   "id": "e7194817",
   "metadata": {},
   "outputs": [
    {
     "data": {
      "text/plain": [
       "('ar', '')"
      ]
     },
     "execution_count": 109,
     "metadata": {},
     "output_type": "execute_result"
    }
   ],
   "source": [
    "b = 'art'\n",
    "c = 'd'\n",
    "b[:-1], c[:-1]\n"
   ]
  },
  {
   "cell_type": "code",
   "execution_count": 104,
   "id": "cd1dad5d",
   "metadata": {},
   "outputs": [
    {
     "data": {
      "text/plain": [
       "'fl'"
      ]
     },
     "execution_count": 104,
     "metadata": {},
     "output_type": "execute_result"
    }
   ],
   "source": [
    "strs = [\"flower\",\"flow\",\"flight\"]\n",
    "\n",
    "short = min(strs, key=len)\n",
    "short\n",
    "for item in strs:\n",
    "    while len(short) > 0:\n",
    "        if item.startswith(short): \n",
    "            break\n",
    "        else:\n",
    "            short = short[:-1]\n",
    "short"
   ]
  },
  {
   "cell_type": "code",
   "execution_count": 122,
   "id": "b415d642",
   "metadata": {},
   "outputs": [
    {
     "data": {
      "text/plain": [
       "'fl'"
      ]
     },
     "execution_count": 122,
     "metadata": {},
     "output_type": "execute_result"
    }
   ],
   "source": [
    "longestCommonPrefix_startswith([\"flower\",\"flow\",\"flight\"])"
   ]
  },
  {
   "cell_type": "markdown",
   "id": "6265bda7",
   "metadata": {},
   "source": [
    "### 2) Using zip  and set\n",
    "\n",
    "https://leetcode.com/problems/longest-common-prefix/solutions/2516139/simple-python-solution-with-zip-and-set/"
   ]
  },
  {
   "cell_type": "code",
   "execution_count": 129,
   "id": "6e369342",
   "metadata": {},
   "outputs": [],
   "source": [
    "def longestCommonPrefix_zip(strs):\n",
    "    match = 0    \n",
    "    for vals in zip(*strs):\n",
    "        if len(set(vals)) == 1:\n",
    "            match += 1\n",
    "        else:\n",
    "            break\n",
    "        \n",
    "    return strs[0][:match]"
   ]
  },
  {
   "cell_type": "code",
   "execution_count": 113,
   "id": "6b1b26b2",
   "metadata": {},
   "outputs": [
    {
     "data": {
      "text/plain": [
       "[(1, 4), (2, 5), (3, 6)]"
      ]
     },
     "execution_count": 113,
     "metadata": {},
     "output_type": "execute_result"
    }
   ],
   "source": [
    "a = [1, 2, 3]\n",
    "b = [4, 5, 6]\n",
    "list(zip(a, b))"
   ]
  },
  {
   "cell_type": "code",
   "execution_count": 114,
   "id": "221cdb7b",
   "metadata": {},
   "outputs": [
    {
     "data": {
      "text/plain": [
       "[(1, 5, 'a'), (2, 6, 'g'), (3, 7, 't')]"
      ]
     },
     "execution_count": 114,
     "metadata": {},
     "output_type": "execute_result"
    }
   ],
   "source": [
    "c = [[1, 2, 3], [5, 6, 7], ['a', 'g', 't']]\n",
    "\n",
    "list(zip(*c))"
   ]
  },
  {
   "cell_type": "code",
   "execution_count": 115,
   "id": "ef0014c0",
   "metadata": {},
   "outputs": [
    {
     "data": {
      "text/plain": [
       "[(1, 5, 'a'), (2, 6, 'g')]"
      ]
     },
     "execution_count": 115,
     "metadata": {},
     "output_type": "execute_result"
    }
   ],
   "source": [
    "t = [[1, 2], [5, 6, 7], ['a', 'g', 't']]\n",
    "\n",
    "list(zip(*t))"
   ]
  },
  {
   "cell_type": "code",
   "execution_count": 118,
   "id": "bc2d4107",
   "metadata": {},
   "outputs": [
    {
     "data": {
      "text/plain": [
       "[('f', 'f', 'f'), ('l', 'l', 'l'), ('o', 'o', 'i'), ('w', 'w', 'g')]"
      ]
     },
     "execution_count": 118,
     "metadata": {},
     "output_type": "execute_result"
    }
   ],
   "source": [
    "strs = [\"flower\",\"flow\",\"flight\"]\n",
    "list(zip(*strs))"
   ]
  },
  {
   "cell_type": "markdown",
   "id": "a88bb787",
   "metadata": {},
   "source": [
    "If we take the set of every element in a zipped list, the length of this set would be equal to 1 if all the elements are the same. So number of \"equal\" elements would be the cut to the common prefix. \n",
    "\n",
    "Then we can take any element of a list and cut it by the found index."
   ]
  },
  {
   "cell_type": "code",
   "execution_count": 119,
   "id": "93ffbe49",
   "metadata": {},
   "outputs": [
    {
     "data": {
      "text/plain": [
       "'fl'"
      ]
     },
     "execution_count": 119,
     "metadata": {},
     "output_type": "execute_result"
    }
   ],
   "source": [
    "strs = [\"flower\",\"flow\",\"flight\"]\n",
    "\n",
    "match = 0\n",
    "\n",
    "for i in zip(*strs):\n",
    "    if len(set(i)) == 1:\n",
    "        match += 1\n",
    "    else: break\n",
    "\n",
    "strs[0][:match]"
   ]
  },
  {
   "cell_type": "code",
   "execution_count": 130,
   "id": "47497b39",
   "metadata": {},
   "outputs": [
    {
     "data": {
      "text/plain": [
       "'fl'"
      ]
     },
     "execution_count": 130,
     "metadata": {},
     "output_type": "execute_result"
    }
   ],
   "source": [
    "longestCommonPrefix_zip([\"flower\",\"flow\",\"flight\"])"
   ]
  }
 ],
 "metadata": {
  "kernelspec": {
   "display_name": "Python 3 (ipykernel)",
   "language": "python",
   "name": "python3"
  },
  "language_info": {
   "codemirror_mode": {
    "name": "ipython",
    "version": 3
   },
   "file_extension": ".py",
   "mimetype": "text/x-python",
   "name": "python",
   "nbconvert_exporter": "python",
   "pygments_lexer": "ipython3",
   "version": "3.9.12"
  }
 },
 "nbformat": 4,
 "nbformat_minor": 5
}
