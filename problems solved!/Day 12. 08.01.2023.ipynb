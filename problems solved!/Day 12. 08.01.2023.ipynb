{
 "cells": [
  {
   "cell_type": "markdown",
   "id": "dde7c9dd",
   "metadata": {},
   "source": [
    "# 412. Fizz Buzz\n",
    "\n",
    "https://leetcode.com/problems/fizz-buzz/\n",
    "\n",
    "Given an integer n, return a string array answer (1-indexed) where:\n",
    "\n",
    "answer[i] == \"FizzBuzz\" if i is divisible by 3 and 5.\n",
    "answer[i] == \"Fizz\" if i is divisible by 3.\n",
    "answer[i] == \"Buzz\" if i is divisible by 5.\n",
    "answer[i] == i (as a string) if none of the above conditions are true.\n",
    " \n",
    "\n",
    "Example 1:\n",
    "\n",
    "Input: n = 3\n",
    "Output: [\"1\",\"2\",\"Fizz\"]\n",
    "Example 2:\n",
    "\n",
    "Input: n = 5\n",
    "Output: [\"1\",\"2\",\"Fizz\",\"4\",\"Buzz\"]\n",
    "Example 3:\n",
    "\n",
    "Input: n = 15\n",
    "Output: [\"1\",\"2\",\"Fizz\",\"4\",\"Buzz\",\"Fizz\",\"7\",\"8\",\"Fizz\",\"Buzz\",\"11\",\"Fizz\",\"13\",\"14\",\"FizzBuzz\"]\n",
    " \n",
    "\n",
    "Constraints:\n",
    "\n",
    "1 <= n <= 104"
   ]
  },
  {
   "cell_type": "code",
   "execution_count": 17,
   "id": "ea133bcb",
   "metadata": {},
   "outputs": [
    {
     "data": {
      "text/plain": [
       "['1', '2', 'Fizz', '4', 'Buzz']"
      ]
     },
     "execution_count": 17,
     "metadata": {},
     "output_type": "execute_result"
    }
   ],
   "source": [
    "n = 5\n",
    "answers = []\n",
    "\n",
    "for i in range(1, n+1):\n",
    "    if i % 3 == 0 and i % 5 == 0:\n",
    "        answers.append(\"FizzBuzz\")\n",
    "        continue\n",
    "    if i % 3 != 0 and i % 5 == 0:\n",
    "        answers.append(\"Buzz\")\n",
    "        continue\n",
    "    if i % 3 == 0 and i % 5 != 0:\n",
    "        answers.append(\"Fizz\")\n",
    "        continue    \n",
    "    else:\n",
    "        answers.append(str(i))\n",
    "        \n",
    "answers   "
   ]
  },
  {
   "cell_type": "markdown",
   "id": "98a4b8d0",
   "metadata": {},
   "source": [
    "## correct"
   ]
  },
  {
   "cell_type": "code",
   "execution_count": null,
   "id": "789e56d9",
   "metadata": {},
   "outputs": [],
   "source": [
    "class Solution:\n",
    "    def fizzBuzz(self, n: int) -> List[str]:\n",
    "        answers = []\n",
    "\n",
    "        for i in range(1, n+1):\n",
    "            if i % 3 == 0 and i % 5 == 0:\n",
    "                answers.append(\"FizzBuzz\")\n",
    "                continue\n",
    "            if i % 3 != 0 and i % 5 == 0:\n",
    "                answers.append(\"Buzz\")\n",
    "                continue\n",
    "            if i % 3 == 0 and i % 5 != 0:\n",
    "                answers.append(\"Fizz\")\n",
    "                continue\n",
    "            else:\n",
    "                answers.append(str(i))\n",
    "        \n",
    "        return answers"
   ]
  }
 ],
 "metadata": {
  "kernelspec": {
   "display_name": "Python 3 (ipykernel)",
   "language": "python",
   "name": "python3"
  },
  "language_info": {
   "codemirror_mode": {
    "name": "ipython",
    "version": 3
   },
   "file_extension": ".py",
   "mimetype": "text/x-python",
   "name": "python",
   "nbconvert_exporter": "python",
   "pygments_lexer": "ipython3",
   "version": "3.9.12"
  }
 },
 "nbformat": 4,
 "nbformat_minor": 5
}
