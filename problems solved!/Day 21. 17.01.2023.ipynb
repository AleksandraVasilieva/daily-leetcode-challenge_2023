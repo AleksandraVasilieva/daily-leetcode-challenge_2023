{
 "cells": [
  {
   "cell_type": "markdown",
   "id": "b6441b77",
   "metadata": {},
   "source": [
    "# 66. Plus One\n",
    "\n",
    "https://leetcode.com/problems/plus-one/\n",
    "    \n",
    "You are given a large integer represented as an integer array digits, where each digits[i] is the ith digit of the integer. The digits are ordered from most significant to least significant in left-to-right order. The large integer does not contain any leading 0's.\n",
    "\n",
    "Increment the large integer by one and return the resulting array of digits.\n",
    "\n",
    " \n",
    "\n",
    "Example 1:\n",
    "\n",
    "Input: digits = [1,2,3]\n",
    "Output: [1,2,4]\n",
    "Explanation: The array represents the integer 123.\n",
    "Incrementing by one gives 123 + 1 = 124.\n",
    "Thus, the result should be [1,2,4].\n",
    "Example 2:\n",
    "\n",
    "Input: digits = [4,3,2,1]\n",
    "Output: [4,3,2,2]\n",
    "Explanation: The array represents the integer 4321.\n",
    "Incrementing by one gives 4321 + 1 = 4322.\n",
    "Thus, the result should be [4,3,2,2].\n",
    "Example 3:\n",
    "\n",
    "Input: digits = [9]\n",
    "Output: [1,0]\n",
    "Explanation: The array represents the integer 9.\n",
    "Incrementing by one gives 9 + 1 = 10.\n",
    "Thus, the result should be [1,0].\n",
    " \n",
    "\n",
    "Constraints:\n",
    "\n",
    "1 <= digits.length <= 100\n",
    "0 <= digits[i] <= 9\n",
    "digits does not contain any leading 0's."
   ]
  },
  {
   "cell_type": "code",
   "execution_count": 10,
   "id": "3788ecdd",
   "metadata": {},
   "outputs": [
    {
     "data": {
      "text/plain": [
       "[1, 2, 3]"
      ]
     },
     "execution_count": 10,
     "metadata": {},
     "output_type": "execute_result"
    }
   ],
   "source": [
    "a = [1, 2, 3]\n",
    "a[::-1][2] = 6\n",
    "a"
   ]
  },
  {
   "cell_type": "code",
   "execution_count": 14,
   "id": "4c444af9",
   "metadata": {},
   "outputs": [
    {
     "name": "stdout",
     "output_type": "stream",
     "text": [
      "0\n",
      "1\n",
      "2\n",
      "3\n"
     ]
    }
   ],
   "source": [
    "for i in range(0, 4):\n",
    "    print(i)"
   ]
  },
  {
   "cell_type": "code",
   "execution_count": 64,
   "id": "df4d3fcd",
   "metadata": {},
   "outputs": [
    {
     "data": {
      "text/plain": [
       "1"
      ]
     },
     "execution_count": 64,
     "metadata": {},
     "output_type": "execute_result"
    }
   ],
   "source": [
    "[1, 2, 3, 4][-4]"
   ]
  },
  {
   "cell_type": "markdown",
   "id": "05405a17",
   "metadata": {},
   "source": [
    "firstly I tried an inefficient method which gives mixed feelings"
   ]
  },
  {
   "cell_type": "code",
   "execution_count": 72,
   "id": "266a0042",
   "metadata": {},
   "outputs": [
    {
     "name": "stdout",
     "output_type": "stream",
     "text": [
      "-1\n"
     ]
    },
    {
     "data": {
      "text/plain": [
       "[9, 9, 10, 0]"
      ]
     },
     "execution_count": 72,
     "metadata": {},
     "output_type": "execute_result"
    }
   ],
   "source": [
    "digits = [9,9,9,9]\n",
    "\n",
    "def check(digits, n):\n",
    "    print(n)\n",
    "    if digits[n] < 9:\n",
    "        digits[n] += 1\n",
    "        if n - 1 < -len(digits):\n",
    "                check(digits, n-1)\n",
    "        if n - 1 > -len(digits):\n",
    "            return digits\n",
    "    if digits[n] == 9:\n",
    "        digits[n] = 0\n",
    "        digits[n - 1] += 1\n",
    "        if n - 1 < - len(digits):\n",
    "            check(digits, n-1)\n",
    "        if n - 1 > - len(digits):\n",
    "            return digits\n",
    "    if digits[n] > 9:\n",
    "        if -n <= len(digits):\n",
    "            k = 10 - digits[n] \n",
    "            digits[n] = k\n",
    "            digits[n-1] += k\n",
    "            if n - 1 < -len(digits):\n",
    "                check(digits, n-1)\n",
    "            if n - 1 > -len(digits):\n",
    "                return digits\n",
    "        if -n > len(digits):\n",
    "            print('lalala')\n",
    "            digits.insert(0, 1)\n",
    "            k = 10 - digits[n] \n",
    "            digits[n] = k\n",
    "            digits[n-1] += k\n",
    "            return digits\n",
    "    \n",
    "    return digits\n",
    "            \n",
    "\n",
    "check(digits, n = -1)"
   ]
  },
  {
   "cell_type": "markdown",
   "id": "e1bbe854",
   "metadata": {},
   "source": [
    "Then I got tired and thought of a faster way which turned out to be correct"
   ]
  },
  {
   "cell_type": "code",
   "execution_count": 87,
   "id": "da0c75cd",
   "metadata": {},
   "outputs": [
    {
     "data": {
      "text/plain": [
       "[1, 2, 4]"
      ]
     },
     "execution_count": 87,
     "metadata": {},
     "output_type": "execute_result"
    }
   ],
   "source": [
    "digits = [1, 2, 3]\n",
    "\n",
    "number = 0 # the number we have\n",
    "\n",
    "c = len(digits) - 1 # needed to get the power of 10\n",
    "\n",
    "for i in digits:\n",
    "    if c == 0: # the last digit\n",
    "        number = number + i +1\n",
    "    else:\n",
    "        number += i*(10**c)\n",
    "        c -= 1\n",
    "    \n",
    "list(map(lambda x: int(x), list(str(number))))"
   ]
  },
  {
   "cell_type": "markdown",
   "id": "c1b5990b",
   "metadata": {},
   "source": [
    "## Revising community's solutions.\n",
    "\n",
    "### First one:\n",
    "\n",
    "https://leetcode.com/problems/plus-one/solutions/3059719/1-line-solution-in-python/"
   ]
  },
  {
   "cell_type": "code",
   "execution_count": 88,
   "id": "60467c33",
   "metadata": {},
   "outputs": [
    {
     "data": {
      "text/plain": [
       "[1, 2, 4]"
      ]
     },
     "execution_count": 88,
     "metadata": {},
     "output_type": "execute_result"
    }
   ],
   "source": [
    "digits = [1, 2, 3]\n",
    "list(map(int, (''.join(str(int(\"\".join([str(x) for x in digits]))+1)))))"
   ]
  },
  {
   "cell_type": "code",
   "execution_count": 110,
   "id": "6b34f7e8",
   "metadata": {},
   "outputs": [
    {
     "name": "stdout",
     "output_type": "stream",
     "text": [
      "['1', '2', '3']\n",
      "123\n",
      "124 int\n",
      "124 str\n",
      "['1', '2', '4']\n",
      "[1, 2, 4]\n"
     ]
    }
   ],
   "source": [
    "digits = [1, 2, 3]\n",
    "a = [str(x) for x in digits]\n",
    "print(a)\n",
    "b = ''.join(a)\n",
    "print(b)\n",
    "c = int(b) + 1\n",
    "print(c, 'int')\n",
    "d = str(c)\n",
    "print(d, 'str')\n",
    "e = list(d)\n",
    "print(e)\n",
    "f = list(map(int, e))\n",
    "print(f)"
   ]
  },
  {
   "cell_type": "markdown",
   "id": "af29154a",
   "metadata": {},
   "source": [
    "### Second\n",
    "\n",
    "https://leetcode.com/problems/plus-one/solutions/3060351/3-lines-of-code-in-python/"
   ]
  },
  {
   "cell_type": "code",
   "execution_count": 111,
   "id": "d4866289",
   "metadata": {},
   "outputs": [
    {
     "data": {
      "text/plain": [
       "[1, 2, 4]"
      ]
     },
     "execution_count": 111,
     "metadata": {},
     "output_type": "execute_result"
    }
   ],
   "source": [
    "digits.reverse()\n",
    "num = sum([ele*10**i for i, ele in enumerate(digits)])+1\n",
    "\n",
    "[int(ele) for ele in str(num)]"
   ]
  },
  {
   "cell_type": "code",
   "execution_count": 113,
   "id": "86341f4e",
   "metadata": {},
   "outputs": [
    {
     "data": {
      "text/plain": [
       "[3, 2, 1]"
      ]
     },
     "execution_count": 113,
     "metadata": {},
     "output_type": "execute_result"
    }
   ],
   "source": [
    "digits = [1,2,3]\n",
    "\n",
    "digits.reverse()\n",
    "\n",
    "digits"
   ]
  },
  {
   "cell_type": "code",
   "execution_count": 117,
   "id": "0ca614e7",
   "metadata": {},
   "outputs": [
    {
     "name": "stdout",
     "output_type": "stream",
     "text": [
      "[3, 20, 100]\n",
      "123\n",
      "124\n",
      "[1, 2, 4]\n"
     ]
    }
   ],
   "source": [
    "u = [element*10**index for index, element in enumerate(digits)]\n",
    "print(u)\n",
    "print(sum(u))\n",
    "print(sum(u) + 1)\n",
    "\n",
    "g = [int(x) for x in str(sum(u) + 1)]\n",
    "print(g)"
   ]
  },
  {
   "cell_type": "markdown",
   "id": "f7dfdd94",
   "metadata": {},
   "source": [
    "#### revising"
   ]
  },
  {
   "cell_type": "code",
   "execution_count": 124,
   "id": "f613ccf0",
   "metadata": {},
   "outputs": [
    {
     "name": "stdout",
     "output_type": "stream",
     "text": [
      "124\n"
     ]
    },
    {
     "data": {
      "text/plain": [
       "[1, 2, 4]"
      ]
     },
     "execution_count": 124,
     "metadata": {},
     "output_type": "execute_result"
    }
   ],
   "source": [
    "digits = [1, 2, 3]\n",
    "\n",
    "digits.reverse()\n",
    "k = sum([value*10**index for index, value in enumerate(digits)]) + 1\n",
    "print(k)\n",
    "\n",
    "[int(i) for i in str(k)]"
   ]
  }
 ],
 "metadata": {
  "kernelspec": {
   "display_name": "Python 3 (ipykernel)",
   "language": "python",
   "name": "python3"
  },
  "language_info": {
   "codemirror_mode": {
    "name": "ipython",
    "version": 3
   },
   "file_extension": ".py",
   "mimetype": "text/x-python",
   "name": "python",
   "nbconvert_exporter": "python",
   "pygments_lexer": "ipython3",
   "version": "3.9.12"
  }
 },
 "nbformat": 4,
 "nbformat_minor": 5
}
