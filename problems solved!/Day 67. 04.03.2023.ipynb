{
 "cells": [
  {
   "cell_type": "markdown",
   "id": "e7651017",
   "metadata": {},
   "source": [
    "# 11. Container With Most Water\n",
    "\n",
    "https://leetcode.com/problems/container-with-most-water/description/\n",
    "    \n",
    "Return the maximum amount of water a container can store."
   ]
  },
  {
   "cell_type": "markdown",
   "id": "5c43577c",
   "metadata": {},
   "source": [
    "**Brute force** solution didn't pass the \"I have no runtime-error\" vibe check.\n",
    "\n",
    "(Althought the very idea will help later)"
   ]
  },
  {
   "cell_type": "code",
   "execution_count": 1,
   "id": "23349150",
   "metadata": {},
   "outputs": [
    {
     "data": {
      "text/plain": [
       "49"
      ]
     },
     "execution_count": 1,
     "metadata": {},
     "output_type": "execute_result"
    }
   ],
   "source": [
    "height = [1,8,6,2,5,4,8,3,7]\n",
    "\n",
    "s = 0\n",
    "for index_start, start in enumerate(height):\n",
    "    for index_end, end in enumerate(height):\n",
    "        square = min(start, end)*(abs(index_start - index_end))\n",
    "        if square > s:\n",
    "            s = square\n",
    "        \n",
    "s"
   ]
  },
  {
   "cell_type": "markdown",
   "id": "1d5c7433",
   "metadata": {},
   "source": [
    "## O(N) solution with two-pointers"
   ]
  },
  {
   "cell_type": "code",
   "execution_count": 7,
   "id": "9a304c46",
   "metadata": {},
   "outputs": [
    {
     "data": {
      "text/plain": [
       "49"
      ]
     },
     "execution_count": 7,
     "metadata": {},
     "output_type": "execute_result"
    }
   ],
   "source": [
    "height = [1,8,6,2,5,4,8,3,7]\n",
    "\n",
    "s = 0\n",
    "l, r = 0, len(height) - 1\n",
    "\n",
    "while l < r:\n",
    "    square = (r-l)*min(height[l], height[r])\n",
    "    s = max(s, square)\n",
    "    \n",
    "    if height[r] < height[l]: # changing the lowest wall\n",
    "        r -= 1\n",
    "    else: # it does not matter if they are equal, proved..\n",
    "        l += 1\n",
    "        \n",
    "s        "
   ]
  }
 ],
 "metadata": {
  "kernelspec": {
   "display_name": "Python 3 (ipykernel)",
   "language": "python",
   "name": "python3"
  },
  "language_info": {
   "codemirror_mode": {
    "name": "ipython",
    "version": 3
   },
   "file_extension": ".py",
   "mimetype": "text/x-python",
   "name": "python",
   "nbconvert_exporter": "python",
   "pygments_lexer": "ipython3",
   "version": "3.9.12"
  }
 },
 "nbformat": 4,
 "nbformat_minor": 5
}
