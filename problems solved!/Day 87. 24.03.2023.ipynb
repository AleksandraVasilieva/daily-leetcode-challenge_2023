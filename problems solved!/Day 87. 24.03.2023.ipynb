{
 "cells": [
  {
   "cell_type": "markdown",
   "id": "d526b350",
   "metadata": {},
   "source": [
    "# 511. Game Play Analysis I\n",
    "\n",
    "easy\n",
    "\n",
    "https://leetcode.com/problems/game-play-analysis-i/description/\n",
    "    \n",
    "Write an SQL query to report the first login date for each player."
   ]
  },
  {
   "cell_type": "markdown",
   "id": "b9789daa",
   "metadata": {},
   "source": [
    "# Option 1: group by\n",
    "\n",
    "select player_id, min(event_date) as first_login\n",
    "\n",
    "from activity\n",
    "\n",
    "group by player_id"
   ]
  },
  {
   "cell_type": "markdown",
   "id": "17acfc3a",
   "metadata": {},
   "source": [
    "# Option 2: min() window function\n",
    "\n",
    "select distinct player_id,\n",
    "\n",
    "min(event_date) over (partition by player_id) first_login\n",
    "\n",
    "from activity"
   ]
  },
  {
   "cell_type": "markdown",
   "id": "206ce79f",
   "metadata": {},
   "source": [
    "# Option 3: first_value() window fucntion\n",
    "\n",
    "\n",
    "select distinct player_id, \n",
    "\n",
    "first_value(event_date) over (partition by player_id order by event_date) first_login\n",
    "\n",
    "from activity"
   ]
  }
 ],
 "metadata": {
  "kernelspec": {
   "display_name": "Python 3 (ipykernel)",
   "language": "python",
   "name": "python3"
  },
  "language_info": {
   "codemirror_mode": {
    "name": "ipython",
    "version": 3
   },
   "file_extension": ".py",
   "mimetype": "text/x-python",
   "name": "python",
   "nbconvert_exporter": "python",
   "pygments_lexer": "ipython3",
   "version": "3.9.12"
  }
 },
 "nbformat": 4,
 "nbformat_minor": 5
}
