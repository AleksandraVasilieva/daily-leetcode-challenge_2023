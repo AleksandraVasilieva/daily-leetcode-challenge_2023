{
 "cells": [
  {
   "cell_type": "markdown",
   "id": "2135b8f7",
   "metadata": {},
   "source": [
    "# 17. Letter Combinations of a Phone Number\n",
    "\n",
    "https://leetcode.com/problems/letter-combinations-of-a-phone-number/description/\n",
    "    \n",
    "Given a string containing digits from 2-9 inclusive, return all possible letter combinations that the number could represent. Return the answer in any order."
   ]
  },
  {
   "cell_type": "code",
   "execution_count": 56,
   "id": "b46208b7",
   "metadata": {},
   "outputs": [],
   "source": [
    "tel = dict()\n",
    "tel['1'] = []\n",
    "tel['2'] = ['a', 'b', 'c']\n",
    "tel['3'] = ['d', 'e', 'f']\n",
    "tel['4'] = ['g', 'h', 'i']\n",
    "tel['5'] = ['j', 'k', 'l']\n",
    "tel['6'] = ['m', 'n', 'o']\n",
    "tel['7'] = ['p', 'q', 'r', 's']\n",
    "tel['8'] = ['t', 'u', 'v']\n",
    "tel['9'] = ['w', 'x', 'y', 'z']\n",
    "tel[''] = ['']"
   ]
  },
  {
   "cell_type": "code",
   "execution_count": 87,
   "id": "07115322",
   "metadata": {},
   "outputs": [
    {
     "data": {
      "text/plain": [
       "['ad', 'ae', 'af', 'bd', 'be', 'bf', 'cd', 'ce', 'cf']"
      ]
     },
     "execution_count": 87,
     "metadata": {},
     "output_type": "execute_result"
    }
   ],
   "source": [
    "digits = '23'\n",
    "l = len(digits)\n",
    "if l > 0:\n",
    "    memory = [tel[i] for i in list(digits)]\n",
    "\n",
    "    options = memory[0]\n",
    "    #options = ['']\n",
    "\n",
    "    def joins(old, new):\n",
    "        ans = []\n",
    "        for el1 in old:\n",
    "            for el2 in new:\n",
    "                ans.append(el1 + el2)\n",
    "        return ans\n",
    "    \n",
    "    for i in range(1, l):\n",
    "        options = joins(options, memory[i])\n",
    "else:\n",
    "    options = ['']\n",
    "\n",
    "options"
   ]
  },
  {
   "cell_type": "markdown",
   "id": "0d81ed97",
   "metadata": {},
   "source": [
    "# revising\n",
    "\n",
    "## 1. huge list comprehension"
   ]
  },
  {
   "cell_type": "code",
   "execution_count": 82,
   "id": "979c5d59",
   "metadata": {},
   "outputs": [
    {
     "data": {
      "text/plain": [
       "['ad', 'ae', 'af', 'bd', 'be', 'bf', 'cd', 'ce', 'cf']"
      ]
     },
     "execution_count": 82,
     "metadata": {},
     "output_type": "execute_result"
    }
   ],
   "source": [
    "digits = '23'\n",
    "\n",
    "result = ['']\n",
    "for i in range(len(digits)):\n",
    "    result = [prev + l for prev in result for l in tel[digits[i]]]\n",
    "\n",
    "result"
   ]
  },
  {
   "cell_type": "code",
   "execution_count": 85,
   "id": "cdd73263",
   "metadata": {},
   "outputs": [
    {
     "data": {
      "text/plain": [
       "['ad', 'ae', 'af', 'bd', 'be', 'bf', 'cd', 'ce', 'cf']"
      ]
     },
     "execution_count": 85,
     "metadata": {},
     "output_type": "execute_result"
    }
   ],
   "source": [
    "ans = ['']\n",
    "for i in range(len(digits)):\n",
    "    ans = [prev + now for prev in ans for now in tel[digits[i]]]\n",
    "ans"
   ]
  },
  {
   "cell_type": "markdown",
   "id": "204aa5d2",
   "metadata": {},
   "source": [
    "# 2. reduce"
   ]
  },
  {
   "cell_type": "code",
   "execution_count": 89,
   "id": "2f5b7930",
   "metadata": {},
   "outputs": [
    {
     "name": "stdout",
     "output_type": "stream",
     "text": [
      "The sum of the list elements is : 17\n",
      "The maximum element of the list is : 6\n"
     ]
    }
   ],
   "source": [
    "# python code to demonstrate working of reduce()\n",
    "\n",
    "\n",
    "from functools import reduce\n",
    "\n",
    "lis = [1, 3, 5, 6, 2]\n",
    "\n",
    "# using reduce to compute sum of list\n",
    "print(\"The sum of the list elements is : \", end=\"\")\n",
    "print(reduce(lambda a, b: a+b, lis))\n",
    "\n",
    "# using reduce to compute maximum element from list\n",
    "print(\"The maximum element of the list is : \", end=\"\")\n",
    "print(reduce(lambda a, b: a if a > b else b, lis))"
   ]
  },
  {
   "cell_type": "markdown",
   "id": "82e0236f",
   "metadata": {},
   "source": [
    "Apply a function of two arguments cumulatively to the items of a sequence,\n",
    "from left to right, so as to reduce the sequence to a single value.\n",
    "For example, reduce(lambda x, y: x+y, [1, 2, 3, 4, 5]) calculates\n",
    "((((1+2)+3)+4)+5). "
   ]
  },
  {
   "cell_type": "code",
   "execution_count": 90,
   "id": "3d952e03",
   "metadata": {},
   "outputs": [
    {
     "data": {
      "text/plain": [
       "15"
      ]
     },
     "execution_count": 90,
     "metadata": {},
     "output_type": "execute_result"
    }
   ],
   "source": [
    "reduce(lambda x, y: x+y, [1, 2, 3, 4, 5])"
   ]
  },
  {
   "cell_type": "code",
   "execution_count": 100,
   "id": "62100c11",
   "metadata": {},
   "outputs": [
    {
     "data": {
      "text/plain": [
       "-1"
      ]
     },
     "execution_count": 100,
     "metadata": {},
     "output_type": "execute_result"
    }
   ],
   "source": [
    "# the min element of an array\n",
    "reduce(lambda x, y: x if x < y else y, [1, 2, 5, 7, 9, 10, 0, 100, 14, -1])"
   ]
  },
  {
   "cell_type": "code",
   "execution_count": 96,
   "id": "4bc5a2a0",
   "metadata": {},
   "outputs": [
    {
     "data": {
      "text/plain": [
       "['ad', 'ae', 'af', 'bd', 'be', 'bf', 'cd', 'ce', 'cf']"
      ]
     },
     "execution_count": 96,
     "metadata": {},
     "output_type": "execute_result"
    }
   ],
   "source": [
    "reduce(lambda sequence, element: [x + y for x in sequence for y in tel[element]], digits, [''])"
   ]
  },
  {
   "cell_type": "markdown",
   "id": "c942c0b4",
   "metadata": {},
   "source": [
    "**Or**"
   ]
  },
  {
   "cell_type": "code",
   "execution_count": 101,
   "id": "b68e78b6",
   "metadata": {},
   "outputs": [
    {
     "data": {
      "text/plain": [
       "['ac', 'ad', 'bc', 'bd']"
      ]
     },
     "execution_count": 101,
     "metadata": {},
     "output_type": "execute_result"
    }
   ],
   "source": [
    "# x = ['a', 'b']\n",
    "# y = ['c', 'd']\n",
    "\n",
    "reduce(lambda x, y: [i + j for i in x for j in y], [['a', 'b'], ['c', 'd']])"
   ]
  },
  {
   "cell_type": "code",
   "execution_count": 102,
   "id": "b4b2e126",
   "metadata": {},
   "outputs": [
    {
     "data": {
      "text/plain": [
       "[11, 21, 12, 22]"
      ]
     },
     "execution_count": 102,
     "metadata": {},
     "output_type": "execute_result"
    }
   ],
   "source": [
    "reduce(lambda x, y: [i + j for i in x for j in y], [[1, 2], [10, 20]])\n",
    "# 11, 21, 12, 22"
   ]
  }
 ],
 "metadata": {
  "kernelspec": {
   "display_name": "Python 3 (ipykernel)",
   "language": "python",
   "name": "python3"
  },
  "language_info": {
   "codemirror_mode": {
    "name": "ipython",
    "version": 3
   },
   "file_extension": ".py",
   "mimetype": "text/x-python",
   "name": "python",
   "nbconvert_exporter": "python",
   "pygments_lexer": "ipython3",
   "version": "3.9.12"
  }
 },
 "nbformat": 4,
 "nbformat_minor": 5
}
