{
 "cells": [
  {
   "cell_type": "markdown",
   "id": "297fb10e",
   "metadata": {},
   "source": [
    "# 182. Duplicate Emails\n",
    "\n",
    "https://leetcode.com/problems/duplicate-emails/description/\n",
    "    \n",
    "Write an SQL query to report all the duplicate emails. Note that it's guaranteed that the email field is not NULL."
   ]
  },
  {
   "cell_type": "markdown",
   "id": "d63b960b",
   "metadata": {},
   "source": [
    "SELECT EMAIL FROM PERSON\n",
    "\n",
    "GROUP BY EMAIL\n",
    "\n",
    "HAVING COUNT(EMAIL) > 1"
   ]
  }
 ],
 "metadata": {
  "kernelspec": {
   "display_name": "Python 3 (ipykernel)",
   "language": "python",
   "name": "python3"
  },
  "language_info": {
   "codemirror_mode": {
    "name": "ipython",
    "version": 3
   },
   "file_extension": ".py",
   "mimetype": "text/x-python",
   "name": "python",
   "nbconvert_exporter": "python",
   "pygments_lexer": "ipython3",
   "version": "3.9.12"
  }
 },
 "nbformat": 4,
 "nbformat_minor": 5
}
