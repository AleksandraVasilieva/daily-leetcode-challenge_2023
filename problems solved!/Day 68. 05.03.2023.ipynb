{
 "cells": [
  {
   "cell_type": "markdown",
   "id": "04137004",
   "metadata": {},
   "source": [
    "# 1025. Divisor Game\n",
    "\n",
    "https://leetcode.com/problems/divisor-game/description/\n",
    "    \n",
    "Alice and Bob take turns playing a game, with Alice starting first.\n",
    "\n",
    "Initially, there is a number n on the chalkboard. On each player's turn, that player makes a move consisting of:\n",
    "\n",
    "Choosing any x with 0 < x < n and n % x == 0.\n",
    "Replacing the number n on the chalkboard with n - x.\n",
    "Also, if a player cannot make a move, they lose the game.\n",
    "\n",
    "Return true if and only if Alice wins the game, assuming both players play optimally.\n",
    "\n",
    " \n",
    "\n",
    "Example 1:\n",
    "\n",
    "Input: n = 2\n",
    "Output: true\n",
    "Explanation: Alice chooses 1, and Bob has no more moves."
   ]
  },
  {
   "cell_type": "markdown",
   "id": "c6279fa9",
   "metadata": {},
   "source": [
    "So it turnes out if n is even Alice will win.\n",
    "\n",
    "https://leetcode.com/problems/divisor-game/solutions/274606/java-c-python-return-n-2-0/"
   ]
  },
  {
   "cell_type": "code",
   "execution_count": 2,
   "id": "8f9482ae",
   "metadata": {},
   "outputs": [
    {
     "data": {
      "text/plain": [
       "True"
      ]
     },
     "execution_count": 2,
     "metadata": {},
     "output_type": "execute_result"
    }
   ],
   "source": [
    "n = 16\n",
    "\n",
    "# Can Alice win?\n",
    "\n",
    "n % 2 == 0"
   ]
  }
 ],
 "metadata": {
  "kernelspec": {
   "display_name": "Python 3 (ipykernel)",
   "language": "python",
   "name": "python3"
  },
  "language_info": {
   "codemirror_mode": {
    "name": "ipython",
    "version": 3
   },
   "file_extension": ".py",
   "mimetype": "text/x-python",
   "name": "python",
   "nbconvert_exporter": "python",
   "pygments_lexer": "ipython3",
   "version": "3.9.12"
  }
 },
 "nbformat": 4,
 "nbformat_minor": 5
}
