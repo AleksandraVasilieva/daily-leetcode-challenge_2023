{
 "cells": [
  {
   "cell_type": "markdown",
   "id": "5a64106a",
   "metadata": {},
   "source": [
    "# 205. Isomorphic Strings\n",
    "Easy\n",
    "5.7K\n",
    "1.1K\n",
    "Companies\n",
    "Given two strings s and t, determine if they are isomorphic.\n",
    "\n",
    "Two strings s and t are isomorphic if the characters in s can be replaced to get t.\n",
    "\n",
    "All occurrences of a character must be replaced with another character while preserving the order of characters. No two characters may map to the same character, but a character may map to itself.\n",
    "\n",
    " \n",
    "\n",
    "Example 1:\n",
    "\n",
    "Input: s = \"egg\", t = \"add\"\n",
    "Output: true\n",
    "Example 2:\n",
    "\n",
    "Input: s = \"foo\", t = \"bar\"\n",
    "Output: false\n",
    "Example 3:\n",
    "\n",
    "Input: s = \"paper\", t = \"title\"\n",
    "Output: true\n",
    " \n",
    "\n",
    "Constraints:\n",
    "\n",
    "1 <= s.length <= 5 * 104\n",
    "t.length == s.length\n",
    "s and t consist of any valid ascii character."
   ]
  },
  {
   "cell_type": "code",
   "execution_count": 2,
   "id": "267889f1",
   "metadata": {},
   "outputs": [],
   "source": [
    "s = \"egg\"\n",
    "t = \"add\""
   ]
  },
  {
   "cell_type": "code",
   "execution_count": 48,
   "id": "9a2942dc",
   "metadata": {},
   "outputs": [
    {
     "data": {
      "text/plain": [
       "(['e', 'g', 'g'], ['e', 'g', 'g'])"
      ]
     },
     "execution_count": 48,
     "metadata": {},
     "output_type": "execute_result"
    }
   ],
   "source": [
    "# revising lists for a second\n",
    "list(s), [letter for letter in s]"
   ]
  },
  {
   "cell_type": "code",
   "execution_count": 11,
   "id": "c99e2e4e",
   "metadata": {},
   "outputs": [
    {
     "data": {
      "text/plain": [
       "[0, 1, 2]"
      ]
     },
     "execution_count": 11,
     "metadata": {},
     "output_type": "execute_result"
    }
   ],
   "source": [
    "list(range(0, len(s)))"
   ]
  },
  {
   "cell_type": "markdown",
   "id": "ec7949c7",
   "metadata": {},
   "source": [
    "###  idea: reducing each string to a schema of digits and then comparing two schemas"
   ]
  },
  {
   "cell_type": "code",
   "execution_count": 60,
   "id": "2d80b555",
   "metadata": {},
   "outputs": [
    {
     "name": "stdout",
     "output_type": "stream",
     "text": [
      "[0, 1, 2]\n",
      "['e', 'g', 'g']\n"
     ]
    },
    {
     "data": {
      "text/plain": [
       "[0, 1, 1]"
      ]
     },
     "execution_count": 60,
     "metadata": {},
     "output_type": "execute_result"
    }
   ],
   "source": [
    "# idea: reducing each string to a schema of digits and then comparing two schemas\n",
    "schema_s = list(range(0, len(s)))\n",
    "print(schema_s)\n",
    "letters_s = list(s)\n",
    "print(letters_s)\n",
    "for index in range(0, len(s)): # for every index\n",
    "    if index > s.find(letters_s[index]):  # if letter was seen previously\n",
    "        schema_s[index] = s.find(letters_s[index]) # index will be the first foun index of a letter\n",
    "schema_s"
   ]
  },
  {
   "cell_type": "code",
   "execution_count": 34,
   "id": "06cc7d7f",
   "metadata": {},
   "outputs": [
    {
     "data": {
      "text/plain": [
       "1"
      ]
     },
     "execution_count": 34,
     "metadata": {},
     "output_type": "execute_result"
    }
   ],
   "source": [
    "s.find('g')"
   ]
  },
  {
   "cell_type": "code",
   "execution_count": 41,
   "id": "6fe9e186",
   "metadata": {},
   "outputs": [],
   "source": [
    "def get_schema(string):\n",
    "    schema = list(range(0, len(string)))\n",
    "    letters = list(string)\n",
    "    for index in range(0, len(string)):\n",
    "        if index > string.find(letters[index]):\n",
    "            schema[index] = string.find(letters[index])\n",
    "    return schema"
   ]
  },
  {
   "cell_type": "code",
   "execution_count": 45,
   "id": "06057991",
   "metadata": {},
   "outputs": [
    {
     "data": {
      "text/plain": [
       "True"
      ]
     },
     "execution_count": 45,
     "metadata": {},
     "output_type": "execute_result"
    }
   ],
   "source": [
    "get_schema(s) == get_schema(t)"
   ]
  },
  {
   "cell_type": "markdown",
   "id": "472e9ca3",
   "metadata": {},
   "source": [
    "### Submission: correct! Beats 54% of solutions\n"
   ]
  },
  {
   "cell_type": "code",
   "execution_count": null,
   "id": "bb5949ce",
   "metadata": {},
   "outputs": [],
   "source": [
    "# Submission: correct! Beats 54% of solutions\n",
    "\n",
    "class Solution:\n",
    "    def isIsomorphic(self, s: str, t: str) -> bool:\n",
    "        def get_schema(string):\n",
    "            schema = list(range(0, len(string)))\n",
    "            letters = list(string)\n",
    "            for index in range(0, len(string)):\n",
    "                if index > string.find(letters[index]):\n",
    "                    schema[index] = string.find(letters[index])\n",
    "            return schema\n",
    "        return get_schema(s) == get_schema(t)"
   ]
  },
  {
   "cell_type": "markdown",
   "id": "c0123495",
   "metadata": {},
   "source": [
    "### Revising an even better solution from the community (not my code, beats 80%):"
   ]
  },
  {
   "cell_type": "markdown",
   "id": "7ecb38b0",
   "metadata": {},
   "source": [
    "https://leetcode.com/problems/isomorphic-strings/solutions/57894/one-line-python/?envType=study-plan&id=level-1&q=python&orderBy=most_relevant"
   ]
  },
  {
   "cell_type": "code",
   "execution_count": 55,
   "id": "9fdb012d",
   "metadata": {},
   "outputs": [
    {
     "name": "stdout",
     "output_type": "stream",
     "text": [
      "[('e', 'a'), ('g', 'd'), ('g', 'd')]\n",
      "{('e', 'a'), ('g', 'd')}\n",
      "{'e', 'g'}\n",
      "{'a', 'd'}\n"
     ]
    },
    {
     "data": {
      "text/plain": [
       "True"
      ]
     },
     "execution_count": 55,
     "metadata": {},
     "output_type": "execute_result"
    }
   ],
   "source": [
    "# Revising an even better solution from the community (not my code, beats 80%):\n",
    "\n",
    "print(list(zip(s, t))) # all pairs of letters in s and t\n",
    "print(set(list(zip(s, t)))) # unique pairs of letters in s and t\n",
    "print(set(s)) \n",
    "print(set(t))\n",
    "# check if len of [unique pairs] is equal to len of [unique letters]\n",
    "len(set(s)) == len(set(t)) == len(set(zip(s, t)))"
   ]
  },
  {
   "cell_type": "code",
   "execution_count": 57,
   "id": "050db234",
   "metadata": {},
   "outputs": [
    {
     "data": {
      "text/plain": [
       "[('a', 1), ('b', 2), ('c', 3)]"
      ]
     },
     "execution_count": 57,
     "metadata": {},
     "output_type": "execute_result"
    }
   ],
   "source": [
    "list(zip('abc', [1, 2, 3]))"
   ]
  }
 ],
 "metadata": {
  "kernelspec": {
   "display_name": "Python 3 (ipykernel)",
   "language": "python",
   "name": "python3"
  },
  "language_info": {
   "codemirror_mode": {
    "name": "ipython",
    "version": 3
   },
   "file_extension": ".py",
   "mimetype": "text/x-python",
   "name": "python",
   "nbconvert_exporter": "python",
   "pygments_lexer": "ipython3",
   "version": "3.9.12"
  }
 },
 "nbformat": 4,
 "nbformat_minor": 5
}
