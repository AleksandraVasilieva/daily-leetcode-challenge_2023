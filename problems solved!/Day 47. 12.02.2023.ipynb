{
 "cells": [
  {
   "cell_type": "markdown",
   "id": "68932ef7",
   "metadata": {},
   "source": [
    "# 290. Word Pattern\n",
    "\n",
    "https://leetcode.com/problems/word-pattern/description/\n",
    "    \n",
    "Given a pattern and a string s, find if s follows the same pattern.\n",
    "\n",
    "Here follow means a full match, such that there is a bijection between a letter in pattern and a non-empty word in s.\n",
    "\n",
    " \n",
    "\n",
    "Example 1:\n",
    "\n",
    "Input: pattern = \"abba\", s = \"dog cat cat dog\"\n",
    "Output: true\n",
    "\n",
    "Example 2:\n",
    "\n",
    "Input: pattern = \"abba\", s = \"dog cat cat fish\"\n",
    "Output: false"
   ]
  },
  {
   "cell_type": "code",
   "execution_count": 44,
   "id": "2e223536",
   "metadata": {},
   "outputs": [],
   "source": [
    "pattern = \"abca\"\n",
    "s = \"dog cat cat dog\""
   ]
  },
  {
   "cell_type": "code",
   "execution_count": 28,
   "id": "0a5891ed",
   "metadata": {},
   "outputs": [
    {
     "data": {
      "text/plain": [
       "True"
      ]
     },
     "execution_count": 28,
     "metadata": {},
     "output_type": "execute_result"
    }
   ],
   "source": [
    "len(set(list(zip(list(pattern), s.split())))) == len(set(pattern)) == len(set(s.split())) \\\n",
    "*(len(pattern) == len(s.split()))"
   ]
  },
  {
   "cell_type": "markdown",
   "id": "56da7c37",
   "metadata": {},
   "source": [
    "Or, using **zip_longest**.\n",
    "\n",
    "Zip longest does not stop at the last symbol of either array. It goes further and takes None when there is nothing in one array and still something in the other."
   ]
  },
  {
   "cell_type": "code",
   "execution_count": 55,
   "id": "c8f17724",
   "metadata": {},
   "outputs": [
    {
     "data": {
      "text/plain": [
       "[('a', 'dog'), ('b', 'cat'), ('b', 'cat'), (None, 'dog')]"
      ]
     },
     "execution_count": 55,
     "metadata": {},
     "output_type": "execute_result"
    }
   ],
   "source": [
    "from itertools import zip_longest\n",
    "\n",
    "pattern = \"abb\"\n",
    "s = \"dog cat cat dog\"\n",
    "\n",
    "list((zip_longest(list(pattern), s.split())))"
   ]
  },
  {
   "cell_type": "code",
   "execution_count": 49,
   "id": "17001871",
   "metadata": {},
   "outputs": [
    {
     "data": {
      "text/plain": [
       "False"
      ]
     },
     "execution_count": 49,
     "metadata": {},
     "output_type": "execute_result"
    }
   ],
   "source": [
    "pattern = \"abba\"\n",
    "s = \"dog cat cat dog\"\n",
    "\n",
    "len(set(pattern)) == len(set(s.split())) == len(set((zip_longest(list(pattern), s.split()))))"
   ]
  }
 ],
 "metadata": {
  "kernelspec": {
   "display_name": "Python 3 (ipykernel)",
   "language": "python",
   "name": "python3"
  },
  "language_info": {
   "codemirror_mode": {
    "name": "ipython",
    "version": 3
   },
   "file_extension": ".py",
   "mimetype": "text/x-python",
   "name": "python",
   "nbconvert_exporter": "python",
   "pygments_lexer": "ipython3",
   "version": "3.9.12"
  }
 },
 "nbformat": 4,
 "nbformat_minor": 5
}
