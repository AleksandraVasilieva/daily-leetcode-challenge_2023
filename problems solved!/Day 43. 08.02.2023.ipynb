{
 "cells": [
  {
   "cell_type": "markdown",
   "id": "802a2a0d",
   "metadata": {},
   "source": [
    "# 575. Distribute Candies\n",
    "\n",
    "https://leetcode.com/problems/distribute-candies/description/\n",
    "    \n",
    "Alice has n candies, where the ith candy is of type candyType[i]. Alice noticed that she started to gain weight, so she visited a doctor.\n",
    "\n",
    "The doctor advised Alice to only eat n / 2 of the candies she has (n is always even). Alice likes her candies very much, and she wants to eat the maximum number of different types of candies while still following the doctor's advice.\n",
    "\n",
    "Given the integer array candyType of length n, return the maximum number of different types of candies she can eat if she only eats n / 2 of them."
   ]
  },
  {
   "cell_type": "markdown",
   "id": "d8e5cc39",
   "metadata": {},
   "source": [
    "### idea:\n",
    "\n",
    "She either can eat all available types of candy (if number of unique types less then n/2), or she can eat the limit number of types, which is n/2."
   ]
  },
  {
   "cell_type": "code",
   "execution_count": 1,
   "id": "61abd5d8",
   "metadata": {},
   "outputs": [
    {
     "data": {
      "text/plain": [
       "{1, 2, 3}"
      ]
     },
     "execution_count": 1,
     "metadata": {},
     "output_type": "execute_result"
    }
   ],
   "source": [
    "candyType = [1,1,2,2,3,3]\n",
    "\n",
    "class Solution:\n",
    "    def distributeCandies(self, candyType: List[int]) -> int:\n",
    "        types = set(candyType)\n",
    "        if  len(types) <= len(candyType) / 2:\n",
    "            return len(types)\n",
    "        else:\n",
    "            return int(len(candyType) / 2)\n",
    "            "
   ]
  },
  {
   "cell_type": "code",
   "execution_count": 3,
   "id": "2ff63c40",
   "metadata": {},
   "outputs": [
    {
     "data": {
      "text/plain": [
       "{1, 2, 3, 4, 5, 6, 7, 9}"
      ]
     },
     "execution_count": 3,
     "metadata": {},
     "output_type": "execute_result"
    }
   ],
   "source": [
    "a = [1, 2, 3, 4, 5, 6, 6, 7, 9]\n",
    "{*a}"
   ]
  },
  {
   "cell_type": "markdown",
   "id": "42a494bf",
   "metadata": {},
   "source": [
    "## revision"
   ]
  },
  {
   "cell_type": "code",
   "execution_count": null,
   "id": "d4951c14",
   "metadata": {},
   "outputs": [],
   "source": [
    "min(len(candyType) / 2, len(set(candyType)))"
   ]
  }
 ],
 "metadata": {
  "kernelspec": {
   "display_name": "Python 3 (ipykernel)",
   "language": "python",
   "name": "python3"
  },
  "language_info": {
   "codemirror_mode": {
    "name": "ipython",
    "version": 3
   },
   "file_extension": ".py",
   "mimetype": "text/x-python",
   "name": "python",
   "nbconvert_exporter": "python",
   "pygments_lexer": "ipython3",
   "version": "3.9.12"
  }
 },
 "nbformat": 4,
 "nbformat_minor": 5
}
