{
 "cells": [
  {
   "cell_type": "markdown",
   "id": "ecbf3445",
   "metadata": {},
   "source": [
    "# 187. Repeated DNA Sequences\n",
    "\n",
    "https://leetcode.com/problems/repeated-dna-sequences/description/\n",
    "\n",
    "The DNA sequence is composed of a series of nucleotides abbreviated as 'A', 'C', 'G', and 'T'.\n",
    "\n",
    "For example, \"ACGAATTCCG\" is a DNA sequence.\n",
    "When studying DNA, it is useful to identify repeated sequences within the DNA.\n",
    "\n",
    "Given a string s that represents a DNA sequence, return all the 10-letter-long sequences (substrings) that occur more than once in a DNA molecule. You may return the answer in any order.\n",
    "\n",
    " \n",
    "\n",
    "Example 1:\n",
    "\n",
    "Input: s = \"AAAAACCCCCAAAAACCCCCCAAAAAGGGTTT\"\n",
    "Output: [\"AAAAACCCCC\",\"CCCCCAAAAA\"]\n",
    "\n",
    "## idea:\n",
    "\n",
    "initializing 2 sets:\n",
    "* one will all possible substrings\n",
    "* another one will only repeating subs\n",
    "\n",
    "Algo: check if a new sub is in all possible options. If yes add it to resulting set"
   ]
  },
  {
   "cell_type": "code",
   "execution_count": 29,
   "id": "fc225fba",
   "metadata": {},
   "outputs": [
    {
     "data": {
      "text/plain": [
       "['AAAAACCCCC', 'CCCCCAAAAA']"
      ]
     },
     "execution_count": 29,
     "metadata": {},
     "output_type": "execute_result"
    }
   ],
   "source": [
    "s = \"AAAAACCCCCAAAAACCCCCCAAAAAGGGTTT\"\n",
    "\n",
    "candidates = set() \n",
    "newbies = set() \n",
    "\n",
    "for index in range(len(s) - 9):\n",
    "    dna = s[index: index+10]\n",
    "    if dna in newbies:\n",
    "        candidates.add(dna)\n",
    "    newbies.add(dna)\n",
    "    \n",
    "list(set(candidates))"
   ]
  }
 ],
 "metadata": {
  "kernelspec": {
   "display_name": "Python 3 (ipykernel)",
   "language": "python",
   "name": "python3"
  },
  "language_info": {
   "codemirror_mode": {
    "name": "ipython",
    "version": 3
   },
   "file_extension": ".py",
   "mimetype": "text/x-python",
   "name": "python",
   "nbconvert_exporter": "python",
   "pygments_lexer": "ipython3",
   "version": "3.9.12"
  }
 },
 "nbformat": 4,
 "nbformat_minor": 5
}
