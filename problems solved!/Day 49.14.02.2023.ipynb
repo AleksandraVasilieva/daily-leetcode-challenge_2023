{
 "cells": [
  {
   "cell_type": "markdown",
   "id": "4d1543c8",
   "metadata": {},
   "source": [
    "# 345. Reverse Vowels of a String\n",
    "\n",
    "https://leetcode.com/problems/reverse-vowels-of-a-string/description/\n",
    "    \n",
    "Given a string s, reverse only all the vowels in the string and return it.\n",
    "\n",
    "The vowels are 'a', 'e', 'i', 'o', and 'u', and they can appear in both lower and upper cases, more than once.\n",
    "\n",
    " \n",
    "\n",
    "Example 1:\n",
    "\n",
    "Input: s = \"hello\"\n",
    "Output: \"holle\""
   ]
  },
  {
   "cell_type": "code",
   "execution_count": 1,
   "id": "1cc73493",
   "metadata": {},
   "outputs": [
    {
     "data": {
      "text/plain": [
       "'holle'"
      ]
     },
     "execution_count": 1,
     "metadata": {},
     "output_type": "execute_result"
    }
   ],
   "source": [
    "s = \"hello\"\n",
    "\n",
    "s = list(s)\n",
    "vow = []\n",
    "for i in range(len(s)):\n",
    "    if s[i] in ['a', 'e', 'i', 'o', 'u', 'A', 'E', 'I', \"O\", 'U']:\n",
    "        vow.append(s[i])\n",
    "        s[i] = 1\n",
    "for i in range(len(s)):\n",
    "    if s[i] == 1:\n",
    "        s[i] = vow[::-1][0]\n",
    "        vow[:] = vow[:len(vow)-1]\n",
    "        \n",
    "''.join(s)"
   ]
  },
  {
   "cell_type": "markdown",
   "id": "68021807",
   "metadata": {},
   "source": [
    "## Two pointers"
   ]
  },
  {
   "cell_type": "code",
   "execution_count": 3,
   "id": "e6291d55",
   "metadata": {},
   "outputs": [
    {
     "data": {
      "text/plain": [
       "'holle'"
      ]
     },
     "execution_count": 3,
     "metadata": {},
     "output_type": "execute_result"
    }
   ],
   "source": [
    "s = \"hello\"\n",
    "s = list(s)\n",
    "left = 0\n",
    "right = len(s) - 1\n",
    "m = 'aeiouAEIOU'\n",
    "while left < right:\n",
    "    if s[left] in m and s[right] in m:\n",
    "                \n",
    "        s[left], s[right] = s[right], s[left]\n",
    "        left += 1; right -= 1\n",
    "            \n",
    "    elif s[left] not in m:\n",
    "        left += 1\n",
    "            \n",
    "    elif s[right] not in m:\n",
    "        right -= 1\n",
    "            \n",
    "''.join(s)"
   ]
  },
  {
   "cell_type": "markdown",
   "id": "a1381787",
   "metadata": {},
   "source": [
    "## Iteration"
   ]
  },
  {
   "cell_type": "code",
   "execution_count": 9,
   "id": "09003bb6",
   "metadata": {},
   "outputs": [
    {
     "data": {
      "text/plain": [
       "'holle'"
      ]
     },
     "execution_count": 9,
     "metadata": {},
     "output_type": "execute_result"
    }
   ],
   "source": [
    "s = \"hello\"\n",
    "vowels = (iter(c for c in s[::-1] if c.lower() in 'aeiou'))\n",
    "# list(vowels) = ['o', 'e']\n",
    "\n",
    "\"\".join(next(vowels) if c.lower() in 'aeiou' else c for c in s)"
   ]
  },
  {
   "cell_type": "markdown",
   "id": "3b27c09e",
   "metadata": {},
   "source": [
    "## Regular expressions"
   ]
  },
  {
   "cell_type": "code",
   "execution_count": 11,
   "id": "5b76f293",
   "metadata": {},
   "outputs": [
    {
     "data": {
      "text/plain": [
       "'holle'"
      ]
     },
     "execution_count": 11,
     "metadata": {},
     "output_type": "execute_result"
    }
   ],
   "source": [
    "import re\n",
    "\n",
    "vowels = re.findall('(?i)[aeiou]', s)\n",
    "re.sub('(?i)[aeiou]', lambda m: vowels.pop(), s)"
   ]
  }
 ],
 "metadata": {
  "kernelspec": {
   "display_name": "Python 3 (ipykernel)",
   "language": "python",
   "name": "python3"
  },
  "language_info": {
   "codemirror_mode": {
    "name": "ipython",
    "version": 3
   },
   "file_extension": ".py",
   "mimetype": "text/x-python",
   "name": "python",
   "nbconvert_exporter": "python",
   "pygments_lexer": "ipython3",
   "version": "3.9.12"
  }
 },
 "nbformat": 4,
 "nbformat_minor": 5
}
