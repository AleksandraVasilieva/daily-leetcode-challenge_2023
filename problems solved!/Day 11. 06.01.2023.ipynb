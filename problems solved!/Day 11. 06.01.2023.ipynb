{
 "cells": [
  {
   "cell_type": "markdown",
   "id": "500a8f13",
   "metadata": {},
   "source": [
    "# 383. Ransom Note\n",
    "\n",
    "https://leetcode.com/problems/ransom-note/\n",
    "\n",
    "Given two strings ransomNote and magazine, return true if ransomNote can be constructed by using the letters from magazine and false otherwise.\n",
    "\n",
    "Each letter in magazine can only be used once in ransomNote.\n",
    "\n",
    " \n",
    "\n",
    "Example 1:\n",
    "\n",
    "Input: ransomNote = \"a\", magazine = \"b\"\n",
    "Output: false\n",
    "Example 2:\n",
    "\n",
    "Input: ransomNote = \"aa\", magazine = \"ab\"\n",
    "Output: false\n",
    "Example 3:\n",
    "\n",
    "Input: ransomNote = \"aa\", magazine = \"aab\"\n",
    "Output: true"
   ]
  },
  {
   "cell_type": "code",
   "execution_count": 7,
   "id": "c05357ab",
   "metadata": {},
   "outputs": [
    {
     "name": "stdout",
     "output_type": "stream",
     "text": [
      "False\n"
     ]
    }
   ],
   "source": [
    "ransom = 'a'\n",
    "magazine = 'b'\n",
    "\n",
    "letters = list(magazine)\n",
    "count = 0\n",
    "\n",
    "for i in ransom:\n",
    "    if i in letters:\n",
    "        letters.remove(i)\n",
    "        count += 1\n",
    "if count == len(ransom):\n",
    "    print(True)\n",
    "else:\n",
    "    print(False)"
   ]
  },
  {
   "cell_type": "code",
   "execution_count": 8,
   "id": "6d3a6351",
   "metadata": {},
   "outputs": [],
   "source": [
    "def canConstruct(ransom, magazine):\n",
    "    letters = list(magazine)\n",
    "    count = 0\n",
    "\n",
    "    for i in ransom:\n",
    "        if i in letters:\n",
    "            letters.remove(i)\n",
    "            count += 1\n",
    "    if count == len(ransom):\n",
    "        return(True)\n",
    "    else:\n",
    "        return(False)"
   ]
  },
  {
   "cell_type": "markdown",
   "id": "85b55e9b",
   "metadata": {},
   "source": [
    "## Correct"
   ]
  },
  {
   "cell_type": "code",
   "execution_count": 9,
   "id": "c2da4bd8",
   "metadata": {},
   "outputs": [],
   "source": [
    "class Solution:\n",
    "    def canConstruct(self, ransomNote: str, magazine: str) -> bool:\n",
    "        letters = list(magazine)\n",
    "        count = 0\n",
    "        for i in ransomNote:\n",
    "            if i in letters:\n",
    "                letters.remove(i)\n",
    "                count += 1\n",
    "        if count == len(ransomNote):\n",
    "            return(True)\n",
    "        else:\n",
    "            return(False)"
   ]
  },
  {
   "cell_type": "markdown",
   "id": "93db0bed",
   "metadata": {},
   "source": [
    "## Another approach"
   ]
  },
  {
   "cell_type": "code",
   "execution_count": 11,
   "id": "d820299a",
   "metadata": {},
   "outputs": [
    {
     "data": {
      "text/plain": [
       "2"
      ]
     },
     "execution_count": 11,
     "metadata": {},
     "output_type": "execute_result"
    }
   ],
   "source": [
    "'abcdeabc'.count('a')"
   ]
  },
  {
   "cell_type": "code",
   "execution_count": 17,
   "id": "583ad117",
   "metadata": {},
   "outputs": [
    {
     "data": {
      "text/plain": [
       "False"
      ]
     },
     "execution_count": 17,
     "metadata": {},
     "output_type": "execute_result"
    }
   ],
   "source": [
    "# Correct\n",
    "\n",
    "ransom = 'aaa'\n",
    "magazine = 'baa'\n",
    "\n",
    "def canConstruct(ransom, magazine):\n",
    "    for letter in list(set(list(ransom))):\n",
    "        if magazine.count(letter) < ransom.count(letter):\n",
    "            return False\n",
    "    return True\n",
    "\n",
    "canConstruct(ransom, magazine)"
   ]
  },
  {
   "cell_type": "code",
   "execution_count": null,
   "id": "998e8d90",
   "metadata": {},
   "outputs": [],
   "source": [
    "class Solution:\n",
    "    def canConstruct(self, ransomNote: str, magazine: str) -> bool:\n",
    "        for letter in list(set(list(ransomNote))):\n",
    "            if magazine.count(letter) < ransomNote.count(letter):\n",
    "                return False\n",
    "        return True"
   ]
  }
 ],
 "metadata": {
  "kernelspec": {
   "display_name": "Python 3 (ipykernel)",
   "language": "python",
   "name": "python3"
  },
  "language_info": {
   "codemirror_mode": {
    "name": "ipython",
    "version": 3
   },
   "file_extension": ".py",
   "mimetype": "text/x-python",
   "name": "python",
   "nbconvert_exporter": "python",
   "pygments_lexer": "ipython3",
   "version": "3.9.12"
  }
 },
 "nbformat": 4,
 "nbformat_minor": 5
}
