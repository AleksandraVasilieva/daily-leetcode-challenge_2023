{
 "cells": [
  {
   "cell_type": "markdown",
   "id": "cc45ba04",
   "metadata": {},
   "source": [
    "# 67. Add Binary\n",
    "\n",
    "https://leetcode.com/problems/add-binary/description/\n",
    "\n",
    "Given two binary strings a and b, return their sum as a binary string.\n",
    "\n",
    "\n",
    "Example 1:\n",
    "\n",
    "Input: a = \"11\", b = \"1\"\n",
    "Output: \"100\"\n",
    "Example 2:\n",
    "\n",
    "Input: a = \"1010\", b = \"1011\"\n",
    "Output: \"10101\""
   ]
  },
  {
   "cell_type": "markdown",
   "id": "9da89a77",
   "metadata": {},
   "source": [
    "## 1. In-built approach\n",
    "\n",
    "We can simply use **bin** command that exists in python."
   ]
  },
  {
   "cell_type": "code",
   "execution_count": 1,
   "id": "c8c546a1",
   "metadata": {},
   "outputs": [
    {
     "data": {
      "text/plain": [
       "'0b11'"
      ]
     },
     "execution_count": 1,
     "metadata": {},
     "output_type": "execute_result"
    }
   ],
   "source": [
    "bin(3)"
   ]
  },
  {
   "cell_type": "code",
   "execution_count": 33,
   "id": "e6a78423",
   "metadata": {},
   "outputs": [
    {
     "name": "stdout",
     "output_type": "stream",
     "text": [
      "0b100\n"
     ]
    }
   ],
   "source": [
    "a = \"11\"\n",
    "b = \"1\"\n",
    "\n",
    "c = bin(int(a, base = 2) + int(b, base = 2))\n",
    "print(c)"
   ]
  },
  {
   "cell_type": "markdown",
   "id": "8c6dc304",
   "metadata": {},
   "source": [
    "correct:"
   ]
  },
  {
   "cell_type": "code",
   "execution_count": 34,
   "id": "8ed39e1a",
   "metadata": {},
   "outputs": [
    {
     "data": {
      "text/plain": [
       "'100'"
      ]
     },
     "execution_count": 34,
     "metadata": {},
     "output_type": "execute_result"
    }
   ],
   "source": [
    "def convert(a, b):\n",
    "    sums = bin(int(a, base = 2) + int(b, base = 2))\n",
    "    return sums[2:]\n",
    "\n",
    "convert('11', '1')"
   ]
  },
  {
   "cell_type": "markdown",
   "id": "40db5633",
   "metadata": {},
   "source": [
    "thoughts ..."
   ]
  },
  {
   "cell_type": "code",
   "execution_count": 52,
   "id": "b2a5f928",
   "metadata": {},
   "outputs": [
    {
     "data": {
      "text/plain": [
       "(['1', '1'], ['0', '1'])"
      ]
     },
     "execution_count": 52,
     "metadata": {},
     "output_type": "execute_result"
    }
   ],
   "source": [
    "a = '11'\n",
    "b = '1'\n",
    "\n",
    "a_list = list(a)\n",
    "b_list = list(b)\n",
    "\n",
    "l = abs(len(list(a))-len(list(b)))\n",
    "if l > 0:\n",
    "    if int(a) > int(b):\n",
    "        for i in range(0, l):\n",
    "            b_list.insert(0, '0')\n",
    "    if int(b) > int(a):\n",
    "        for i in range(0, l):\n",
    "            a_list.insert(0, '0')\n",
    "            \n",
    "a_list, b_list\n"
   ]
  }
 ],
 "metadata": {
  "kernelspec": {
   "display_name": "Python 3 (ipykernel)",
   "language": "python",
   "name": "python3"
  },
  "language_info": {
   "codemirror_mode": {
    "name": "ipython",
    "version": 3
   },
   "file_extension": ".py",
   "mimetype": "text/x-python",
   "name": "python",
   "nbconvert_exporter": "python",
   "pygments_lexer": "ipython3",
   "version": "3.9.12"
  }
 },
 "nbformat": 4,
 "nbformat_minor": 5
}
