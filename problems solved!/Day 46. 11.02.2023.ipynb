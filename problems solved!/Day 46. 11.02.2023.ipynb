{
 "cells": [
  {
   "cell_type": "markdown",
   "id": "cb95edde",
   "metadata": {},
   "source": [
    "# 520. Detect Capital\n",
    "\n",
    "https://leetcode.com/problems/detect-capital/description/\n",
    "\n",
    "We define the usage of capitals in a word to be right when one of the following cases holds:\n",
    "\n",
    "All letters in this word are capitals, like \"USA\".\n",
    "All letters in this word are not capitals, like \"leetcode\".\n",
    "Only the first letter in this word is capital, like \"Google\".\n",
    "Given a string word, return true if the usage of capitals in it is right."
   ]
  },
  {
   "cell_type": "code",
   "execution_count": 52,
   "id": "60bb1fa9",
   "metadata": {},
   "outputs": [
    {
     "data": {
      "text/plain": [
       "False"
      ]
     },
     "execution_count": 52,
     "metadata": {},
     "output_type": "execute_result"
    }
   ],
   "source": [
    "word = \"FlaG\"\n",
    "all(i.isupper() for i in word) \\\n",
    "    or bool(all(i.islower() for i in word[1:]) * bool((word[0].isupper())) ) \\\n",
    "    or all(i.islower() for i in word)"
   ]
  },
  {
   "cell_type": "markdown",
   "id": "d0b31176",
   "metadata": {},
   "source": [
    "## Revising\n",
    "\n",
    "## Using other methods"
   ]
  },
  {
   "cell_type": "code",
   "execution_count": 60,
   "id": "22693305",
   "metadata": {},
   "outputs": [
    {
     "data": {
      "text/plain": [
       "('Abcdefghlmno', 'Abcdefghlmno')"
      ]
     },
     "execution_count": 60,
     "metadata": {},
     "output_type": "execute_result"
    }
   ],
   "source": [
    "'AbCdEFGhlmnO'.capitalize(), 'AbCdEFGhlmnO'.title()"
   ]
  },
  {
   "cell_type": "code",
   "execution_count": 55,
   "id": "16ebec8f",
   "metadata": {},
   "outputs": [
    {
     "data": {
      "text/plain": [
       "False"
      ]
     },
     "execution_count": 55,
     "metadata": {},
     "output_type": "execute_result"
    }
   ],
   "source": [
    "word = \"FlaG\"\n",
    "\n",
    "word == word.capitalize() or word == word.upper() or word == word.lower()"
   ]
  },
  {
   "cell_type": "code",
   "execution_count": 56,
   "id": "a950ac82",
   "metadata": {},
   "outputs": [
    {
     "data": {
      "text/plain": [
       "False"
      ]
     },
     "execution_count": 56,
     "metadata": {},
     "output_type": "execute_result"
    }
   ],
   "source": [
    "word = \"FlaG\"\n",
    "\n",
    "word in [word.lower(), word.upper(), word.capitalize()]"
   ]
  }
 ],
 "metadata": {
  "kernelspec": {
   "display_name": "Python 3 (ipykernel)",
   "language": "python",
   "name": "python3"
  },
  "language_info": {
   "codemirror_mode": {
    "name": "ipython",
    "version": 3
   },
   "file_extension": ".py",
   "mimetype": "text/x-python",
   "name": "python",
   "nbconvert_exporter": "python",
   "pygments_lexer": "ipython3",
   "version": "3.9.12"
  }
 },
 "nbformat": 4,
 "nbformat_minor": 5
}
