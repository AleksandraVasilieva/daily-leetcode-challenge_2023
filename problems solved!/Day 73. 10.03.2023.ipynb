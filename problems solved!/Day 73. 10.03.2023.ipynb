{
 "cells": [
  {
   "cell_type": "markdown",
   "id": "f9f8028f",
   "metadata": {},
   "source": [
    "# 180. Consecutive Numbers\n",
    "\n",
    "https://leetcode.com/problems/consecutive-numbers/description/\n",
    "    \n",
    "Write an SQL query to find all numbers that appear at least three times consecutively."
   ]
  },
  {
   "cell_type": "markdown",
   "id": "35b97326",
   "metadata": {},
   "source": [
    "### Option 1:\n",
    "\n",
    "Check the tuple (id + x, num) in the database.\n",
    "\n",
    "As IDs are all conseсutive, the outcomes will be conseсutive as well.\n",
    "\n",
    "**Code:**"
   ]
  },
  {
   "cell_type": "markdown",
   "id": "81d7f099",
   "metadata": {},
   "source": [
    "select distinct num as ConsecutiveNums\n",
    "\n",
    "from logs\n",
    "\n",
    "where (id+1, num) in (select * from logs)\n",
    "\n",
    "and (id+2, num) in (select * from logs)"
   ]
  },
  {
   "cell_type": "markdown",
   "id": "7d6f8d0b",
   "metadata": {},
   "source": [
    "### Option 2:\n",
    "\n",
    "Use Lead() Window Function to add additional columns indicating next and next-next value.\n",
    "\n",
    "Then chose those rows where all 3 values are the same.\n",
    "\n",
    "**Code**:"
   ]
  },
  {
   "cell_type": "markdown",
   "id": "c9ef3930",
   "metadata": {},
   "source": [
    "with initial_table as \n",
    "\n",
    "(select num as first,\n",
    "\n",
    "lead(num, 1) over (order by id desc) as second,\n",
    "\n",
    "lead(num, 2) over (order by id desc) as third\n",
    "\n",
    "from logs\n",
    ")\n",
    "\n",
    "\n",
    "select distinct first as ConsecutiveNums\n",
    "\n",
    "from initial_table\n",
    "\n",
    "where first = second\n",
    "\n",
    "and first  = third"
   ]
  },
  {
   "cell_type": "code",
   "execution_count": null,
   "id": "f2171e9a",
   "metadata": {},
   "outputs": [],
   "source": []
  }
 ],
 "metadata": {
  "kernelspec": {
   "display_name": "Python 3 (ipykernel)",
   "language": "python",
   "name": "python3"
  },
  "language_info": {
   "codemirror_mode": {
    "name": "ipython",
    "version": 3
   },
   "file_extension": ".py",
   "mimetype": "text/x-python",
   "name": "python",
   "nbconvert_exporter": "python",
   "pygments_lexer": "ipython3",
   "version": "3.9.12"
  }
 },
 "nbformat": 4,
 "nbformat_minor": 5
}
