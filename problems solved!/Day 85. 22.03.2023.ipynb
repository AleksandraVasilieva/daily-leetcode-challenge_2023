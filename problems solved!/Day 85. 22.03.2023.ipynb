{
 "cells": [
  {
   "cell_type": "markdown",
   "id": "e5019eaf",
   "metadata": {},
   "source": [
    "# 596. Classes More Than 5 Students\n",
    "\n",
    "easy\n",
    "\n",
    "https://leetcode.com/problems/classes-more-than-5-students/description/\n",
    "    \n",
    "Write an SQL query to report all the classes that have at least five students."
   ]
  },
  {
   "cell_type": "markdown",
   "id": "55bb4385",
   "metadata": {},
   "source": [
    "select distinct class\n",
    "\n",
    "from courses\n",
    "\n",
    "group by class\n",
    "\n",
    "having count(*) >= 5"
   ]
  }
 ],
 "metadata": {
  "kernelspec": {
   "display_name": "Python 3 (ipykernel)",
   "language": "python",
   "name": "python3"
  },
  "language_info": {
   "codemirror_mode": {
    "name": "ipython",
    "version": 3
   },
   "file_extension": ".py",
   "mimetype": "text/x-python",
   "name": "python",
   "nbconvert_exporter": "python",
   "pygments_lexer": "ipython3",
   "version": "3.9.12"
  }
 },
 "nbformat": 4,
 "nbformat_minor": 5
}
