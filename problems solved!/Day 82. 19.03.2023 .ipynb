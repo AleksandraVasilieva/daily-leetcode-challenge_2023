{
 "cells": [
  {
   "cell_type": "markdown",
   "id": "2d1deb37",
   "metadata": {},
   "source": [
    "# 350. Intersection of Two Arrays II\n",
    "\n",
    "https://leetcode.com/problems/intersection-of-two-arrays-ii/description/\n",
    "    \n",
    "Given two integer arrays nums1 and nums2, return an array of their intersection. Each element in the result must appear as many times as it shows in both arrays and you may return the result in any order.\n",
    "\n",
    " \n",
    "\n",
    "Example 1:\n",
    "\n",
    "Input: nums1 = [1,2,2,1], nums2 = [2,2]\n",
    "Output: [2,2]"
   ]
  },
  {
   "cell_type": "code",
   "execution_count": 1,
   "id": "329131ad",
   "metadata": {},
   "outputs": [
    {
     "data": {
      "text/plain": [
       "[2, 2]"
      ]
     },
     "execution_count": 1,
     "metadata": {},
     "output_type": "execute_result"
    }
   ],
   "source": [
    "def intersect(nums1, nums2):\n",
    "        result = []\n",
    "        for i in nums1:\n",
    "            if i in nums2:\n",
    "                result.append(i)\n",
    "                nums2.remove(i)\n",
    "        return result\n",
    "    \n",
    "nums1 = [1,2,2,1]\n",
    "nums2 = [2,2]\n",
    "\n",
    "intersect(nums1, nums2)"
   ]
  },
  {
   "cell_type": "markdown",
   "id": "ccf0db3e",
   "metadata": {},
   "source": [
    "## Using collections library"
   ]
  },
  {
   "cell_type": "code",
   "execution_count": 32,
   "id": "4e36dbee",
   "metadata": {},
   "outputs": [
    {
     "name": "stdout",
     "output_type": "stream",
     "text": [
      "['window', 'window', 'floor', 'door', 'chair', 'chair', 'chair']\n"
     ]
    },
    {
     "data": {
      "text/plain": [
       "1"
      ]
     },
     "execution_count": 32,
     "metadata": {},
     "output_type": "execute_result"
    }
   ],
   "source": [
    "import collections # funny way to import a library...\n",
    "\n",
    "a = collections.Counter({'window': 2, 'floor': 1, 'door':1, 'chair':3})\n",
    "print(list(a.elements()))\n",
    "\n",
    "a['door']"
   ]
  },
  {
   "cell_type": "code",
   "execution_count": 34,
   "id": "443241c1",
   "metadata": {},
   "outputs": [
    {
     "data": {
      "text/plain": [
       "[2, 2]"
      ]
     },
     "execution_count": 34,
     "metadata": {},
     "output_type": "execute_result"
    }
   ],
   "source": [
    "nums1 = [1,2,2,1]\n",
    "nums2 = [2,2]\n",
    "\n",
    "c1 = collections.Counter(nums1)\n",
    "c2 = collections.Counter(nums2)\n",
    "c3 = c1 & c2\n",
    "list(c3.elements())"
   ]
  }
 ],
 "metadata": {
  "kernelspec": {
   "display_name": "Python 3 (ipykernel)",
   "language": "python",
   "name": "python3"
  },
  "language_info": {
   "codemirror_mode": {
    "name": "ipython",
    "version": 3
   },
   "file_extension": ".py",
   "mimetype": "text/x-python",
   "name": "python",
   "nbconvert_exporter": "python",
   "pygments_lexer": "ipython3",
   "version": "3.9.12"
  }
 },
 "nbformat": 4,
 "nbformat_minor": 5
}
