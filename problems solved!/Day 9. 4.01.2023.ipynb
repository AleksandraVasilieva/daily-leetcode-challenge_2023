{
 "cells": [
  {
   "cell_type": "markdown",
   "id": "28e0bdbb",
   "metadata": {},
   "source": [
    "# 121. Best Time to Buy and Sell Stock\n",
    "\n",
    "https://leetcode.com/problems/best-time-to-buy-and-sell-stock/\n",
    "\n",
    "\n",
    "You are given an array prices where prices[i] is the price of a given stock on the ith day.\n",
    "\n",
    "You want to maximize your profit by choosing a single day to buy one stock and choosing a different day in the future to sell that stock.\n",
    "\n",
    "Return the maximum profit you can achieve from this transaction. If you cannot achieve any profit, return 0.\n",
    "\n",
    " \n",
    "\n",
    "Example 1:\n",
    "\n",
    "Input: prices = [7,1,5,3,6,4]\n",
    "Output: 5\n",
    "Explanation: Buy on day 2 (price = 1) and sell on day 5 (price = 6), profit = 6-1 = 5.\n",
    "Note that buying on day 2 and selling on day 1 is not allowed because you must buy before you sell.\n",
    "Example 2:\n",
    "\n",
    "Input: prices = [7,6,4,3,1]\n",
    "Output: 0\n",
    "Explanation: In this case, no transactions are done and the max profit = 0.\n",
    " \n",
    "\n",
    "Constraints:\n",
    "\n",
    "1 <= prices.length <= 105\n",
    "0 <= prices[i] <= 104"
   ]
  },
  {
   "cell_type": "code",
   "execution_count": 15,
   "id": "89994865",
   "metadata": {},
   "outputs": [
    {
     "name": "stdout",
     "output_type": "stream",
     "text": [
      "0\n"
     ]
    }
   ],
   "source": [
    "#prices = [7,1,5,3,6,4]\n",
    "prices = [7,6,4,3,1]\n",
    "\n",
    "for price in range(0, len(prices)):\n",
    "    if len(prices) == 0:\n",
    "            print(0)\n",
    "            break\n",
    "    max_el = max(prices)\n",
    "    max_index = prices.index(max_el)\n",
    "    min_el = min(prices)\n",
    "    min_index = prices.index(min_el)\n",
    "    if max_index > min_index:\n",
    "        print(max_el - min_el)\n",
    "        break\n",
    "    else:\n",
    "        prices = prices[price:]"
   ]
  },
  {
   "cell_type": "code",
   "execution_count": 125,
   "id": "4a501cf2",
   "metadata": {},
   "outputs": [
    {
     "data": {
      "text/plain": [
       "(1, 2)"
      ]
     },
     "execution_count": 125,
     "metadata": {},
     "output_type": "execute_result"
    }
   ],
   "source": [
    "def maxProfit(prices) -> int:\n",
    "    storage = [0]\n",
    "    index = 0\n",
    "    #for prince in prices:\n",
    "    while True:\n",
    "        if len(prices) == 0:\n",
    "            return max(storage)\n",
    "        max_el = max(prices)\n",
    "        max_index = len(prices) - 1 - (prices[::-1]).index(max_el)\n",
    "        min_el = min(prices[0:max_index+1])\n",
    "        min_index = prices.index(min_el)\n",
    "        if max_index > min_index:\n",
    "            storage.append(max_el - min_el)\n",
    "            #return max(storage)\n",
    "        prices = prices[1:]\n",
    "        #prices.pop(0)\n",
    "        #del prices[0]\n",
    "    return max(storage)\n",
    "\n",
    "maxProfit([7,4,1, 2]), maxProfit([2, 4, 1])"
   ]
  },
  {
   "cell_type": "code",
   "execution_count": 121,
   "id": "36cb53f0",
   "metadata": {},
   "outputs": [
    {
     "data": {
      "text/plain": [
       "(1, [2, 3, 4])"
      ]
     },
     "execution_count": 121,
     "metadata": {},
     "output_type": "execute_result"
    }
   ],
   "source": [
    "a = [1, 2, 3, 4]\n",
    "b = [1, 2, 3, 4]\n",
    "a = a.pop(0)\n",
    "del b[0]\n",
    "a, b"
   ]
  },
  {
   "cell_type": "code",
   "execution_count": 137,
   "id": "a1a00a6f",
   "metadata": {},
   "outputs": [
    {
     "name": "stdout",
     "output_type": "stream",
     "text": [
      "1 1 0\n",
      "2 1 1\n",
      "3 1 2\n"
     ]
    },
    {
     "data": {
      "text/plain": [
       "2"
      ]
     },
     "execution_count": 137,
     "metadata": {},
     "output_type": "execute_result"
    }
   ],
   "source": [
    "# with some help...  So the community uses Kadane's algorithm for this problem\n",
    "\n",
    "def maxProfit(prices):\n",
    "    profit = 0\n",
    "    min_buy = float('inf')\n",
    "    for price in prices:\n",
    "        min_buy = min(min_buy, price)\n",
    "        profit = max(profit, price - min_buy)\n",
    "        print(price, min_buy, profit)\n",
    "    return profit\n",
    "maxProfit([1, 2, 3])#, maxProfit([7, 4, 1, 2]), maxProfit([2, 4, 1])"
   ]
  },
  {
   "cell_type": "markdown",
   "id": "eadbf96b",
   "metadata": {},
   "source": [
    "## Revising Kadane's algorithm\n",
    "\n",
    "searching max sum of a subarray by comparing the previous max sum and the current element"
   ]
  },
  {
   "cell_type": "code",
   "execution_count": 146,
   "id": "dbff320e",
   "metadata": {},
   "outputs": [
    {
     "name": "stdout",
     "output_type": "stream",
     "text": [
      "10\n",
      "[1, 3, 6, 10]\n"
     ]
    }
   ],
   "source": [
    "array = [1, 2, 3, 4]\n",
    "\n",
    "max_sum = 0 # the smallest value possible\n",
    "sums_history = []\n",
    "for element in array:\n",
    "    max_sum = max(max_sum, max_sum + element)\n",
    "    sums_history.append(max_sum)\n",
    "print(max_sum)\n",
    "print(sums_history)"
   ]
  },
  {
   "cell_type": "markdown",
   "id": "6a6aaf06",
   "metadata": {},
   "source": [
    "### Solving the problem with Kadane's algorithm. Correct solution"
   ]
  },
  {
   "cell_type": "code",
   "execution_count": 147,
   "id": "62cafa05",
   "metadata": {},
   "outputs": [
    {
     "name": "stdout",
     "output_type": "stream",
     "text": [
      "5\n"
     ]
    }
   ],
   "source": [
    "prices = [7,1,5,3,6,4]\n",
    "max_profit = 0\n",
    "min_buy = float('inf')\n",
    "for price in prices:\n",
    "    max_profit = max(max_profit, price - min_buy)\n",
    "    min_buy = min(min_buy, price)\n",
    "print(max_profit)"
   ]
  },
  {
   "cell_type": "code",
   "execution_count": null,
   "id": "64bc2e3c",
   "metadata": {},
   "outputs": [],
   "source": [
    "class Solution:\n",
    "    def maxProfit(self, prices: List[int]) -> int:\n",
    "        max_profit = 0\n",
    "        min_buy = float('inf')\n",
    "        for price in prices:\n",
    "            max_profit = max(max_profit, price - min_buy)\n",
    "            min_buy = min(min_buy, price)\n",
    "        return max_profit"
   ]
  }
 ],
 "metadata": {
  "kernelspec": {
   "display_name": "Python 3 (ipykernel)",
   "language": "python",
   "name": "python3"
  },
  "language_info": {
   "codemirror_mode": {
    "name": "ipython",
    "version": 3
   },
   "file_extension": ".py",
   "mimetype": "text/x-python",
   "name": "python",
   "nbconvert_exporter": "python",
   "pygments_lexer": "ipython3",
   "version": "3.9.12"
  }
 },
 "nbformat": 4,
 "nbformat_minor": 5
}
