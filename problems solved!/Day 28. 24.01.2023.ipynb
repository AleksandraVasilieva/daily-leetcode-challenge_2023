{
 "cells": [
  {
   "cell_type": "markdown",
   "id": "e8680850",
   "metadata": {},
   "source": [
    "# 144. Binary Tree Preorder Traversal\n",
    "\n",
    "https://leetcode.com/problems/binary-tree-preorder-traversal/submissions/884556906/"
   ]
  },
  {
   "cell_type": "code",
   "execution_count": 1,
   "id": "b8373cc7",
   "metadata": {},
   "outputs": [],
   "source": [
    "def preorder(root):\n",
    "    return [root.val] + preorder(root.left) + preorder(root.right) if root else []"
   ]
  },
  {
   "cell_type": "code",
   "execution_count": 2,
   "id": "79cde10d",
   "metadata": {},
   "outputs": [
    {
     "data": {
      "text/plain": [
       "[1, 3, 10]"
      ]
     },
     "execution_count": 2,
     "metadata": {},
     "output_type": "execute_result"
    }
   ],
   "source": [
    "[1] + [3] + [] + [10]"
   ]
  }
 ],
 "metadata": {
  "kernelspec": {
   "display_name": "Python 3 (ipykernel)",
   "language": "python",
   "name": "python3"
  },
  "language_info": {
   "codemirror_mode": {
    "name": "ipython",
    "version": 3
   },
   "file_extension": ".py",
   "mimetype": "text/x-python",
   "name": "python",
   "nbconvert_exporter": "python",
   "pygments_lexer": "ipython3",
   "version": "3.9.12"
  }
 },
 "nbformat": 4,
 "nbformat_minor": 5
}
