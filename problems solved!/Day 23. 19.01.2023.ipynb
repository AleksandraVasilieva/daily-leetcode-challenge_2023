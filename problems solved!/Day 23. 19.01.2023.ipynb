{
 "cells": [
  {
   "cell_type": "markdown",
   "id": "295e60ff",
   "metadata": {},
   "source": [
    "# 69. Sqrt(x)\n",
    "\n",
    "https://leetcode.com/problems/sqrtx/\n",
    "    \n",
    "Given a non-negative integer x, return the square root of x rounded down to the nearest integer. The returned integer should be non-negative as well.\n",
    "\n",
    "You must not use any built-in exponent function or operator.\n",
    "\n",
    "For example, do not use pow(x, 0.5) in c++ or x ** 0.5 in python.\n",
    " \n",
    "\n",
    "Example 1:\n",
    "\n",
    "Input: x = 4\n",
    "Output: 2\n",
    "Explanation: The square root of 4 is 2, so we return 2.\n",
    "Example 2:\n",
    "\n",
    "Input: x = 8\n",
    "Output: 2\n",
    "Explanation: The square root of 8 is 2.82842..., and since we round it down to the nearest integer, 2 is returned."
   ]
  },
  {
   "cell_type": "code",
   "execution_count": 17,
   "id": "49c0498b",
   "metadata": {},
   "outputs": [
    {
     "data": {
      "text/plain": [
       "4"
      ]
     },
     "execution_count": 17,
     "metadata": {},
     "output_type": "execute_result"
    }
   ],
   "source": [
    "int(4.2)"
   ]
  },
  {
   "cell_type": "markdown",
   "id": "9b67037a",
   "metadata": {},
   "source": [
    "Iterating through all values is too slow"
   ]
  },
  {
   "cell_type": "code",
   "execution_count": 16,
   "id": "7a009522",
   "metadata": {},
   "outputs": [
    {
     "data": {
      "text/plain": [
       "100"
      ]
     },
     "execution_count": 16,
     "metadata": {},
     "output_type": "execute_result"
    }
   ],
   "source": [
    "#x = 2147395599\n",
    "x = 10000\n",
    "\n",
    "ans = 1\n",
    "for i in range(0, (x+1)*2):\n",
    "    i = i / 2\n",
    "    if i*i == x:\n",
    "        ans = i\n",
    "    elif i*i < x and (i+1)*(i+1) > x:\n",
    "        ans = i // 1\n",
    "int(ans)\n",
    "    "
   ]
  },
  {
   "cell_type": "markdown",
   "id": "91dab3a8",
   "metadata": {},
   "source": [
    "### Binary search"
   ]
  },
  {
   "cell_type": "code",
   "execution_count": 15,
   "id": "4ac92fdf",
   "metadata": {},
   "outputs": [
    {
     "data": {
      "text/plain": [
       "3162277"
      ]
     },
     "execution_count": 15,
     "metadata": {},
     "output_type": "execute_result"
    }
   ],
   "source": [
    "x = 10000000000000\n",
    "\n",
    "def binary(x):\n",
    "    low = 0\n",
    "    high = x\n",
    "    while low <= high:\n",
    "        mid = (low + high) // 2\n",
    "        cur = mid * mid\n",
    "        cur_plus = (mid+1)*(mid+1)\n",
    "        if cur == x or (cur < x and cur_plus > x):\n",
    "            return mid\n",
    "        if cur > x:\n",
    "            high = mid - 1\n",
    "        if cur < x:\n",
    "            low = mid + 1\n",
    "\n",
    "binary(x)"
   ]
  }
 ],
 "metadata": {
  "kernelspec": {
   "display_name": "Python 3 (ipykernel)",
   "language": "python",
   "name": "python3"
  },
  "language_info": {
   "codemirror_mode": {
    "name": "ipython",
    "version": 3
   },
   "file_extension": ".py",
   "mimetype": "text/x-python",
   "name": "python",
   "nbconvert_exporter": "python",
   "pygments_lexer": "ipython3",
   "version": "3.9.12"
  }
 },
 "nbformat": 4,
 "nbformat_minor": 5
}
