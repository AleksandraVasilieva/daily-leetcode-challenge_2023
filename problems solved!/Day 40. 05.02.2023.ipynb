{
 "cells": [
  {
   "cell_type": "markdown",
   "id": "1865a792",
   "metadata": {},
   "source": [
    "# 448. Find All Numbers Disappeared in an Array\n",
    "\n",
    "https://leetcode.com/problems/find-all-numbers-disappeared-in-an-array/description/\n",
    "    \n",
    "Given an array nums of n integers where nums[i] is in the range [1, n], return an array of all the integers in the range [1, n] that do not appear in nums."
   ]
  },
  {
   "cell_type": "code",
   "execution_count": 18,
   "id": "6f576a70",
   "metadata": {},
   "outputs": [
    {
     "data": {
      "text/plain": [
       "{5, 6}"
      ]
     },
     "execution_count": 18,
     "metadata": {},
     "output_type": "execute_result"
    }
   ],
   "source": [
    "nums = [4,3,2,7,8,2,3,1]\n",
    "\n",
    "nums.sort()\n",
    "set(list(range(1, len(nums) + 1))) - set(nums)"
   ]
  },
  {
   "cell_type": "markdown",
   "id": "c461938c",
   "metadata": {},
   "source": [
    "Difference via \"-\" can be performed only on sets. "
   ]
  }
 ],
 "metadata": {
  "kernelspec": {
   "display_name": "Python 3 (ipykernel)",
   "language": "python",
   "name": "python3"
  },
  "language_info": {
   "codemirror_mode": {
    "name": "ipython",
    "version": 3
   },
   "file_extension": ".py",
   "mimetype": "text/x-python",
   "name": "python",
   "nbconvert_exporter": "python",
   "pygments_lexer": "ipython3",
   "version": "3.9.12"
  }
 },
 "nbformat": 4,
 "nbformat_minor": 5
}
