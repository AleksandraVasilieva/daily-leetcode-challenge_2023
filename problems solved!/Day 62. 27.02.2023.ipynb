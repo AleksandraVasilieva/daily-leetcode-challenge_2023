{
 "cells": [
  {
   "cell_type": "markdown",
   "id": "6c5b8e7d",
   "metadata": {},
   "source": [
    "# 176. Second Highest Salary\n",
    "\n",
    "https://leetcode.com/problems/second-highest-salary/description/\n",
    "    \n",
    "Write an SQL query to report the second highest salary from the Employee table. If there is no second highest salary, the query should report null."
   ]
  },
  {
   "cell_type": "markdown",
   "id": "9af83e9c",
   "metadata": {},
   "source": [
    "select max(salary) as SecondHighestSalary\n",
    "\n",
    "from employee \n",
    "\n",
    "where salary < (select max(salary) from employee)\n",
    "\n",
    "order by salary\n",
    "\n",
    "limit 1"
   ]
  }
 ],
 "metadata": {
  "kernelspec": {
   "display_name": "Python 3 (ipykernel)",
   "language": "python",
   "name": "python3"
  },
  "language_info": {
   "codemirror_mode": {
    "name": "ipython",
    "version": 3
   },
   "file_extension": ".py",
   "mimetype": "text/x-python",
   "name": "python",
   "nbconvert_exporter": "python",
   "pygments_lexer": "ipython3",
   "version": "3.9.12"
  }
 },
 "nbformat": 4,
 "nbformat_minor": 5
}
