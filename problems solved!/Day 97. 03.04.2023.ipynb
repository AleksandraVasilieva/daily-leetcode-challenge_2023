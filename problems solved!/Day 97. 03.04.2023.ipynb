{
 "cells": [
  {
   "cell_type": "markdown",
   "id": "93774fac",
   "metadata": {},
   "source": [
    "# 49. Group Anagrams\n",
    "\n",
    "medium\n",
    "\n",
    "https://leetcode.com/problems/group-anagrams/description/\n",
    "    \n",
    "Given an array of strings strs, group the anagrams together. You can return the answer in any order.\n",
    "\n",
    "An Anagram is a word or phrase formed by rearranging the letters of a different word or phrase, typically using all the original letters exactly once.\n",
    "\n",
    "\n",
    "Example 1:\n",
    "\n",
    "Input: strs = [\"eat\",\"tea\",\"tan\",\"ate\",\"nat\",\"bat\"]\n",
    "\n",
    "Output: [[\"bat\"],[\"nat\",\"tan\"],[\"ate\",\"eat\",\"tea\"]]"
   ]
  },
  {
   "cell_type": "code",
   "execution_count": 56,
   "id": "c569a257",
   "metadata": {},
   "outputs": [
    {
     "data": {
      "text/plain": [
       "[['eat', 'tea', 'ate'], ['tan', 'nat'], ['bat']]"
      ]
     },
     "execution_count": 56,
     "metadata": {},
     "output_type": "execute_result"
    }
   ],
   "source": [
    "strs = [\"eat\",\"tea\",\"tan\",\"ate\",\"nat\",\"bat\"]\n",
    "\n",
    "sorts = list(zip(map(lambda x: sorted(x), strs), strs))\n",
    "answer = dict()\n",
    "\n",
    "for i in sorts:\n",
    "    key_str = str(''.join(i[0]))\n",
    "    if key_str not in answer:\n",
    "        answer[key_str] = [i[1]]\n",
    "    else:\n",
    "        answer[key_str].append(i[1])\n",
    "        \n",
    "list(answer.values())"
   ]
  }
 ],
 "metadata": {
  "kernelspec": {
   "display_name": "Python 3",
   "language": "python",
   "name": "python3"
  },
  "language_info": {
   "codemirror_mode": {
    "name": "ipython",
    "version": 3
   },
   "file_extension": ".py",
   "mimetype": "text/x-python",
   "name": "python",
   "nbconvert_exporter": "python",
   "pygments_lexer": "ipython3",
   "version": "3.7.13"
  }
 },
 "nbformat": 4,
 "nbformat_minor": 5
}
