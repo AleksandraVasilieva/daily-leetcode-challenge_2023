{
 "cells": [
  {
   "cell_type": "markdown",
   "id": "21fc75d5",
   "metadata": {},
   "source": [
    "# 2011. Final Value of Variable After Performing Operations\n",
    "\n",
    "easy\n",
    "\n",
    "https://leetcode.com/problems/final-value-of-variable-after-performing-operations/description/\n",
    "    \n",
    "There is a programming language with only four operations and one variable X:\n",
    "\n",
    "++X and X++ increments the value of the variable X by 1.\n",
    "--X and X-- decrements the value of the variable X by 1.\n",
    "Initially, the value of X is 0.\n",
    "\n",
    "Given an array of strings operations containing a list of operations, return the final value of X after performing all the operations."
   ]
  },
  {
   "cell_type": "code",
   "execution_count": 1,
   "id": "26d54aa0",
   "metadata": {},
   "outputs": [],
   "source": [
    "def maths(operations):   \n",
    "    x = 0\n",
    "    for i in operations:\n",
    "        if i == '++X'or i == 'X++':\n",
    "            x += 1\n",
    "        else:\n",
    "            x -= 1\n",
    "        return x"
   ]
  }
 ],
 "metadata": {
  "kernelspec": {
   "display_name": "Python 3",
   "language": "python",
   "name": "python3"
  },
  "language_info": {
   "codemirror_mode": {
    "name": "ipython",
    "version": 3
   },
   "file_extension": ".py",
   "mimetype": "text/x-python",
   "name": "python",
   "nbconvert_exporter": "python",
   "pygments_lexer": "ipython3",
   "version": "3.7.13"
  }
 },
 "nbformat": 4,
 "nbformat_minor": 5
}
