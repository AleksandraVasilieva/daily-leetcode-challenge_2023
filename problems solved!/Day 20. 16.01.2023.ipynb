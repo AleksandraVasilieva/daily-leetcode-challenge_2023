{
 "cells": [
  {
   "cell_type": "markdown",
   "id": "cedc20fd",
   "metadata": {},
   "source": [
    "# 58. Length of Last Word\n",
    "\n",
    "https://leetcode.com/problems/length-of-last-word/\n",
    "    \n",
    "    \n",
    "Given a string s consisting of words and spaces, return the length of the last word in the string.\n",
    "\n",
    "A word is a maximal \n",
    "substring\n",
    " consisting of non-space characters only.\n",
    "\n",
    " \n",
    "\n",
    "Example 1:\n",
    "\n",
    "Input: s = \"Hello World\"\n",
    "Output: 5\n",
    "Explanation: The last word is \"World\" with length 5.\n",
    "Example 2:\n",
    "\n",
    "Input: s = \"   fly me   to   the moon  \"\n",
    "Output: 4\n",
    "Explanation: The last word is \"moon\" with length 4.\n",
    "Example 3:\n",
    "\n",
    "Input: s = \"luffy is still joyboy\"\n",
    "Output: 6\n",
    "Explanation: The last word is \"joyboy\" with length 6.\n",
    " \n",
    "\n",
    "Constraints:\n",
    "\n",
    "1 <= s.length <= 104\n",
    "s consists of only English letters and spaces ' '.\n",
    "There will be at least one word in s."
   ]
  },
  {
   "cell_type": "code",
   "execution_count": 8,
   "id": "1c9dec10",
   "metadata": {},
   "outputs": [
    {
     "data": {
      "text/plain": [
       "[' ',\n",
       " ' ',\n",
       " ' ',\n",
       " 'f',\n",
       " 'l',\n",
       " 'y',\n",
       " ' ',\n",
       " 'm',\n",
       " 'e',\n",
       " ' ',\n",
       " ' ',\n",
       " ' ',\n",
       " 't',\n",
       " 'o',\n",
       " ' ',\n",
       " ' ',\n",
       " ' ',\n",
       " 't',\n",
       " 'h',\n",
       " 'e',\n",
       " ' ',\n",
       " 'm',\n",
       " 'o',\n",
       " 'o',\n",
       " 'n',\n",
       " ' ',\n",
       " ' ']"
      ]
     },
     "execution_count": 8,
     "metadata": {},
     "output_type": "execute_result"
    }
   ],
   "source": [
    "s = \"   fly me   to   the moon  \"\n",
    "list(s)"
   ]
  },
  {
   "cell_type": "code",
   "execution_count": 13,
   "id": "62185c23",
   "metadata": {},
   "outputs": [
    {
     "data": {
      "text/plain": [
       "'11'"
      ]
     },
     "execution_count": 13,
     "metadata": {},
     "output_type": "execute_result"
    }
   ],
   "source": [
    "a = 'aaaa'\n",
    "a.replace('aa', '1')"
   ]
  },
  {
   "cell_type": "code",
   "execution_count": 24,
   "id": "b4a068ce",
   "metadata": {},
   "outputs": [
    {
     "data": {
      "text/plain": [
       "['fly', 'me', 'to', 'the', 'moon']"
      ]
     },
     "execution_count": 24,
     "metadata": {},
     "output_type": "execute_result"
    }
   ],
   "source": [
    "s = \"   fly me   to   the moon  \"\n",
    "s.split()"
   ]
  },
  {
   "cell_type": "code",
   "execution_count": 33,
   "id": "dbfb4aa0",
   "metadata": {},
   "outputs": [
    {
     "data": {
      "text/plain": [
       "['n', 's', 't', 'h', 't', 'k']"
      ]
     },
     "execution_count": 33,
     "metadata": {},
     "output_type": "execute_result"
    }
   ],
   "source": [
    "s = 'nasatahatak'\n",
    "s.split('a')"
   ]
  },
  {
   "cell_type": "markdown",
   "id": "d9b5033e",
   "metadata": {},
   "source": [
    "## Correct. one-line "
   ]
  },
  {
   "cell_type": "code",
   "execution_count": 26,
   "id": "cc54126d",
   "metadata": {},
   "outputs": [
    {
     "data": {
      "text/plain": [
       "6"
      ]
     },
     "execution_count": 26,
     "metadata": {},
     "output_type": "execute_result"
    }
   ],
   "source": [
    "s = \"luffy is still joyboy\"\n",
    "len(s.split()[-1])"
   ]
  },
  {
   "cell_type": "markdown",
   "id": "9e11e5aa",
   "metadata": {},
   "source": [
    "### similar option"
   ]
  },
  {
   "cell_type": "code",
   "execution_count": 31,
   "id": "d7da05fc",
   "metadata": {},
   "outputs": [
    {
     "data": {
      "text/plain": [
       "'luffy is still joyboy'"
      ]
     },
     "execution_count": 31,
     "metadata": {},
     "output_type": "execute_result"
    }
   ],
   "source": [
    "s = \"luffy is still joyboy\"\n",
    "s.strip()"
   ]
  },
  {
   "cell_type": "code",
   "execution_count": 32,
   "id": "ca0f9fe1",
   "metadata": {},
   "outputs": [
    {
     "data": {
      "text/plain": [
       "6"
      ]
     },
     "execution_count": 32,
     "metadata": {},
     "output_type": "execute_result"
    }
   ],
   "source": [
    "len(s.strip().split()[-1])"
   ]
  }
 ],
 "metadata": {
  "kernelspec": {
   "display_name": "Python 3 (ipykernel)",
   "language": "python",
   "name": "python3"
  },
  "language_info": {
   "codemirror_mode": {
    "name": "ipython",
    "version": 3
   },
   "file_extension": ".py",
   "mimetype": "text/x-python",
   "name": "python",
   "nbconvert_exporter": "python",
   "pygments_lexer": "ipython3",
   "version": "3.9.12"
  }
 },
 "nbformat": 4,
 "nbformat_minor": 5
}
