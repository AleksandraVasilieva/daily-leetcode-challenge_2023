{
 "cells": [
  {
   "cell_type": "markdown",
   "id": "418586e7",
   "metadata": {},
   "source": [
    "# 70. Climbing Stairs\n",
    "\n",
    "https://leetcode.com/problems/climbing-stairs/\n",
    "    \n",
    "You are climbing a staircase. It takes n steps to reach the top.\n",
    "\n",
    "Each time you can either climb 1 or 2 steps. In how many distinct ways can you climb to the top?\n",
    "\n",
    " \n",
    "\n",
    "Example 1:\n",
    "\n",
    "Input: n = 2\n",
    "Output: 2\n",
    "Explanation: There are two ways to climb to the top.\n",
    "1. 1 step + 1 step\n",
    "2. 2 steps\n",
    "Example 2:\n",
    "\n",
    "Input: n = 3\n",
    "Output: 3\n",
    "Explanation: There are three ways to climb to the top.\n",
    "1. 1 step + 1 step + 1 step\n",
    "2. 1 step + 2 steps\n",
    "3. 2 steps + 1 step"
   ]
  },
  {
   "cell_type": "markdown",
   "id": "11bc4936",
   "metadata": {},
   "source": [
    "## idea\n",
    "\n",
    "After counting the number for 4 and 5 -step ladders we get that this is a Fibonacci sequence!"
   ]
  },
  {
   "cell_type": "code",
   "execution_count": 11,
   "id": "b9c8e98b",
   "metadata": {},
   "outputs": [
    {
     "data": {
      "text/plain": [
       "573147844013817084101"
      ]
     },
     "execution_count": 11,
     "metadata": {},
     "output_type": "execute_result"
    }
   ],
   "source": [
    "def fib(n):\n",
    "    values = [i for i in range(0, n+1)]\n",
    "    if n > 1:\n",
    "        for i in range(3, n+1):\n",
    "            values[i] = values[i-1] + values[i-2]   \n",
    "    return values[n]\n",
    "fib(100)"
   ]
  },
  {
   "cell_type": "markdown",
   "id": "2bcc3f8c",
   "metadata": {},
   "source": [
    "Communitiy's solution"
   ]
  },
  {
   "cell_type": "code",
   "execution_count": 13,
   "id": "9c33e146",
   "metadata": {},
   "outputs": [
    {
     "data": {
      "text/plain": [
       "573147844013817084101"
      ]
     },
     "execution_count": 13,
     "metadata": {},
     "output_type": "execute_result"
    }
   ],
   "source": [
    "def climbStairs(n):\n",
    "        a, b = 0, 1\n",
    "        for i in range(n):\n",
    "            a, b = b, a + b\n",
    "        return b\n",
    "    \n",
    "climbStairs(100)"
   ]
  }
 ],
 "metadata": {
  "kernelspec": {
   "display_name": "Python 3 (ipykernel)",
   "language": "python",
   "name": "python3"
  },
  "language_info": {
   "codemirror_mode": {
    "name": "ipython",
    "version": 3
   },
   "file_extension": ".py",
   "mimetype": "text/x-python",
   "name": "python",
   "nbconvert_exporter": "python",
   "pygments_lexer": "ipython3",
   "version": "3.9.12"
  }
 },
 "nbformat": 4,
 "nbformat_minor": 5
}
