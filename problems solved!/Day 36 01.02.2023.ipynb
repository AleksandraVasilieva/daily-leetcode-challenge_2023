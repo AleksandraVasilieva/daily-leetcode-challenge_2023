{
 "cells": [
  {
   "cell_type": "markdown",
   "id": "5adc5a74",
   "metadata": {},
   "source": [
    "# 125. Valid Palindrome\n",
    "\n",
    "https://leetcode.com/problems/valid-palindrome/submissions/891219115/\n",
    "\n",
    "Given a string s, return true if it is a palindrome, or false otherwise."
   ]
  },
  {
   "cell_type": "code",
   "execution_count": 39,
   "id": "7c2a86b6",
   "metadata": {},
   "outputs": [
    {
     "data": {
      "text/plain": [
       "'amanaplanacanalpanama'"
      ]
     },
     "execution_count": 39,
     "metadata": {},
     "output_type": "execute_result"
    }
   ],
   "source": [
    "s = \"A man, a plan, a canal: Panama\"\n",
    "sNew = ''.join([el for el in list(s) if el.isalnum()]).lower()\n",
    "\n",
    "sNew == sNew[::-1]\n",
    "\n",
    "sNew"
   ]
  },
  {
   "cell_type": "markdown",
   "id": "ae466820",
   "metadata": {},
   "source": [
    "### revision: string methods\n",
    "\n",
    "https://docs.python.org/3/library/stdtypes.html"
   ]
  },
  {
   "cell_type": "markdown",
   "id": "48dc3a31",
   "metadata": {},
   "source": [
    "isalnum()\n",
    "\n",
    "isalpha()\n",
    "\n",
    "isascii()\n",
    "\n",
    "isdecimal()\n",
    "\n",
    "isdigit()\n",
    "\n",
    "islower()\n",
    "\n",
    "isupper()\n",
    "\n",
    "isnumeric()\n",
    "\n",
    "isspace()"
   ]
  }
 ],
 "metadata": {
  "kernelspec": {
   "display_name": "Python 3 (ipykernel)",
   "language": "python",
   "name": "python3"
  },
  "language_info": {
   "codemirror_mode": {
    "name": "ipython",
    "version": 3
   },
   "file_extension": ".py",
   "mimetype": "text/x-python",
   "name": "python",
   "nbconvert_exporter": "python",
   "pygments_lexer": "ipython3",
   "version": "3.9.12"
  }
 },
 "nbformat": 4,
 "nbformat_minor": 5
}
