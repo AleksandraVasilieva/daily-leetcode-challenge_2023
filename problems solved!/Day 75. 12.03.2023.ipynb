{
 "cells": [
  {
   "cell_type": "markdown",
   "id": "1bd0640f",
   "metadata": {},
   "source": [
    "# 1050. Actors and Directors Who Cooperated At Least Three Times\n",
    "\n",
    "https://leetcode.com/problems/actors-and-directors-who-cooperated-at-least-three-times/description/\n",
    "\n",
    "Write a SQL query for a report that provides the pairs (actor_id, director_id) where the actor has cooperated with the director at least three times."
   ]
  },
  {
   "cell_type": "markdown",
   "id": "c51d3fbe",
   "metadata": {},
   "source": [
    "select actor_id, director_id\n",
    "\n",
    "from actordirector\n",
    "\n",
    "group by actor_id, director_id\n",
    "\n",
    "having count(*)  >= 3"
   ]
  }
 ],
 "metadata": {
  "kernelspec": {
   "display_name": "Python 3 (ipykernel)",
   "language": "python",
   "name": "python3"
  },
  "language_info": {
   "codemirror_mode": {
    "name": "ipython",
    "version": 3
   },
   "file_extension": ".py",
   "mimetype": "text/x-python",
   "name": "python",
   "nbconvert_exporter": "python",
   "pygments_lexer": "ipython3",
   "version": "3.9.12"
  }
 },
 "nbformat": 4,
 "nbformat_minor": 5
}
