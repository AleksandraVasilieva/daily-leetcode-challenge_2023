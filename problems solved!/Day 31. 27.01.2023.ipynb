{
 "cells": [
  {
   "cell_type": "markdown",
   "id": "50c94aab",
   "metadata": {},
   "source": [
    "# 2. Add Two Numbers\n",
    "\n",
    "https://leetcode.com/problems/add-two-numbers/description/\n",
    "    \n",
    "You are given two non-empty linked lists representing two non-negative integers. The digits are stored in reverse order, and each of their nodes contains a single digit. Add the two numbers and return the sum as a linked list.\n",
    "\n",
    "You may assume the two numbers do not contain any leading zero, except the number 0 itself."
   ]
  },
  {
   "cell_type": "code",
   "execution_count": 10,
   "id": "372cbde5",
   "metadata": {},
   "outputs": [
    {
     "data": {
      "text/plain": [
       "[1, 3]"
      ]
     },
     "execution_count": 10,
     "metadata": {},
     "output_type": "execute_result"
    }
   ],
   "source": [
    "a = b = [1, 2]\n",
    "\n",
    "b[1] = 3\n",
    "a"
   ]
  },
  {
   "cell_type": "code",
   "execution_count": 5,
   "id": "57d9865d",
   "metadata": {},
   "outputs": [
    {
     "data": {
      "text/plain": [
       "421"
      ]
     },
     "execution_count": 5,
     "metadata": {},
     "output_type": "execute_result"
    }
   ],
   "source": [
    "a = [1, 2, 4]\n",
    "b = [2, 3, 1]\n",
    "\n",
    "sums = 0\n",
    "\n",
    "for index, element in enumerate(a):\n",
    "    sums+=element*10**index\n",
    "    \n",
    "sums"
   ]
  },
  {
   "cell_type": "code",
   "execution_count": 8,
   "id": "82e9cb41",
   "metadata": {},
   "outputs": [],
   "source": [
    "# Definition for singly-linked list.\n",
    "# class ListNode:\n",
    "#     def __init__(self, val=0, next=None):\n",
    "#         self.val = val\n",
    "#         self.next = next\n",
    "class Solution:\n",
    "    def addTwoNumbers(self, l1, l2):\n",
    "        integer1 = []\n",
    "        integer2 = []\n",
    "        while l1:\n",
    "            integer1.append(l1.val)\n",
    "            l1 = l1.next\n",
    "        while l2:\n",
    "            integer2.append(l2.val)\n",
    "            l2 = l2.next\n",
    "\n",
    "        def get_int(a):\n",
    "            integer = 0\n",
    "            for index, element in enumerate(a):\n",
    "                integer += element*10**index\n",
    "            return integer\n",
    "\n",
    "        sums = get_int(integer1) + get_int(integer2)\n",
    "        if sums == 0:\n",
    "            return ListNode(0)\n",
    "\n",
    "        answer = dummy = ListNode(0)\n",
    "\n",
    "        while sums > 0:\n",
    "            digit = sums % 10\n",
    "            dummy.next = ListNode(digit)\n",
    "            dummy = dummy.next\n",
    "            sums = sums // 10\n",
    "          \n",
    "        return answer.next"
   ]
  }
 ],
 "metadata": {
  "kernelspec": {
   "display_name": "Python 3 (ipykernel)",
   "language": "python",
   "name": "python3"
  },
  "language_info": {
   "codemirror_mode": {
    "name": "ipython",
    "version": 3
   },
   "file_extension": ".py",
   "mimetype": "text/x-python",
   "name": "python",
   "nbconvert_exporter": "python",
   "pygments_lexer": "ipython3",
   "version": "3.9.12"
  }
 },
 "nbformat": 4,
 "nbformat_minor": 5
}
