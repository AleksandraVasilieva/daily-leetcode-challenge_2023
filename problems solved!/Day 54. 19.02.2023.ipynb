{
 "cells": [
  {
   "cell_type": "markdown",
   "id": "be29d538",
   "metadata": {},
   "source": [
    "# 387. First Unique Character in a String\n",
    "\n",
    "https://leetcode.com/problems/first-unique-character-in-a-string/description/\n",
    "    \n",
    "Given a string s, find the first non-repeating character in it and return its index. If it does not exist, return -1.\n",
    "\n",
    " \n",
    "\n",
    "Example 1:\n",
    "\n",
    "Input: s = \"leetcode\"\n",
    "Output: 0"
   ]
  },
  {
   "cell_type": "code",
   "execution_count": 1,
   "id": "d70b9b48",
   "metadata": {},
   "outputs": [
    {
     "data": {
      "text/plain": [
       "0"
      ]
     },
     "execution_count": 1,
     "metadata": {},
     "output_type": "execute_result"
    }
   ],
   "source": [
    " def firstUniqChar(s):\n",
    "        for index, value in enumerate(s):\n",
    "            if s.count(value) == 1:\n",
    "                return index\n",
    "        return -1\n",
    "    \n",
    "firstUniqChar('Leetcode')"
   ]
  }
 ],
 "metadata": {
  "kernelspec": {
   "display_name": "Python 3 (ipykernel)",
   "language": "python",
   "name": "python3"
  },
  "language_info": {
   "codemirror_mode": {
    "name": "ipython",
    "version": 3
   },
   "file_extension": ".py",
   "mimetype": "text/x-python",
   "name": "python",
   "nbconvert_exporter": "python",
   "pygments_lexer": "ipython3",
   "version": "3.9.12"
  }
 },
 "nbformat": 4,
 "nbformat_minor": 5
}
