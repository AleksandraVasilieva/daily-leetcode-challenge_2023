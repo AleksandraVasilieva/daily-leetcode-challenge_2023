{
 "cells": [
  {
   "cell_type": "markdown",
   "id": "395e8d31",
   "metadata": {},
   "source": [
    "# 2413. Smallest Even Multiple\n",
    "\n",
    "https://leetcode.com/problems/smallest-even-multiple/description/\n",
    "\n",
    "\n",
    "Given a positive integer n, return the smallest positive integer that is a multiple of both 2 and n.\n",
    "    \n",
    "Example 1:\n",
    "\n",
    "Input: n = 5\n",
    "Output: 10\n",
    "Explanation: The smallest multiple of both 5 and 2 is 10."
   ]
  },
  {
   "cell_type": "code",
   "execution_count": 1,
   "id": "0150b2c3",
   "metadata": {},
   "outputs": [
    {
     "data": {
      "text/plain": [
       "(6, 14)"
      ]
     },
     "execution_count": 1,
     "metadata": {},
     "output_type": "execute_result"
    }
   ],
   "source": [
    "def get(n):\n",
    "    return n*2 if n % 2 == 1 else n\n",
    "\n",
    "get(6), get(7)"
   ]
  }
 ],
 "metadata": {
  "kernelspec": {
   "display_name": "Python 3 (ipykernel)",
   "language": "python",
   "name": "python3"
  },
  "language_info": {
   "codemirror_mode": {
    "name": "ipython",
    "version": 3
   },
   "file_extension": ".py",
   "mimetype": "text/x-python",
   "name": "python",
   "nbconvert_exporter": "python",
   "pygments_lexer": "ipython3",
   "version": "3.9.12"
  }
 },
 "nbformat": 4,
 "nbformat_minor": 5
}
