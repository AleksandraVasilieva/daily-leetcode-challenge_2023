{
 "cells": [
  {
   "cell_type": "markdown",
   "id": "e6091bf8",
   "metadata": {},
   "source": [
    "# 601. Human Traffic of Stadium\n",
    "\n",
    "https://leetcode.com/problems/human-traffic-of-stadium/description/\n",
    "\n",
    "hard\n",
    "\n",
    "Write an SQL query to display the records with three or more rows with consecutive id's, and the number of people is greater than or equal to 100 for each.\n",
    "\n",
    "Return the result table ordered by visit_date in ascending order."
   ]
  },
  {
   "cell_type": "markdown",
   "id": "dc20c12d",
   "metadata": {},
   "source": [
    "with **cte** as (\n",
    "\n",
    "select id\n",
    "\n",
    "from (\n",
    "\n",
    "select id, visit_date, people,\n",
    "\n",
    "lag(visit_date) over() as y,\n",
    "\n",
    "lag(visit_date, 2) over() before_y,\n",
    "\n",
    "lag(people) over() people_y,\n",
    "\n",
    "lag(people, 2) over() people_before_y\n",
    "\n",
    "from stadium  ) lags\n",
    "\n",
    "where\n",
    "\n",
    "people >= 100\n",
    "\n",
    "and people_y >= 100\n",
    "\n",
    "and people_before_y >= 100 )\n",
    "\n",
    "####\n",
    "\n",
    "select *\n",
    "from stadium\n",
    "\n",
    "where id in (select * from cte)\n",
    "\n",
    "or id+1 in (select * from cte)\n",
    "\n",
    "or id+2 in (select * from cte)\n"
   ]
  }
 ],
 "metadata": {
  "kernelspec": {
   "display_name": "Python 3 (ipykernel)",
   "language": "python",
   "name": "python3"
  },
  "language_info": {
   "codemirror_mode": {
    "name": "ipython",
    "version": 3
   },
   "file_extension": ".py",
   "mimetype": "text/x-python",
   "name": "python",
   "nbconvert_exporter": "python",
   "pygments_lexer": "ipython3",
   "version": "3.9.12"
  }
 },
 "nbformat": 4,
 "nbformat_minor": 5
}
