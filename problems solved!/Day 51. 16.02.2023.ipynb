{
 "cells": [
  {
   "cell_type": "markdown",
   "id": "05f644c3",
   "metadata": {},
   "source": [
    "# 219. Contains Duplicate II\n",
    "\n",
    "https://leetcode.com/problems/contains-duplicate-ii/description/\n",
    "\n",
    "Given an integer array nums and an integer k, return true if there are two distinct indices i and j in the array such that nums[i] == nums[j] and abs(i - j) <= k."
   ]
  },
  {
   "cell_type": "code",
   "execution_count": 64,
   "id": "4b1e7411",
   "metadata": {},
   "outputs": [
    {
     "name": "stdout",
     "output_type": "stream",
     "text": [
      "True\n"
     ]
    },
    {
     "data": {
      "text/plain": [
       "{0: 6, 1: 1, 4: 2, 12: 5}"
      ]
     },
     "execution_count": 64,
     "metadata": {},
     "output_type": "execute_result"
    }
   ],
   "source": [
    "nums = [0,1,4,0,0,12,0]\n",
    "k = 1\n",
    "\n",
    "dct = dict()\n",
    "\n",
    "for index, value in enumerate(nums):\n",
    "    if value in dct and index - dct[value] <= k:\n",
    "        print(True)\n",
    "    dct[value] = index # assigning dict value to the most recent index\n",
    "\n",
    "dct"
   ]
  }
 ],
 "metadata": {
  "kernelspec": {
   "display_name": "Python 3 (ipykernel)",
   "language": "python",
   "name": "python3"
  },
  "language_info": {
   "codemirror_mode": {
    "name": "ipython",
    "version": 3
   },
   "file_extension": ".py",
   "mimetype": "text/x-python",
   "name": "python",
   "nbconvert_exporter": "python",
   "pygments_lexer": "ipython3",
   "version": "3.9.12"
  }
 },
 "nbformat": 4,
 "nbformat_minor": 5
}
