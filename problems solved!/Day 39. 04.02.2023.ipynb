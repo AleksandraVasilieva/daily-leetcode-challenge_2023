{
 "cells": [
  {
   "cell_type": "markdown",
   "id": "5876a544",
   "metadata": {},
   "source": [
    "# 26. Remove Duplicates from Sorted Array\n",
    "\n",
    "https://leetcode.com/problems/remove-duplicates-from-sorted-array/description/"
   ]
  },
  {
   "cell_type": "markdown",
   "id": "a369dffa",
   "metadata": {},
   "source": [
    "Got some help. https://leetcode.com/problems/remove-duplicates-from-sorted-array/solutions/302016/python-solution/"
   ]
  },
  {
   "cell_type": "code",
   "execution_count": 32,
   "id": "36372721",
   "metadata": {},
   "outputs": [
    {
     "data": {
      "text/plain": [
       "[1, 2, 5, 7, 9, 9, 9]"
      ]
     },
     "execution_count": 32,
     "metadata": {},
     "output_type": "execute_result"
    }
   ],
   "source": [
    "nums = [1, 2, 5, 7, 7, 9, 9]\n",
    "\n",
    "last_unique = 0 + 1 # the first element (index 0) is always unique hence +1\n",
    "\n",
    "for i in range(len(nums) - 1):\n",
    "    if nums[i] != nums[i+1]: # if the next element is different\n",
    "        nums[last_unique] = nums[i+1]\n",
    "        last_unique += 1\n",
    "nums"
   ]
  }
 ],
 "metadata": {
  "kernelspec": {
   "display_name": "Python 3 (ipykernel)",
   "language": "python",
   "name": "python3"
  },
  "language_info": {
   "codemirror_mode": {
    "name": "ipython",
    "version": 3
   },
   "file_extension": ".py",
   "mimetype": "text/x-python",
   "name": "python",
   "nbconvert_exporter": "python",
   "pygments_lexer": "ipython3",
   "version": "3.9.12"
  }
 },
 "nbformat": 4,
 "nbformat_minor": 5
}
