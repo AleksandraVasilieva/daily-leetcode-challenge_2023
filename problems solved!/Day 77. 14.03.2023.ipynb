{
 "cells": [
  {
   "cell_type": "markdown",
   "id": "94c51436",
   "metadata": {},
   "source": [
    "# 262. Trips and Users\n",
    "\n",
    "hard\n",
    "\n",
    "https://leetcode.com/problems/trips-and-users/description/\n",
    "\n",
    "The cancellation rate is computed by dividing the number of canceled (by client or driver) requests with unbanned users by the total number of requests with unbanned users on that day.\n",
    "\n",
    "Write a SQL query to find the cancellation rate of requests with unbanned users (both client and driver must not be banned) each day between \"2013-10-01\" and \"2013-10-03\". Round Cancellation Rate to two decimal points.\n",
    "\n",
    "Return the result table in any order."
   ]
  },
  {
   "cell_type": "markdown",
   "id": "01e42c5d",
   "metadata": {},
   "source": [
    "select Day, round(sum(dummy) / count(dummy), 2)  'Cancellation Rate'\n",
    "\n",
    "from (\n",
    "\n",
    "select request_at as Day,\n",
    "\n",
    "case when status like 'cancelled%' then 1 else 0 end as Dummy\n",
    "\n",
    "from trips t left join users uc\n",
    "\n",
    "on t.client_id = uc.users_id\n",
    "\n",
    "left join users ud\n",
    "\n",
    "on t.driver_id = ud.users_id \n",
    "\n",
    "where request_at between '2013-10-01' and '2013-10-03'\n",
    "\n",
    "and ud.banned = 'No'\n",
    "\n",
    "and uc.banned = 'No'\n",
    "\n",
    ") marked\n",
    "\n",
    "group by Day"
   ]
  }
 ],
 "metadata": {
  "kernelspec": {
   "display_name": "Python 3 (ipykernel)",
   "language": "python",
   "name": "python3"
  },
  "language_info": {
   "codemirror_mode": {
    "name": "ipython",
    "version": 3
   },
   "file_extension": ".py",
   "mimetype": "text/x-python",
   "name": "python",
   "nbconvert_exporter": "python",
   "pygments_lexer": "ipython3",
   "version": "3.9.12"
  }
 },
 "nbformat": 4,
 "nbformat_minor": 5
}
