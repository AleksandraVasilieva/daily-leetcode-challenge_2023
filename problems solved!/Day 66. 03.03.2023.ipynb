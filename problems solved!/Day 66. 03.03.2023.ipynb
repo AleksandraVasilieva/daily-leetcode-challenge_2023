{
 "cells": [
  {
   "cell_type": "markdown",
   "id": "011e14d2",
   "metadata": {},
   "source": [
    "# 178. Rank Scores\n",
    "\n",
    "https://leetcode.com/problems/rank-scores/description/\n",
    "    \n",
    "Write an SQL query to rank the scores. The ranking should be calculated according to the following rules:\n",
    "\n",
    "The scores should be ranked from the highest to the lowest.\n",
    "If there is a tie between two scores, both should have the same ranking.\n",
    "After a tie, the next ranking number should be the next consecutive integer value. In other words, there should be no holes between ranks.\n",
    "Return the result table ordered by score in descending order."
   ]
  },
  {
   "cell_type": "markdown",
   "id": "08a0b9be",
   "metadata": {},
   "source": [
    "select score, \n",
    "\n",
    "dense_rank() over (order by score desc) 'rank'\n",
    "\n",
    "from scores "
   ]
  },
  {
   "cell_type": "markdown",
   "id": "f1778366",
   "metadata": {},
   "source": [
    "In MySQL an alias is introduced by ''."
   ]
  }
 ],
 "metadata": {
  "kernelspec": {
   "display_name": "Python 3 (ipykernel)",
   "language": "python",
   "name": "python3"
  },
  "language_info": {
   "codemirror_mode": {
    "name": "ipython",
    "version": 3
   },
   "file_extension": ".py",
   "mimetype": "text/x-python",
   "name": "python",
   "nbconvert_exporter": "python",
   "pygments_lexer": "ipython3",
   "version": "3.9.12"
  }
 },
 "nbformat": 4,
 "nbformat_minor": 5
}
