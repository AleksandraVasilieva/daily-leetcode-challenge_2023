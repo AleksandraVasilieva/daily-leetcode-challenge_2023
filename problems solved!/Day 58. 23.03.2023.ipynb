{
 "cells": [
  {
   "cell_type": "markdown",
   "id": "4caad691",
   "metadata": {},
   "source": [
    "# 2427. Number of Common Factors\n",
    "\n",
    "https://leetcode.com/problems/number-of-common-factors/description/\n",
    "    \n",
    "Given two positive integers a and b, return the number of common factors of a and b.\n",
    "\n",
    "An integer x is a common factor of a and b if x divides both a and b.\n",
    "\n",
    " \n",
    "\n",
    "Example 1:\n",
    "\n",
    "Input: a = 12, b = 6\n",
    "Output: 4\n",
    "Explanation: The common factors of 12 and 6 are 1, 2, 3, 6."
   ]
  },
  {
   "cell_type": "markdown",
   "id": "13f09bd8",
   "metadata": {},
   "source": [
    "## direct"
   ]
  },
  {
   "cell_type": "code",
   "execution_count": 11,
   "id": "faf5ad82",
   "metadata": {},
   "outputs": [
    {
     "data": {
      "text/plain": [
       "3"
      ]
     },
     "execution_count": 11,
     "metadata": {},
     "output_type": "execute_result"
    }
   ],
   "source": [
    "commons = 0\n",
    "for i in range(1, min(a, b) + 1):\n",
    "    if a % i == 0 and b % i == 0:\n",
    "        commons += 1\n",
    "        \n",
    "commons"
   ]
  },
  {
   "cell_type": "markdown",
   "id": "d8cfbce0",
   "metadata": {},
   "source": [
    "## via generator"
   ]
  },
  {
   "cell_type": "code",
   "execution_count": 3,
   "id": "33df96bc",
   "metadata": {},
   "outputs": [
    {
     "data": {
      "text/plain": [
       "3"
      ]
     },
     "execution_count": 3,
     "metadata": {},
     "output_type": "execute_result"
    }
   ],
   "source": [
    "a = 12\n",
    "b = 4\n",
    "\n",
    "sum(1 for i in range(1, min(a, b)+1) if all((a % i == 0, b % i == 0)))"
   ]
  },
  {
   "cell_type": "markdown",
   "id": "edfca2f2",
   "metadata": {},
   "source": [
    "## weird-fancy solution via not\n",
    "\n",
    "#### some excercises"
   ]
  },
  {
   "cell_type": "code",
   "execution_count": 16,
   "id": "6c7c4b2e",
   "metadata": {},
   "outputs": [
    {
     "data": {
      "text/plain": [
       "[(True, 1), (True, 2), (False, 3)]"
      ]
     },
     "execution_count": 16,
     "metadata": {},
     "output_type": "execute_result"
    }
   ],
   "source": [
    "[(not(a % i or b % i), i) for i in range(1, min(a, b))]"
   ]
  },
  {
   "cell_type": "code",
   "execution_count": 21,
   "id": "05deaa3b",
   "metadata": {},
   "outputs": [
    {
     "data": {
      "text/plain": [
       "(True, False)"
      ]
     },
     "execution_count": 21,
     "metadata": {},
     "output_type": "execute_result"
    }
   ],
   "source": [
    "not(12 % 6), not(12 % 7) # gives True if resudual is 0"
   ]
  },
  {
   "cell_type": "code",
   "execution_count": 22,
   "id": "cbd74368",
   "metadata": {},
   "outputs": [
    {
     "data": {
      "text/plain": [
       "5"
      ]
     },
     "execution_count": 22,
     "metadata": {},
     "output_type": "execute_result"
    }
   ],
   "source": [
    "12 % 6 or 12 % 7"
   ]
  },
  {
   "cell_type": "markdown",
   "id": "3b0819f6",
   "metadata": {},
   "source": [
    "#### the solution"
   ]
  },
  {
   "cell_type": "code",
   "execution_count": 27,
   "id": "e14048e2",
   "metadata": {},
   "outputs": [
    {
     "data": {
      "text/plain": [
       "3"
      ]
     },
     "execution_count": 27,
     "metadata": {},
     "output_type": "execute_result"
    }
   ],
   "source": [
    "a = 12\n",
    "b = 4\n",
    "\n",
    "sum(not(a%i or b%i) for i in range(1,min(a,b)+1))"
   ]
  }
 ],
 "metadata": {
  "kernelspec": {
   "display_name": "Python 3 (ipykernel)",
   "language": "python",
   "name": "python3"
  },
  "language_info": {
   "codemirror_mode": {
    "name": "ipython",
    "version": 3
   },
   "file_extension": ".py",
   "mimetype": "text/x-python",
   "name": "python",
   "nbconvert_exporter": "python",
   "pygments_lexer": "ipython3",
   "version": "3.9.12"
  }
 },
 "nbformat": 4,
 "nbformat_minor": 5
}
