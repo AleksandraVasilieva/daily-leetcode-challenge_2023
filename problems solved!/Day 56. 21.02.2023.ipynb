{
 "cells": [
  {
   "cell_type": "markdown",
   "id": "e09ffa26",
   "metadata": {},
   "source": [
    "# 1689. Partitioning Into Minimum Number Of Deci-Binary Numbers\n",
    "\n",
    "https://leetcode.com/problems/partitioning-into-minimum-number-of-deci-binary-numbers/description/\n",
    "    \n",
    "A decimal number is called deci-binary if each of its digits is either 0 or 1 without any leading zeros. For example, 101 and 1100 are deci-binary, while 112 and 3001 are not.\n",
    "\n",
    "Given a string n that represents a positive decimal integer, return the minimum number of positive deci-binary numbers needed so that they sum up to n.\n",
    "\n",
    " \n",
    "\n",
    "Example 1:\n",
    "\n",
    "Input: n = \"32\"\n",
    "Output: 3\n",
    "Explanation: 10 + 11 + 11 = 32"
   ]
  },
  {
   "cell_type": "markdown",
   "id": "c69660dd",
   "metadata": {},
   "source": [
    "### IDEA\n",
    "\n",
    "Given that any number can be comprised of only ones (1), we need exactly n ones to make up a digit n. Therefore, the number of deci-binary numbers to get the initial number is equal to the maximum digit."
   ]
  },
  {
   "cell_type": "code",
   "execution_count": 2,
   "id": "2ddd7deb",
   "metadata": {},
   "outputs": [
    {
     "data": {
      "text/plain": [
       "9"
      ]
     },
     "execution_count": 2,
     "metadata": {},
     "output_type": "execute_result"
    }
   ],
   "source": [
    "n = '392516'\n",
    "max(map(lambda x: int(x), list(n)))"
   ]
  },
  {
   "cell_type": "markdown",
   "id": "f1f4b85d",
   "metadata": {},
   "source": [
    "It is actually possible to get the max of a string"
   ]
  },
  {
   "cell_type": "code",
   "execution_count": 4,
   "id": "d12ffe64",
   "metadata": {},
   "outputs": [
    {
     "data": {
      "text/plain": [
       "('3', 'c')"
      ]
     },
     "execution_count": 4,
     "metadata": {},
     "output_type": "execute_result"
    }
   ],
   "source": [
    "max('32'), max('abc')"
   ]
  },
  {
   "cell_type": "code",
   "execution_count": 5,
   "id": "7141ffb8",
   "metadata": {},
   "outputs": [
    {
     "data": {
      "text/plain": [
       "9"
      ]
     },
     "execution_count": 5,
     "metadata": {},
     "output_type": "execute_result"
    }
   ],
   "source": [
    "n = '392516'\n",
    "int(max(n))"
   ]
  }
 ],
 "metadata": {
  "kernelspec": {
   "display_name": "Python 3 (ipykernel)",
   "language": "python",
   "name": "python3"
  },
  "language_info": {
   "codemirror_mode": {
    "name": "ipython",
    "version": 3
   },
   "file_extension": ".py",
   "mimetype": "text/x-python",
   "name": "python",
   "nbconvert_exporter": "python",
   "pygments_lexer": "ipython3",
   "version": "3.9.12"
  }
 },
 "nbformat": 4,
 "nbformat_minor": 5
}
