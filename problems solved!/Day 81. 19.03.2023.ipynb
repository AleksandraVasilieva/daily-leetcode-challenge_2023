{
 "cells": [
  {
   "cell_type": "markdown",
   "id": "b057a072",
   "metadata": {},
   "source": [
    "# 197. Rising Temperature\n",
    "\n",
    "easy\n",
    "\n",
    "https://leetcode.com/problems/rising-temperature/description/\n",
    "    \n",
    "Write an SQL query to find all dates' Id with higher temperatures compared to its previous dates (yesterday)."
   ]
  },
  {
   "cell_type": "markdown",
   "id": "9579899e",
   "metadata": {},
   "source": [
    "##  Option 1\n",
    "\n",
    "select id from (\n",
    "\n",
    "select *,\n",
    "\n",
    "lag(temperature) over(order by recordDate) as temp_yesterday,\n",
    "\n",
    "lag(recordDate) over (order by recordDate) as day_yesterday\n",
    "\n",
    "from weather ) lags_info\n",
    "\n",
    "where temp_yesterday < temperature\n",
    "\n",
    "and **datediff**(recordDate, day_yesterday) = 1"
   ]
  },
  {
   "cell_type": "markdown",
   "id": "1627088d",
   "metadata": {},
   "source": [
    "## Option 2\n",
    "\n",
    "select w1.id\n",
    "\n",
    "from weather w1, weather w2\n",
    "\n",
    "where **date_sub**(w1.recordDate, interval 1 day) = w2.recordDate\n",
    "\n",
    "and w2.temperature < w1.temperature"
   ]
  },
  {
   "cell_type": "markdown",
   "id": "a081083e",
   "metadata": {},
   "source": [
    "### * Datediff(date1, date2) = time between those dates\n",
    "\n",
    "### * Date_sub(date1, interval x hour/day/week...) = substracting x from date1"
   ]
  },
  {
   "cell_type": "markdown",
   "id": "488ae01a",
   "metadata": {},
   "source": [
    "## Option 3\n",
    "\n",
    "select w1.id\n",
    "\n",
    "from weather w1, weather w2\n",
    "\n",
    "where datediff(w1.recordDate, w2.recordDate) = 1\n",
    "\n",
    "and w2.temperature < w1.temperature"
   ]
  }
 ],
 "metadata": {
  "kernelspec": {
   "display_name": "Python 3 (ipykernel)",
   "language": "python",
   "name": "python3"
  },
  "language_info": {
   "codemirror_mode": {
    "name": "ipython",
    "version": 3
   },
   "file_extension": ".py",
   "mimetype": "text/x-python",
   "name": "python",
   "nbconvert_exporter": "python",
   "pygments_lexer": "ipython3",
   "version": "3.9.12"
  }
 },
 "nbformat": 4,
 "nbformat_minor": 5
}
