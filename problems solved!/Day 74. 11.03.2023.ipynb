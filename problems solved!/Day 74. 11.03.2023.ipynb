{
 "cells": [
  {
   "cell_type": "markdown",
   "id": "fa62573e",
   "metadata": {},
   "source": [
    "# 181. Employees Earning More Than Their Managers\n",
    "\n",
    "https://leetcode.com/problems/employees-earning-more-than-their-managers/description/\n",
    "\n",
    "Write an SQL query to find the employees who earn more than their managers."
   ]
  },
  {
   "cell_type": "markdown",
   "id": "db1deedb",
   "metadata": {},
   "source": [
    "select e1.Name as Employee\n",
    "\n",
    "from employee e1 left join employee e2\n",
    "\n",
    "on e1.managerID = e2.id\n",
    "\n",
    "where e1.salary > e2.salary"
   ]
  }
 ],
 "metadata": {
  "kernelspec": {
   "display_name": "Python 3 (ipykernel)",
   "language": "python",
   "name": "python3"
  },
  "language_info": {
   "codemirror_mode": {
    "name": "ipython",
    "version": 3
   },
   "file_extension": ".py",
   "mimetype": "text/x-python",
   "name": "python",
   "nbconvert_exporter": "python",
   "pygments_lexer": "ipython3",
   "version": "3.9.12"
  }
 },
 "nbformat": 4,
 "nbformat_minor": 5
}
