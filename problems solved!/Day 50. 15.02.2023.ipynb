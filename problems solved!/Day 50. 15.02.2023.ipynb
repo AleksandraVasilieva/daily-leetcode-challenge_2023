{
 "cells": [
  {
   "cell_type": "markdown",
   "id": "05e88867",
   "metadata": {},
   "source": [
    "# 202. Happy Number\n",
    "\n",
    "https://leetcode.com/problems/happy-number/description/\n",
    "\n",
    "Write an algorithm to determine if a number n is happy.\n",
    "\n",
    "A happy number is a number defined by the following process:\n",
    "\n",
    "Starting with any positive integer, replace the number by the sum of the squares of its digits.\n",
    "Repeat the process until the number equals 1 (where it will stay), or it **loops endlessly** (it's a HINT: it DOES NOT go to infinity) in a <u> cycle which does not include 1</u> (ANOTHER HINT).\n",
    "Those numbers for which this process ends in 1 are happy.\n",
    "Return true if n is a happy number, and false if not."
   ]
  },
  {
   "cell_type": "markdown",
   "id": "ca36c883",
   "metadata": {},
   "source": [
    "There is an idea that the number will never go infinite, and if a number is not happy **there will always be a cycle**. This was not intuitive for me."
   ]
  },
  {
   "cell_type": "code",
   "execution_count": 30,
   "id": "1b44342a",
   "metadata": {},
   "outputs": [
    {
     "name": "stdout",
     "output_type": "stream",
     "text": [
      "False\n"
     ]
    }
   ],
   "source": [
    "n = 50\n",
    "\n",
    "def get_sum(n):\n",
    "    n = list(str(n))\n",
    "    sums = 0\n",
    "    for i in n:\n",
    "        sums += (int(i))**2\n",
    "    return sums\n",
    "\n",
    "ans = get_sum(n)\n",
    "seen = {0}\n",
    "while ans not in seen:\n",
    "    seen.add(ans)\n",
    "    ans = get_sum(ans)\n",
    "    if ans == 1:\n",
    "        print(True)\n",
    "print(False)"
   ]
  },
  {
   "cell_type": "markdown",
   "id": "64f4f645",
   "metadata": {},
   "source": [
    "Another version of same code could be with a list comprehension instead of an additional function."
   ]
  },
  {
   "cell_type": "code",
   "execution_count": 32,
   "id": "ad04f194",
   "metadata": {},
   "outputs": [
    {
     "data": {
      "text/plain": [
       "False"
      ]
     },
     "execution_count": 32,
     "metadata": {},
     "output_type": "execute_result"
    }
   ],
   "source": [
    "n = 50\n",
    "seen = set()\n",
    "\n",
    "while n not in seen:\n",
    "    seen.add(n)\n",
    "    n = sum(int(i)**2 for i in str(n))\n",
    "1 in seen # funny way to return the answer, never used it before"
   ]
  },
  {
   "cell_type": "markdown",
   "id": "04117296",
   "metadata": {},
   "source": [
    "## Some-cool-math way to solve the happy number problem\n",
    "\n",
    "Knowing that 2 and 3 are not happy numbers and 4 is a sign of cycle, let's just implement one check"
   ]
  },
  {
   "cell_type": "code",
   "execution_count": 37,
   "id": "c1874dde",
   "metadata": {},
   "outputs": [
    {
     "data": {
      "text/plain": [
       "False"
      ]
     },
     "execution_count": 37,
     "metadata": {},
     "output_type": "execute_result"
    }
   ],
   "source": [
    "n = 202\n",
    "while n > 4:\n",
    "    n = sum(int(i)** 2 for i in str(n))\n",
    "n == 1"
   ]
  }
 ],
 "metadata": {
  "kernelspec": {
   "display_name": "Python 3 (ipykernel)",
   "language": "python",
   "name": "python3"
  },
  "language_info": {
   "codemirror_mode": {
    "name": "ipython",
    "version": 3
   },
   "file_extension": ".py",
   "mimetype": "text/x-python",
   "name": "python",
   "nbconvert_exporter": "python",
   "pygments_lexer": "ipython3",
   "version": "3.9.12"
  }
 },
 "nbformat": 4,
 "nbformat_minor": 5
}
