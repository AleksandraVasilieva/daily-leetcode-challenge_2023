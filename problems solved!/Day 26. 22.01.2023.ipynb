{
 "cells": [
  {
   "cell_type": "markdown",
   "id": "2acf54d0",
   "metadata": {},
   "source": [
    "# 136. Single Number\n",
    "\n",
    "https://leetcode.com/problems/single-number\n",
    "    \n",
    "Given a non-empty array of integers nums, every element appears twice except for one. Find that single one.\n",
    "\n",
    "You must implement a solution with a linear runtime complexity and use only constant extra space.\n",
    "\n",
    " \n",
    "Example 1:\n",
    "\n",
    "Input: nums = [2,2,1]\n",
    "Output: 1"
   ]
  },
  {
   "cell_type": "markdown",
   "id": "fe8c03c9",
   "metadata": {},
   "source": [
    "* my option"
   ]
  },
  {
   "cell_type": "code",
   "execution_count": null,
   "id": "2c4958dc",
   "metadata": {},
   "outputs": [],
   "source": [
    "for i in nums:\n",
    "    if nums.count(i) == 1:\n",
    "        return i"
   ]
  },
  {
   "cell_type": "markdown",
   "id": "050171dd",
   "metadata": {},
   "source": [
    "Revising community's solutions"
   ]
  },
  {
   "cell_type": "markdown",
   "id": "875b7961",
   "metadata": {},
   "source": [
    "### 1. Sum"
   ]
  },
  {
   "cell_type": "code",
   "execution_count": 1,
   "id": "e0dabd86",
   "metadata": {},
   "outputs": [
    {
     "data": {
      "text/plain": [
       "1"
      ]
     },
     "execution_count": 1,
     "metadata": {},
     "output_type": "execute_result"
    }
   ],
   "source": [
    "nums = [2,2,1]\n",
    "\n",
    "2*sum(set(nums)) - sum(nums)"
   ]
  },
  {
   "cell_type": "markdown",
   "id": "96701edc",
   "metadata": {},
   "source": [
    "### 2. xor\n",
    "\n",
    "**xor** equals to \n",
    "* 1 if all elements are different\n",
    "* 0 if element are the same\n",
    "\n"
   ]
  },
  {
   "cell_type": "code",
   "execution_count": 11,
   "id": "bf31e030",
   "metadata": {},
   "outputs": [
    {
     "data": {
      "text/plain": [
       "4"
      ]
     },
     "execution_count": 11,
     "metadata": {},
     "output_type": "execute_result"
    }
   ],
   "source": [
    "4 ^ 0"
   ]
  },
  {
   "cell_type": "code",
   "execution_count": 8,
   "id": "a13144c9",
   "metadata": {},
   "outputs": [
    {
     "name": "stdout",
     "output_type": "stream",
     "text": [
      "1\n",
      "0\n",
      "5\n"
     ]
    }
   ],
   "source": [
    "a = 4\n",
    "b = 5\n",
    "c = 4\n",
    "print(a ^ b)\n",
    "print(a ^ c)\n",
    "print(a ^ b ^ c)"
   ]
  },
  {
   "cell_type": "code",
   "execution_count": 7,
   "id": "1a8961e5",
   "metadata": {},
   "outputs": [
    {
     "data": {
      "text/plain": [
       "5"
      ]
     },
     "execution_count": 7,
     "metadata": {},
     "output_type": "execute_result"
    }
   ],
   "source": [
    "nums = [2,2,1,5,1]\n",
    "\n",
    "x = nums[0]\n",
    "for num in nums[1:]:\n",
    "    x = x ^ num\n",
    "    \n",
    "x"
   ]
  }
 ],
 "metadata": {
  "kernelspec": {
   "display_name": "Python 3 (ipykernel)",
   "language": "python",
   "name": "python3"
  },
  "language_info": {
   "codemirror_mode": {
    "name": "ipython",
    "version": 3
   },
   "file_extension": ".py",
   "mimetype": "text/x-python",
   "name": "python",
   "nbconvert_exporter": "python",
   "pygments_lexer": "ipython3",
   "version": "3.9.12"
  }
 },
 "nbformat": 4,
 "nbformat_minor": 5
}
