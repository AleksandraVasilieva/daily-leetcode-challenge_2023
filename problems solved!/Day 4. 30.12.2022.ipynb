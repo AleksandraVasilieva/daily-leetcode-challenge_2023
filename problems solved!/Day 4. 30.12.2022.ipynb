{
 "cells": [
  {
   "cell_type": "markdown",
   "id": "bf20ddf7",
   "metadata": {},
   "source": [
    "# 876. Middle of the Linked List\n",
    "\n",
    "https://leetcode.com/problems/middle-of-the-linked-list\n",
    "\n",
    "Easy\n",
    "8.4K\n",
    "235\n",
    "Companies\n",
    "Given the head of a singly linked list, return the middle node of the linked list.\n",
    "\n",
    "If there are two middle nodes, return the second middle node.\n",
    "\n",
    " \n",
    "\n",
    "Example 1:\n",
    "\n",
    "\n",
    "Input: head = [1,2,3,4,5]\n",
    "Output: [3,4,5]\n",
    "Explanation: The middle node of the list is node 3.\n",
    "Example 2:\n",
    "\n",
    "\n",
    "Input: head = [1,2,3,4,5,6]\n",
    "Output: [4,5,6]\n",
    "Explanation: Since the list has two middle nodes with values 3 and 4, we return the second one.\n",
    " \n",
    "\n",
    "Constraints:\n",
    "\n",
    "The number of nodes in the list is in the range [1, 100].\n",
    "1 <= Node.val <= 100"
   ]
  },
  {
   "cell_type": "code",
   "execution_count": 15,
   "id": "9723a902",
   "metadata": {},
   "outputs": [
    {
     "name": "stdout",
     "output_type": "stream",
     "text": [
      "1 True\n",
      "5 True\n",
      "[9, 0] True\n",
      "7.2 True\n",
      "abc True\n"
     ]
    }
   ],
   "source": [
    "# quick revision of bool technique\n",
    "# when encountering None the cycle shoul get False and move to another element\n",
    "\n",
    "my_list = [1, 5, [9, 0], 7.2, 'abc', None, 1, 2, 3]\n",
    "for element in my_list:\n",
    "    if bool(element):  # = if bool(element) is True \n",
    "        print(element, bool(element))\n",
    "    else:\n",
    "        break"
   ]
  },
  {
   "cell_type": "code",
   "execution_count": 14,
   "id": "b9c086d1",
   "metadata": {},
   "outputs": [
    {
     "name": "stdout",
     "output_type": "stream",
     "text": [
      "1 True\n",
      "5 True\n",
      "[9, 0] True\n",
      "7.2 True\n",
      "abc True\n"
     ]
    }
   ],
   "source": [
    "# the same concept with different syntax\n",
    "\n",
    "my_list = [1, 5, [9, 0], 7.2, 'abc', None, 1, 2, 3]\n",
    "for element in my_list:\n",
    "    if element:  \n",
    "        print(element, bool(element))\n",
    "    else:\n",
    "        break"
   ]
  },
  {
   "cell_type": "markdown",
   "id": "a05f9860",
   "metadata": {},
   "source": [
    "linked list explanation:\n",
    "https://www.youtube.com/watch?v=WwfhLC16bis&ab_channel=CSDojo"
   ]
  },
  {
   "cell_type": "markdown",
   "id": "1f2e2f60",
   "metadata": {},
   "source": [
    "### simple idea:\n",
    "\n",
    "Let's just copy a linked list into an ordinary list iterating element by element. Given in the constraints that the number of nodes in the list is in the range [1, 100] this should not take much time. Extracting the middle element shoul be easy from this point using integer division **//**."
   ]
  },
  {
   "cell_type": "code",
   "execution_count": 18,
   "id": "3e65e575",
   "metadata": {},
   "outputs": [],
   "source": [
    "#Correct!\n",
    "\n",
    "# Definition for singly-linked list.\n",
    "# class ListNode:\n",
    "#     def __init__(self, val=0, next=None):\n",
    "#         self.val = val\n",
    "#         self.next = next\n",
    "\n",
    "class Solution:\n",
    "    def middleNode(self, head):\n",
    "        ordinary_list = []\n",
    "        iteration = head\n",
    "        while iteration:\n",
    "            ordinary_list.append(iteration)\n",
    "            iteration = iteration.next\n",
    "        middle = (len(ordinary_list)) // 2\n",
    "        return ordinary_list[middle:]"
   ]
  },
  {
   "cell_type": "markdown",
   "id": "f4562b34",
   "metadata": {},
   "source": [
    "## Another approach:  using Hare&Tortoise algorithm\n",
    "\n",
    "We know that the list is linked Sinlgy and not Circular. Therefore the last element points at None. Hare moves twice faster than the Turtle, so when the hair reaches None the Turtle is exactly in the middle!\n",
    "\n",
    "This is a O(n) algorithm!\n",
    "\n",
    "https://medium.com/@tuvo1106/the-tortoise-and-the-hare-floyds-algorithm-87badf5f7d41"
   ]
  },
  {
   "cell_type": "code",
   "execution_count": 19,
   "id": "4e36ab9f",
   "metadata": {},
   "outputs": [],
   "source": [
    "# Definition for singly-linked list.\n",
    "# class ListNode:\n",
    "#     def __init__(self, val=0, next=None):\n",
    "#         self.val = val\n",
    "#         self.next = next\n",
    "class Solution:\n",
    "    def middleNode(self,head):\n",
    "        turtle = head\n",
    "        hare = head\n",
    "        while hare and hare.next:\n",
    "            turtle = turtle.next\n",
    "            hare = hare.next.next\n",
    "        return turtle"
   ]
  }
 ],
 "metadata": {
  "kernelspec": {
   "display_name": "Python 3 (ipykernel)",
   "language": "python",
   "name": "python3"
  },
  "language_info": {
   "codemirror_mode": {
    "name": "ipython",
    "version": 3
   },
   "file_extension": ".py",
   "mimetype": "text/x-python",
   "name": "python",
   "nbconvert_exporter": "python",
   "pygments_lexer": "ipython3",
   "version": "3.9.12"
  }
 },
 "nbformat": 4,
 "nbformat_minor": 5
}
