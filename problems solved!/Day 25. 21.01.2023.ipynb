{
 "cells": [
  {
   "cell_type": "markdown",
   "id": "c0d20991",
   "metadata": {},
   "source": [
    "# 83. Remove Duplicates from Sorted List\n",
    "\n",
    "https://leetcode.com/problems/remove-duplicates-from-sorted-list/\n",
    "    \n",
    "Given the head of a sorted linked list, delete all duplicates such that each element appears only once. Return the linked list sorted as well.\n",
    "\n",
    "Input: head = [1,1,2]\n",
    "\n",
    "Output: [1,2]"
   ]
  },
  {
   "cell_type": "markdown",
   "id": "0bab2643",
   "metadata": {},
   "source": [
    "I don't know yet why this didn't work...."
   ]
  },
  {
   "cell_type": "code",
   "execution_count": null,
   "id": "d63b4c63",
   "metadata": {},
   "outputs": [],
   "source": [
    "def deleteDuplicates(self, head: Optional[ListNode]) -> Optional[ListNode]:\n",
    "\n",
    "    if not head:\n",
    "        return None\n",
    "\n",
    "    temp = head\n",
    "        \n",
    "    while temp.next:\n",
    "        current = temp.val\n",
    "        temp = temp.next\n",
    "        following = temp.val\n",
    "        if current == following:\n",
    "            temp.next = temp.next.next\n",
    "        else:\n",
    "            temp = temp.next\n",
    "    return head"
   ]
  },
  {
   "cell_type": "markdown",
   "id": "426c00f2",
   "metadata": {},
   "source": [
    "But this (not assigning values to **current** and **following**...) worked fine.."
   ]
  },
  {
   "cell_type": "code",
   "execution_count": null,
   "id": "4e4d7afb",
   "metadata": {},
   "outputs": [],
   "source": [
    "    def deleteDuplicates(self, head: Optional[ListNode]) -> Optional[ListNode]:\n",
    "\n",
    "        if not head:\n",
    "            return None\n",
    "\n",
    "        temp = head\n",
    "\n",
    "        while temp.next is not None:\n",
    "            \n",
    "            #current = temp.val\n",
    "            #temp = temp.next\n",
    "            #following = temp.val\n",
    "            \n",
    "            if temp.val == temp.next.val:\n",
    "                temp.next = temp.next.next\n",
    "            else:\n",
    "                temp = temp.next\n",
    "        return head"
   ]
  },
  {
   "cell_type": "markdown",
   "id": "f6eb1092",
   "metadata": {},
   "source": [
    "### If not:\n",
    "\n",
    "executes something is list(etc) is empty"
   ]
  },
  {
   "cell_type": "code",
   "execution_count": 7,
   "id": "51ff7212",
   "metadata": {},
   "outputs": [
    {
     "name": "stdout",
     "output_type": "stream",
     "text": [
      "[]\n",
      "0\n"
     ]
    }
   ],
   "source": [
    "a = [1, 'w', (5, 8), [], 0]\n",
    "\n",
    "for i in a:\n",
    "    if not i:\n",
    "        print(i)"
   ]
  }
 ],
 "metadata": {
  "kernelspec": {
   "display_name": "Python 3 (ipykernel)",
   "language": "python",
   "name": "python3"
  },
  "language_info": {
   "codemirror_mode": {
    "name": "ipython",
    "version": 3
   },
   "file_extension": ".py",
   "mimetype": "text/x-python",
   "name": "python",
   "nbconvert_exporter": "python",
   "pygments_lexer": "ipython3",
   "version": "3.9.12"
  }
 },
 "nbformat": 4,
 "nbformat_minor": 5
}
