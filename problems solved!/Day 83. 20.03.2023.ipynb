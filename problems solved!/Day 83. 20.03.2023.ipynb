{
 "cells": [
  {
   "cell_type": "markdown",
   "id": "a9eb9bdc",
   "metadata": {},
   "source": [
    "# 184. Department Highest Salary\n",
    "\n",
    "medium\n",
    "\n",
    "https://leetcode.com/problems/department-highest-salary/description/\n",
    "    \n",
    "Write an SQL query to find employees who have the highest salary in each of the departments"
   ]
  },
  {
   "cell_type": "markdown",
   "id": "c849a873",
   "metadata": {},
   "source": [
    "select Department, Employee, salary from (\n",
    "    \n",
    "select d.name as Department, e.name as Employee, \n",
    "    \n",
    "dense_rank() over(partition by e.departmentId order by salary desc) salary_rank,\n",
    "\n",
    "salary\n",
    "    \n",
    "from employee e left join department d\n",
    "    \n",
    "on e.departmentID = d.id ) rankings\n",
    "\n",
    "where salary_rank = 1 "
   ]
  }
 ],
 "metadata": {
  "kernelspec": {
   "display_name": "Python 3 (ipykernel)",
   "language": "python",
   "name": "python3"
  },
  "language_info": {
   "codemirror_mode": {
    "name": "ipython",
    "version": 3
   },
   "file_extension": ".py",
   "mimetype": "text/x-python",
   "name": "python",
   "nbconvert_exporter": "python",
   "pygments_lexer": "ipython3",
   "version": "3.9.12"
  }
 },
 "nbformat": 4,
 "nbformat_minor": 5
}
