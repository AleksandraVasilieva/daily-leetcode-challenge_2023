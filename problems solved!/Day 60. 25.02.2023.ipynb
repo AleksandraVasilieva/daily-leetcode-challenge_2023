{
 "cells": [
  {
   "cell_type": "markdown",
   "id": "82ec968d",
   "metadata": {},
   "source": [
    "# 709. To Lower Case\n",
    "\n",
    "https://leetcode.com/problems/to-lower-case/description/\n",
    "\n",
    "Given a string s, return the string after replacing every uppercase letter with the same lowercase letter.\n",
    "\n",
    " \n",
    "\n",
    "Example 1:\n",
    "\n",
    "Input: s = \"Hello\"\n",
    "Output: \"hello\""
   ]
  },
  {
   "cell_type": "code",
   "execution_count": 1,
   "id": "625e60a9",
   "metadata": {},
   "outputs": [
    {
     "data": {
      "text/plain": [
       "'woiepiejffskefpwesldkfns'"
      ]
     },
     "execution_count": 1,
     "metadata": {},
     "output_type": "execute_result"
    }
   ],
   "source": [
    "s = 'woiePiejfFSKEFPWEsldkfns'\n",
    "s.lower()"
   ]
  }
 ],
 "metadata": {
  "kernelspec": {
   "display_name": "Python 3 (ipykernel)",
   "language": "python",
   "name": "python3"
  },
  "language_info": {
   "codemirror_mode": {
    "name": "ipython",
    "version": 3
   },
   "file_extension": ".py",
   "mimetype": "text/x-python",
   "name": "python",
   "nbconvert_exporter": "python",
   "pygments_lexer": "ipython3",
   "version": "3.9.12"
  }
 },
 "nbformat": 4,
 "nbformat_minor": 5
}
