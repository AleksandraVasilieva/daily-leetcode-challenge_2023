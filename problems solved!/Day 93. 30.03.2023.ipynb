{
 "cells": [
  {
   "cell_type": "markdown",
   "id": "4b2d850c",
   "metadata": {},
   "source": [
    "# 620. Not Boring Movies\n",
    "\n",
    "easy\n",
    "\n",
    "https://leetcode.com/problems/not-boring-movies/description/\n",
    "    \n",
    "Write an SQL query to report the movies with an odd-numbered ID and a description that is not \"boring\".\n",
    "\n",
    "Return the result table ordered by rating in descending order."
   ]
  },
  {
   "cell_type": "markdown",
   "id": "55e9c53c",
   "metadata": {},
   "source": [
    "select * from cinema\n",
    "\n",
    "where id % 2 = 1 and description <> ('boring')\n",
    "\n",
    "order by rating desc"
   ]
  }
 ],
 "metadata": {
  "kernelspec": {
   "display_name": "Python 3 (ipykernel)",
   "language": "python",
   "name": "python3"
  },
  "language_info": {
   "codemirror_mode": {
    "name": "ipython",
    "version": 3
   },
   "file_extension": ".py",
   "mimetype": "text/x-python",
   "name": "python",
   "nbconvert_exporter": "python",
   "pygments_lexer": "ipython3",
   "version": "3.9.12"
  }
 },
 "nbformat": 4,
 "nbformat_minor": 5
}
