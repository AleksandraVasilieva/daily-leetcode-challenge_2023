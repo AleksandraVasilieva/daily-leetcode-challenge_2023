{
 "cells": [
  {
   "cell_type": "markdown",
   "id": "6545a863",
   "metadata": {},
   "source": [
    "# 1979. Find Greatest Common Divisor of Array\n",
    "\n",
    "https://leetcode.com/problems/find-greatest-common-divisor-of-array/description/\n",
    "    \n",
    "Given an integer array nums, return the greatest common divisor of the smallest number and largest number in nums.\n",
    "\n",
    "The greatest common divisor of two numbers is the largest positive integer that evenly divides both numbers.\n",
    "\n",
    " \n",
    "\n",
    "Example 1:\n",
    "\n",
    "Input: nums = [2,5,6,9,10]\n",
    "Output: 2\n",
    "Explanation:\n",
    "The smallest number in nums is 2.\n",
    "The largest number in nums is 10.\n",
    "The greatest common divisor of 2 and 10 is 2."
   ]
  },
  {
   "cell_type": "code",
   "execution_count": 29,
   "id": "3269b1b3",
   "metadata": {},
   "outputs": [
    {
     "name": "stdout",
     "output_type": "stream",
     "text": [
      "4\n",
      "3\n",
      "2\n",
      "1\n"
     ]
    }
   ],
   "source": [
    "for i in range(4, 0, -1): # backpropagation!!!!!\n",
    "    print(i)"
   ]
  },
  {
   "cell_type": "code",
   "execution_count": 28,
   "id": "e3b84fe6",
   "metadata": {},
   "outputs": [
    {
     "data": {
      "text/plain": [
       "(1, 1, 5)"
      ]
     },
     "execution_count": 28,
     "metadata": {},
     "output_type": "execute_result"
    }
   ],
   "source": [
    "def divisor(nums):\n",
    "    mx = max(nums)\n",
    "    mn = min(nums)\n",
    "\n",
    "    for i in range(mn, 0, -1):\n",
    "        if mx % i == 0 and mn % i == 0:\n",
    "            return i\n",
    "        \n",
    "        \n",
    "divisor([1, 2, 3, 4, 5]), divisor([3, 9, 16]), divisor([5, 25, 7, 14])"
   ]
  },
  {
   "cell_type": "markdown",
   "id": "3c817276",
   "metadata": {},
   "source": [
    "### sneaky solution"
   ]
  },
  {
   "cell_type": "code",
   "execution_count": 14,
   "id": "568d957d",
   "metadata": {},
   "outputs": [
    {
     "data": {
      "text/plain": [
       "25"
      ]
     },
     "execution_count": 14,
     "metadata": {},
     "output_type": "execute_result"
    }
   ],
   "source": [
    "import math\n",
    "\n",
    "nums = [25, 71, 90, 100]\n",
    "\n",
    "math.gcd(min(nums), max(nums))"
   ]
  },
  {
   "cell_type": "markdown",
   "id": "eee9c4b3",
   "metadata": {},
   "source": [
    "## average euclidean algorithm enjoyer"
   ]
  },
  {
   "cell_type": "code",
   "execution_count": 23,
   "id": "38f11d2c",
   "metadata": {},
   "outputs": [
    {
     "data": {
      "text/plain": [
       "1"
      ]
     },
     "execution_count": 23,
     "metadata": {},
     "output_type": "execute_result"
    }
   ],
   "source": [
    "a = 5 # min element\n",
    "b = 27 # max element\n",
    "\n",
    "while b: # MAX ELEMENT FIRST\n",
    "    if a == 0 or b == 0:\n",
    "        print('zero')\n",
    "    if a > b:\n",
    "        a = a % b\n",
    "    if b > a:\n",
    "        b = b % a\n",
    "    \n",
    "a # RETURN ALTERED MIN ELEMENT"
   ]
  },
  {
   "cell_type": "markdown",
   "id": "e69e5022",
   "metadata": {},
   "source": [
    "# Cool-programmed Euclid"
   ]
  },
  {
   "cell_type": "code",
   "execution_count": 2,
   "id": "0f9792fb",
   "metadata": {},
   "outputs": [
    {
     "data": {
      "text/plain": [
       "5"
      ]
     },
     "execution_count": 2,
     "metadata": {},
     "output_type": "execute_result"
    }
   ],
   "source": [
    "nums = [5, 67, 100]\n",
    "\n",
    "gcd = lambda a, b: a if b == 0 else gcd(b, a % b)\n",
    "\n",
    "gcd(max(nums), min(nums))"
   ]
  },
  {
   "cell_type": "code",
   "execution_count": 5,
   "id": "721461a5",
   "metadata": {},
   "outputs": [
    {
     "data": {
      "text/plain": [
       "5"
      ]
     },
     "execution_count": 5,
     "metadata": {},
     "output_type": "execute_result"
    }
   ],
   "source": [
    "gcd = lambda max_el, min_el: max_el if min_el == 0 else gcd(min_el, max_el % min_el)\n",
    "\n",
    "nums = [5, 67, 100]\n",
    "\n",
    "gcd(max(nums), min(nums))"
   ]
  }
 ],
 "metadata": {
  "kernelspec": {
   "display_name": "Python 3 (ipykernel)",
   "language": "python",
   "name": "python3"
  },
  "language_info": {
   "codemirror_mode": {
    "name": "ipython",
    "version": 3
   },
   "file_extension": ".py",
   "mimetype": "text/x-python",
   "name": "python",
   "nbconvert_exporter": "python",
   "pygments_lexer": "ipython3",
   "version": "3.9.12"
  }
 },
 "nbformat": 4,
 "nbformat_minor": 5
}
