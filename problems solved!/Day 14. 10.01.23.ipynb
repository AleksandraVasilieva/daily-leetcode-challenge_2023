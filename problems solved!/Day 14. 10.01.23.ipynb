{
 "cells": [
  {
   "cell_type": "markdown",
   "id": "380fd208",
   "metadata": {},
   "source": [
    "# 100. Same Tree\n",
    "\n",
    "https://leetcode.com/problems/same-tree/description/\n",
    "\n",
    "Given the roots of two binary trees p and q, write a function to check if they are the same or not.\n",
    "\n",
    "Two binary trees are considered the same if they are structurally identical, and the nodes have the same value.\n",
    "\n",
    "\n",
    "Example 1:\n",
    "\n",
    "\n",
    "Input: p = [1,2,3], q = [1,2,3]\n",
    "Output: true\n",
    "Example 2:\n",
    "\n",
    "\n",
    "Input: p = [1,2], q = [1,null,2]\n",
    "Output: false\n",
    "Example 3:\n",
    "\n",
    "\n",
    "Input: p = [1,2,1], q = [1,1,2]\n",
    "Output: false"
   ]
  },
  {
   "cell_type": "code",
   "execution_count": null,
   "id": "11288bce",
   "metadata": {},
   "outputs": [],
   "source": [
    "# Definition for a binary tree node.\n",
    "# class TreeNode:\n",
    "#     def __init__(self, val=0, left=None, right=None):\n",
    "#         self.val = val\n",
    "#         self.left = left\n",
    "#         self.right = right\n",
    "class Solution:\n",
    "    def isSameTree(self, p: Optional[TreeNode], q: Optional[TreeNode]) -> bool:\n",
    "        def check(p, q):\n",
    "            if p is None and q is None :\n",
    "                return True\n",
    "            if p is None or q is None :\n",
    "                return False\n",
    "            if p.val != q.val:\n",
    "                return False\n",
    "            return p.val == q.val and check(p.left, q.left) and check(p.right, q.right) \n",
    "        return check(p, q)"
   ]
  },
  {
   "cell_type": "markdown",
   "id": "300c0558",
   "metadata": {},
   "source": [
    "Although the following code would be simpler:"
   ]
  },
  {
   "cell_type": "code",
   "execution_count": null,
   "id": "a53c1729",
   "metadata": {},
   "outputs": [],
   "source": [
    "# Definition for a binary tree node.\n",
    "# class TreeNode:\n",
    "#     def __init__(self, val=0, left=None, right=None):\n",
    "#         self.val = val\n",
    "#         self.left = left\n",
    "#         self.right = right\n",
    "class Solution:\n",
    "    def isSameTree(self, p: Optional[TreeNode], q: Optional[TreeNode]) -> bool:\n",
    "        def check(p, q):\n",
    "            if p == None or q == None:\n",
    "                return p == q\n",
    "            return p.val == q.val and check(p.left, q.left) and check(p.right, q.right)\n",
    "        return check(p, q)"
   ]
  },
  {
   "cell_type": "markdown",
   "id": "f7a998b7",
   "metadata": {},
   "source": [
    "Sum of all elements of a tree would look the same: recursive function\n",
    "\n",
    "https://www.youtube.com/watch?v=1-l_UOFi1Xw&ab_channel=CSDojo"
   ]
  },
  {
   "cell_type": "code",
   "execution_count": 2,
   "id": "0c8b6b0b",
   "metadata": {},
   "outputs": [],
   "source": [
    "def tree_sum(p):\n",
    "    if p is None:\n",
    "        return 0\n",
    "    return p.val + tree_sum(p.left) + tree_sum(p.right)"
   ]
  }
 ],
 "metadata": {
  "kernelspec": {
   "display_name": "Python 3 (ipykernel)",
   "language": "python",
   "name": "python3"
  },
  "language_info": {
   "codemirror_mode": {
    "name": "ipython",
    "version": 3
   },
   "file_extension": ".py",
   "mimetype": "text/x-python",
   "name": "python",
   "nbconvert_exporter": "python",
   "pygments_lexer": "ipython3",
   "version": "3.9.12"
  }
 },
 "nbformat": 4,
 "nbformat_minor": 5
}
