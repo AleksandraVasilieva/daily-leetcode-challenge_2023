{
 "cells": [
  {
   "cell_type": "markdown",
   "id": "44069257",
   "metadata": {},
   "source": [
    "# Day 1 of Leetcode Daily challenge"
   ]
  },
  {
   "cell_type": "markdown",
   "id": "dc849a9c",
   "metadata": {},
   "source": [
    "## 1480. Running Sum of 1d Array\n",
    "\n",
    "Given an array nums. We define a running sum of an array as runningSum[i] = sum(nums[0]…nums[i]).\n",
    "\n",
    "Return the running sum of nums.\n",
    "\n",
    " \n",
    "Example 1:\n",
    "\n",
    "Input: nums = [1,2,3,4]\n",
    "Output: [1,3,6,10]\n",
    "Explanation: Running sum is obtained as follows: [1, 1+2, 1+2+3, 1+2+3+4].\n",
    "\n",
    "Example 2:\n",
    "\n",
    "Input: nums = [1,1,1,1,1]\n",
    "Output: [1,2,3,4,5]\n",
    "Explanation: Running sum is obtained as follows: [1, 1+1, 1+1+1, 1+1+1+1, 1+1+1+1+1].\n",
    "\n",
    "Example 3:\n",
    "\n",
    "Input: nums = [3,1,2,10,1]\n",
    "Output: [3,4,6,16,17]"
   ]
  },
  {
   "cell_type": "markdown",
   "id": "3f134b5d",
   "metadata": {},
   "source": [
    "### Solving with O(n^2)"
   ]
  },
  {
   "cell_type": "code",
   "execution_count": 21,
   "id": "00bf5658",
   "metadata": {},
   "outputs": [
    {
     "name": "stdout",
     "output_type": "stream",
     "text": [
      "[3, 4, 6, 16, 17]\n"
     ]
    }
   ],
   "source": [
    "nums = [3, 1, 2, 10, 1]\n",
    "answer = []\n",
    "\n",
    "# my idea: get all 'last' indexes of an array \n",
    "#so that I can can consider them as last elements of a subarray\n",
    "for last in range(0, len(nums)):\n",
    "    sums = 0\n",
    "    for element in nums[:last+1]:\n",
    "        sums += element\n",
    "    answer.append(sums)\n",
    "print(answer)\n",
    "\n",
    "# estimated complexity: for each element there are n steps to obtain the sum. therefore O(n^2)"
   ]
  },
  {
   "cell_type": "code",
   "execution_count": 28,
   "id": "f9be3980",
   "metadata": {},
   "outputs": [
    {
     "data": {
      "text/plain": [
       "[3, 4, 6, 16, 17]"
      ]
     },
     "execution_count": 28,
     "metadata": {},
     "output_type": "execute_result"
    }
   ],
   "source": [
    "def running_sum(nums):\n",
    "        a = []\n",
    "        for last in range(0, len(nums)):\n",
    "            sums = 0\n",
    "            for element in nums[:last+1]:\n",
    "                sums += element\n",
    "            a.append(sums)\n",
    "        return a\n",
    "running_sum(nums=[3, 1, 2, 10, 1])"
   ]
  },
  {
   "cell_type": "code",
   "execution_count": 15,
   "id": "a7f10347",
   "metadata": {},
   "outputs": [],
   "source": [
    "class Solution:\n",
    "    def runningSum(self,nums):\n",
    "        answer = []\n",
    "        for last in range(0, len(nums)):\n",
    "            sums = 0\n",
    "            for element in nums[:last+1]:\n",
    "                sums += element\n",
    "            answer.append(sums)\n",
    "        return answer"
   ]
  },
  {
   "cell_type": "markdown",
   "id": "0f9bb0ae",
   "metadata": {},
   "source": [
    "### Solving with O(n)"
   ]
  },
  {
   "cell_type": "code",
   "execution_count": 42,
   "id": "14cc7741",
   "metadata": {},
   "outputs": [
    {
     "name": "stdout",
     "output_type": "stream",
     "text": [
      "[3, 4, 6, 16, 17]\n"
     ]
    }
   ],
   "source": [
    "nums = [3, 1, 2, 10, 1]\n",
    "answer = []\n",
    "\n",
    "# my idea: for every element previos running sum already exists\n",
    "for last in range(0, len(nums)):\n",
    "    if len(answer) == 0:\n",
    "        subanswer = nums[last]\n",
    "        answer.append(subanswer)\n",
    "    else:\n",
    "        subanswer = nums[last] + answer[-1]\n",
    "        answer.append(subanswer)\n",
    "    \n",
    "print(answer)"
   ]
  },
  {
   "cell_type": "code",
   "execution_count": 43,
   "id": "b35bd64e",
   "metadata": {},
   "outputs": [],
   "source": [
    "class Solution:\n",
    "    def runningSum(self,nums):\n",
    "        answer = []\n",
    "        for last in range(0, len(nums)):\n",
    "            if len(answer) == 0:\n",
    "                subanswer = nums[last]\n",
    "                answer.append(subanswer)\n",
    "            else:\n",
    "                subanswer = nums[last] + answer[-1]\n",
    "                answer.append(subanswer)\n",
    "        return answer"
   ]
  },
  {
   "cell_type": "markdown",
   "id": "b07d79e6",
   "metadata": {},
   "source": [
    "# 724. Find Pivot Index\n",
    "Easy\n",
    "5.7K\n",
    "603\n",
    "Companies\n",
    "Given an array of integers nums, calculate the pivot index of this array.\n",
    "\n",
    "The pivot index is the index where the sum of all the numbers strictly to the left of the index is equal to the sum of all the numbers strictly to the index's right.\n",
    "\n",
    "If the index is on the left edge of the array, then the left sum is 0 because there are no elements to the left. This also applies to the right edge of the array.\n",
    "\n",
    "Return the leftmost pivot index. If no such index exists, return -1.\n",
    "\n",
    " \n",
    "\n",
    "Example 1:\n",
    "\n",
    "Input: nums = [1,7,3,6,5,6]\n",
    "Output: 3\n",
    "Explanation:\n",
    "The pivot index is 3.\n",
    "Left sum = nums[0] + nums[1] + nums[2] = 1 + 7 + 3 = 11\n",
    "Right sum = nums[4] + nums[5] = 5 + 6 = 11\n",
    "Example 2:\n",
    "\n",
    "Input: nums = [1,2,3]\n",
    "Output: -1\n",
    "Explanation:\n",
    "There is no index that satisfies the conditions in the problem statement.\n",
    "Example 3:\n",
    "\n",
    "Input: nums = [2,1,-1]\n",
    "Output: 0\n",
    "Explanation:\n",
    "The pivot index is 0.\n",
    "Left sum = 0 (no elements to the left of index 0)\n",
    "Right sum = nums[1] + nums[2] = 1 + -1 = 0\n",
    " \n",
    "\n",
    "Constraints:\n",
    "\n",
    "1 <= nums.length <= 104\n",
    "-1000 <= nums[i] <= 1000\n",
    " \n",
    "\n",
    "Note: This question is the same as 1991: https://leetcode.com/problems/find-the-middle-index-in-array/"
   ]
  },
  {
   "cell_type": "code",
   "execution_count": 63,
   "id": "a9ef5cf7",
   "metadata": {},
   "outputs": [
    {
     "name": "stdout",
     "output_type": "stream",
     "text": [
      "3\n"
     ]
    }
   ],
   "source": [
    "# 1. Correct, but doesn't pass the time limit\n",
    "nums = [1,7,3,6,5,6]\n",
    "#nums = [1,2,3]\n",
    "answer = []\n",
    "for index in range(0, len(nums)):\n",
    "    right_indexes = range(index+1, len(nums))\n",
    "    left_indexes = range(0, index)\n",
    "    left_sum = 0\n",
    "    right_sum = 0\n",
    "    for i in left_indexes:\n",
    "        left_sum += nums[i]\n",
    "    for i in right_indexes:\n",
    "        right_sum += nums[i]\n",
    "    if left_sum == right_sum:\n",
    "        answer.append(index)\n",
    "        break\n",
    "if len(answer)>0:\n",
    "    print(answer[0])\n",
    "else:\n",
    "    print(-1)"
   ]
  },
  {
   "cell_type": "code",
   "execution_count": 87,
   "id": "5cccaca1",
   "metadata": {},
   "outputs": [
    {
     "name": "stdout",
     "output_type": "stream",
     "text": [
      "3\n"
     ]
    }
   ],
   "source": [
    "#2. # 1. Correct, but doesn't pass the time limit\n",
    "nums = [1,7,3,6,5,6]\n",
    "#nums = [1,2,3]\n",
    "#nums = [2,1,-1]\n",
    "answer = []\n",
    "for index in range(0, len(nums)):\n",
    "    l = 0\n",
    "    r = 0\n",
    "    for index2 in range(0, len(nums)):\n",
    "        if index2>index:\n",
    "            r += nums[index2]\n",
    "        if index2<index:\n",
    "            l += nums[index2]\n",
    "    if l == r:\n",
    "        answer.append(index)\n",
    "        break\n",
    "if len(answer) >0:\n",
    "    answer = answer[0]\n",
    "else:\n",
    "    answer = -1\n",
    "print(answer)"
   ]
  },
  {
   "cell_type": "code",
   "execution_count": 103,
   "id": "2179054c",
   "metadata": {},
   "outputs": [
    {
     "name": "stdout",
     "output_type": "stream",
     "text": [
      "1 28 0\n",
      "8 27 1\n",
      "11 20 2\n",
      "17 17 3\n",
      "3\n",
      "22 11 4\n",
      "28 6 5\n"
     ]
    }
   ],
   "source": [
    "#3. correct! another approach is used\n",
    "# the idea is following:\n",
    "# everything that is not before is after\n",
    "nums = [1,7,3,6,5,6]\n",
    "sums = sum(nums)\n",
    "left = 0\n",
    "right = 0\n",
    "for index in range(0, len(nums)):\n",
    "    right = sums - left\n",
    "    left += nums[index]\n",
    "    #print(left, right, index)\n",
    "    if left == right:\n",
    "        print(index)"
   ]
  },
  {
   "cell_type": "code",
   "execution_count": null,
   "id": "6b7173ac",
   "metadata": {},
   "outputs": [],
   "source": [
    "# the solution, beats 93% of solutions\n",
    "class Solution:\n",
    "    def pivotIndex(self, nums):\n",
    "        answer = -1\n",
    "        sums = sum(nums)\n",
    "        left = 0\n",
    "        right = 0\n",
    "        for index in range(0, len(nums)):\n",
    "            right = sums - left\n",
    "            left += nums[index]\n",
    "            #print(left, right, index)\n",
    "            if left == right:\n",
    "                answer = index\n",
    "                break\n",
    "        return answer"
   ]
  }
 ],
 "metadata": {
  "kernelspec": {
   "display_name": "Python 3 (ipykernel)",
   "language": "python",
   "name": "python3"
  },
  "language_info": {
   "codemirror_mode": {
    "name": "ipython",
    "version": 3
   },
   "file_extension": ".py",
   "mimetype": "text/x-python",
   "name": "python",
   "nbconvert_exporter": "python",
   "pygments_lexer": "ipython3",
   "version": "3.9.12"
  }
 },
 "nbformat": 4,
 "nbformat_minor": 5
}
