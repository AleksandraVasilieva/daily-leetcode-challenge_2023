{
 "cells": [
  {
   "cell_type": "markdown",
   "id": "149e43b5",
   "metadata": {},
   "source": [
    "# Day 1 of Leetcode Daily challenge"
   ]
  },
  {
   "cell_type": "markdown",
   "id": "5aef737e",
   "metadata": {},
   "source": [
    "## 1480. Running Sum of 1d Array\n",
    "\n",
    "Given an array nums. We define a running sum of an array as runningSum[i] = sum(nums[0]…nums[i]).\n",
    "\n",
    "Return the running sum of nums.\n",
    "\n",
    " \n",
    "Example 1:\n",
    "\n",
    "Input: nums = [1,2,3,4]\n",
    "Output: [1,3,6,10]\n",
    "Explanation: Running sum is obtained as follows: [1, 1+2, 1+2+3, 1+2+3+4].\n",
    "\n",
    "Example 2:\n",
    "\n",
    "Input: nums = [1,1,1,1,1]\n",
    "Output: [1,2,3,4,5]\n",
    "Explanation: Running sum is obtained as follows: [1, 1+1, 1+1+1, 1+1+1+1, 1+1+1+1+1].\n",
    "\n",
    "Example 3:\n",
    "\n",
    "Input: nums = [3,1,2,10,1]\n",
    "Output: [3,4,6,16,17]"
   ]
  },
  {
   "cell_type": "markdown",
   "id": "b817e5dd",
   "metadata": {},
   "source": [
    "### Solving with O(n^2)"
   ]
  },
  {
   "cell_type": "code",
   "execution_count": 21,
   "id": "03aad9cc",
   "metadata": {},
   "outputs": [
    {
     "name": "stdout",
     "output_type": "stream",
     "text": [
      "[3, 4, 6, 16, 17]\n"
     ]
    }
   ],
   "source": [
    "nums = [3, 1, 2, 10, 1]\n",
    "answer = []\n",
    "\n",
    "# my idea: get all 'last' indexes of an array \n",
    "#so that I can can consider them as last elements of a subarray\n",
    "for last in range(0, len(nums)):\n",
    "    sums = 0\n",
    "    for element in nums[:last+1]:\n",
    "        sums += element\n",
    "    answer.append(sums)\n",
    "print(answer)\n",
    "\n",
    "# estimated complexity: for each element there are n steps to obtain the sum. therefore O(n^2)"
   ]
  },
  {
   "cell_type": "code",
   "execution_count": 28,
   "id": "d6d94ee3",
   "metadata": {},
   "outputs": [
    {
     "data": {
      "text/plain": [
       "[3, 4, 6, 16, 17]"
      ]
     },
     "execution_count": 28,
     "metadata": {},
     "output_type": "execute_result"
    }
   ],
   "source": [
    "def running_sum(nums):\n",
    "        a = []\n",
    "        for last in range(0, len(nums)):\n",
    "            sums = 0\n",
    "            for element in nums[:last+1]:\n",
    "                sums += element\n",
    "            a.append(sums)\n",
    "        return a\n",
    "running_sum(nums=[3, 1, 2, 10, 1])"
   ]
  },
  {
   "cell_type": "code",
   "execution_count": 15,
   "id": "33c596db",
   "metadata": {},
   "outputs": [],
   "source": [
    "class Solution:\n",
    "    def runningSum(self,nums):\n",
    "        answer = []\n",
    "        for last in range(0, len(nums)):\n",
    "            sums = 0\n",
    "            for element in nums[:last+1]:\n",
    "                sums += element\n",
    "            answer.append(sums)\n",
    "        return answer"
   ]
  },
  {
   "cell_type": "markdown",
   "id": "3b972d28",
   "metadata": {},
   "source": [
    "### Solving with O(n)"
   ]
  },
  {
   "cell_type": "code",
   "execution_count": 42,
   "id": "8d765e67",
   "metadata": {},
   "outputs": [
    {
     "name": "stdout",
     "output_type": "stream",
     "text": [
      "[3, 4, 6, 16, 17]\n"
     ]
    }
   ],
   "source": [
    "nums = [3, 1, 2, 10, 1]\n",
    "answer = []\n",
    "\n",
    "# my idea: for every element previos running sum already exists\n",
    "for last in range(0, len(nums)):\n",
    "    if len(answer) == 0:\n",
    "        subanswer = nums[last]\n",
    "        answer.append(subanswer)\n",
    "    else:\n",
    "        subanswer = nums[last] + answer[-1]\n",
    "        answer.append(subanswer)\n",
    "    \n",
    "print(answer)"
   ]
  },
  {
   "cell_type": "code",
   "execution_count": 43,
   "id": "390e659c",
   "metadata": {},
   "outputs": [],
   "source": [
    "class Solution:\n",
    "    def runningSum(self,nums):\n",
    "        answer = []\n",
    "        for last in range(0, len(nums)):\n",
    "            if len(answer) == 0:\n",
    "                subanswer = nums[last]\n",
    "                answer.append(subanswer)\n",
    "            else:\n",
    "                subanswer = nums[last] + answer[-1]\n",
    "                answer.append(subanswer)\n",
    "        return answer"
   ]
  },
  {
   "cell_type": "code",
   "execution_count": null,
   "id": "8457cd73",
   "metadata": {},
   "outputs": [],
   "source": []
  },
  {
   "cell_type": "code",
   "execution_count": null,
   "id": "78d19692",
   "metadata": {},
   "outputs": [],
   "source": []
  }
 ],
 "metadata": {
  "kernelspec": {
   "display_name": "Python 3 (ipykernel)",
   "language": "python",
   "name": "python3"
  },
  "language_info": {
   "codemirror_mode": {
    "name": "ipython",
    "version": 3
   },
   "file_extension": ".py",
   "mimetype": "text/x-python",
   "name": "python",
   "nbconvert_exporter": "python",
   "pygments_lexer": "ipython3",
   "version": "3.9.12"
  }
 },
 "nbformat": 4,
 "nbformat_minor": 5
}
