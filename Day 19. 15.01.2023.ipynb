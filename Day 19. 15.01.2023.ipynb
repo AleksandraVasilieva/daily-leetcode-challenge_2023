{
 "cells": [
  {
   "cell_type": "markdown",
   "id": "b8bb4209",
   "metadata": {},
   "source": [
    "# 35. Search Insert Position\n",
    "\n",
    "https://leetcode.com/problems/search-insert-position/\n",
    "\n",
    "Given a sorted array of distinct integers and a target value, return the index if the target is found. If not, return the index where it would be if it were inserted in order.\n",
    "\n",
    "You must write an algorithm with O(log n) runtime complexity.\n",
    "\n",
    " \n",
    "\n",
    "Example 1:\n",
    "\n",
    "Input: nums = [1,3,5,6], target = 5\n",
    "Output: 2\n",
    "\n",
    "Example 2:\n",
    "\n",
    "Input: nums = [1,3,5,6], target = 2\n",
    "Output: 1\n",
    "\n",
    "Example 3:\n",
    "\n",
    "Input: nums = [1,3,5,6], target = 7\n",
    "Output: 4"
   ]
  },
  {
   "cell_type": "code",
   "execution_count": 40,
   "id": "dfbb6b3d",
   "metadata": {},
   "outputs": [
    {
     "data": {
      "text/plain": [
       "1"
      ]
     },
     "execution_count": 40,
     "metadata": {},
     "output_type": "execute_result"
    }
   ],
   "source": [
    "nums = [1,3,5,6]\n",
    "target = 2\n",
    "\n",
    "start = 0\n",
    "finish = len(nums)\n",
    "\n",
    "def binary(nums, target, start, finish):\n",
    "    if start < finish:\n",
    "        current = (start+finish) // 2\n",
    "        if nums[current] > target:\n",
    "            if (nums[current - 1] < target) or (current == 0):\n",
    "                return current\n",
    "            else: \n",
    "                finish = current - 1\n",
    "                return binary(nums, target, start, finish)\n",
    "        else:\n",
    "            start = current + 1\n",
    "            return binary(nums, target, start, finish)\n",
    "    if start == finish:\n",
    "        return finish\n",
    "    else:\n",
    "        return len(nums)\n",
    "    \n",
    "binary(nums, target, start, finish)"
   ]
  },
  {
   "cell_type": "markdown",
   "id": "49f6ead5",
   "metadata": {},
   "source": [
    "### Correct"
   ]
  },
  {
   "cell_type": "code",
   "execution_count": 46,
   "id": "5efefa50",
   "metadata": {},
   "outputs": [
    {
     "data": {
      "text/plain": [
       "2"
      ]
     },
     "execution_count": 46,
     "metadata": {},
     "output_type": "execute_result"
    }
   ],
   "source": [
    "nums = [1,3,5,6]\n",
    "target = 5\n",
    "        \n",
    "def search(nums, target):\n",
    "            \n",
    "        start = 0\n",
    "        finish = len(nums)\n",
    "        \n",
    "        def binary(nums, target, start, finish):\n",
    "            if start < finish:\n",
    "                current = (start+finish) // 2\n",
    "                if nums[current] > target:\n",
    "                    if (nums[current - 1] < target) or (current == 0):\n",
    "                        return current\n",
    "                    else: \n",
    "                        finish = current - 1\n",
    "                        return binary(nums, target, start, finish)\n",
    "                if nums[current] == target:\n",
    "                    return current\n",
    "                else:\n",
    "                    start = current + 1\n",
    "                    return binary(nums, target, start, finish)\n",
    "            if start == finish:\n",
    "                return start\n",
    "            else:\n",
    "                return len(nums)\n",
    "\n",
    "        return binary(nums, target, start, finish)\n",
    "\n",
    "search(nums, target)"
   ]
  },
  {
   "cell_type": "code",
   "execution_count": null,
   "id": "90ceadfc",
   "metadata": {},
   "outputs": [],
   "source": []
  }
 ],
 "metadata": {
  "kernelspec": {
   "display_name": "Python 3 (ipykernel)",
   "language": "python",
   "name": "python3"
  },
  "language_info": {
   "codemirror_mode": {
    "name": "ipython",
    "version": 3
   },
   "file_extension": ".py",
   "mimetype": "text/x-python",
   "name": "python",
   "nbconvert_exporter": "python",
   "pygments_lexer": "ipython3",
   "version": "3.9.12"
  }
 },
 "nbformat": 4,
 "nbformat_minor": 5
}
